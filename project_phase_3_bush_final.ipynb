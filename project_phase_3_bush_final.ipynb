{
  "nbformat": 4,
  "nbformat_minor": 0,
  "metadata": {
    "colab": {
      "name": "project_phase_3_bush_final.ipynb",
      "version": "0.3.2",
      "provenance": [],
      "collapsed_sections": []
    },
    "kernelspec": {
      "name": "python3",
      "display_name": "Python 3"
    },
    "accelerator": "GPU"
  },
  "cells": [
    {
      "metadata": {
        "id": "tzwEs7uo9TJl",
        "colab_type": "code",
        "outputId": "d36cb8be-3fab-4657-f98e-ba9c997e6152",
        "colab": {
          "base_uri": "https://localhost:8080/",
          "height": 35
        }
      },
      "cell_type": "code",
      "source": [
        "import pandas as pd\n",
        "import numpy as np\n",
        "import keras\n",
        "# from sklearn.model_selection import train_test_split\n",
        "from sklearn.pipeline import Pipeline\n",
        "from sklearn.neighbors import KNeighborsClassifier\n",
        "from sklearn.model_selection import cross_validate, StratifiedKFold, train_test_split\n",
        "from sklearn.decomposition import PCA\n",
        "from sklearn.model_selection import GridSearchCV\n",
        "from sklearn.metrics import f1_score\n",
        "# from sklearn.svm import SVC\n",
        "from keras.models import Sequential\n",
        "from keras.layers import Dense, Dropout, Flatten\n",
        "from keras.layers import Conv2D, MaxPooling2D\n",
        "import pickle\n",
        "import time\n",
        "import tensorflow as tf"
      ],
      "execution_count": 0,
      "outputs": [
        {
          "output_type": "stream",
          "text": [
            "Using TensorFlow backend.\n"
          ],
          "name": "stderr"
        }
      ]
    },
    {
      "metadata": {
        "id": "3aQdk5rwjllP",
        "colab_type": "code",
        "outputId": "9eb154f2-aaa9-45c3-dda9-bd498a99dfbd",
        "colab": {
          "base_uri": "https://localhost:8080/",
          "height": 35
        }
      },
      "cell_type": "code",
      "source": [
        "from google.colab import drive\n",
        "drive.mount('/content/gdrive')"
      ],
      "execution_count": 0,
      "outputs": [
        {
          "output_type": "stream",
          "text": [
            "Drive already mounted at /content/gdrive; to attempt to forcibly remount, call drive.mount(\"/content/gdrive\", force_remount=True).\n"
          ],
          "name": "stdout"
        }
      ]
    },
    {
      "metadata": {
        "id": "Tb5C0ZXaFd0c",
        "colab_type": "code",
        "colab": {}
      },
      "cell_type": "code",
      "source": [
        "def f1(y_true, y_pred):\n",
        "    y_pred = np.rint(y_pred)\n",
        "    tp = sum(y_true*y_pred)\n",
        "    tn = sum((1-y_true)*(1-y_pred))\n",
        "    fp = sum((1-y_true)*y_pred)\n",
        "    fn = sum(y_true*(1-y_pred))\n",
        "\n",
        "    p = tp / (tp + fp )\n",
        "    r = tp / (tp + fn )\n",
        "\n",
        "    f1 = 2*p*r / (p+r)\n",
        "    return f1"
      ],
      "execution_count": 0,
      "outputs": []
    },
    {
      "metadata": {
        "id": "5xVkwcGNwUPv",
        "colab_type": "code",
        "colab": {}
      },
      "cell_type": "code",
      "source": [
        "#def f1_loss(y_true, y_pred):\n",
        "#    \n",
        "#    tp = K.sum(K.cast(y_true*y_pred, 'float'), axis=0)\n",
        "#    tn = K.sum(K.cast((1-y_true)*(1-y_pred), 'float'), axis=0)\n",
        "#    fp = K.sum(K.cast((1-y_true)*y_pred, 'float'), axis=0)\n",
        "#    fn = K.sum(K.cast(y_true*(1-y_pred), 'float'), axis=0)\n",
        "#\n",
        "#    p = tp / (tp + fp + K.epsilon())\n",
        "#    r = tp / (tp + fn + K.epsilon())\n",
        "#\n",
        "#    f1 = 2*p*r / (p+r+K.epsilon())\n",
        "#    f1 = tf.where(tf.is_nan(f1), tf.zeros_like(f1), f1)\n",
        "#    return  1 - K.mean(f1)"
      ],
      "execution_count": 0,
      "outputs": []
    },
    {
      "metadata": {
        "id": "mO205qFBjmwn",
        "colab_type": "code",
        "outputId": "6bcdb7bc-1134-4093-e4ab-2d8497fa68fc",
        "colab": {
          "base_uri": "https://localhost:8080/",
          "height": 35
        }
      },
      "cell_type": "code",
      "source": [
        "start_time = time.time()\n",
        "y = pd.read_csv(\"/content/gdrive/My Drive/data/y_bush_vs_others.csv\", header= None)\n",
        "y_bush = y.values.ravel()\n",
        "y = pd.read_csv(\"/content/gdrive/My Drive/data/y_williams_vs_others.csv\", header= None)\n",
        "y_williams = y.values.ravel()\n",
        "print(\"--- %s seconds ---\" % (time.time() - start_time))"
      ],
      "execution_count": 0,
      "outputs": [
        {
          "output_type": "stream",
          "text": [
            "--- 0.019988059997558594 seconds ---\n"
          ],
          "name": "stdout"
        }
      ]
    },
    {
      "metadata": {
        "id": "NVOh0O_ojqFG",
        "colab_type": "code",
        "outputId": "1ab114be-9b06-4275-ae00-c8c41d40b92e",
        "colab": {
          "base_uri": "https://localhost:8080/",
          "height": 35
        }
      },
      "cell_type": "code",
      "source": [
        "start_time = time.time()\n",
        "X = pd.read_csv(\"/content/gdrive/My Drive/data/X.csv\", sep=' ', header= None, dtype= float)\n",
        "X = X.values\n",
        "print(\"--- %s seconds ---\" % (time.time() - start_time))"
      ],
      "execution_count": 0,
      "outputs": [
        {
          "output_type": "stream",
          "text": [
            "--- 24.694132089614868 seconds ---\n"
          ],
          "name": "stdout"
        }
      ]
    },
    {
      "metadata": {
        "id": "byJXDS2Tj2gx",
        "colab_type": "code",
        "colab": {}
      },
      "cell_type": "code",
      "source": [
        "X_train, X_test, y_bush_train, y_bush_test = train_test_split(X,y_bush, test_size=1./3, random_state = 6926, shuffle = True, stratify = y_bush)"
      ],
      "execution_count": 0,
      "outputs": []
    },
    {
      "metadata": {
        "id": "c-J2xvqOuo7u",
        "colab_type": "code",
        "outputId": "1a04ade4-e92a-418e-f8c3-3dee3da1794e",
        "colab": {
          "base_uri": "https://localhost:8080/",
          "height": 35
        }
      },
      "cell_type": "code",
      "source": [
        "X_train.shape"
      ],
      "execution_count": 0,
      "outputs": [
        {
          "output_type": "execute_result",
          "data": {
            "text/plain": [
              "(8822, 4096)"
            ]
          },
          "metadata": {
            "tags": []
          },
          "execution_count": 8
        }
      ]
    },
    {
      "metadata": {
        "id": "MoHHNBJ7uo_K",
        "colab_type": "code",
        "outputId": "e60cc2b7-9c7a-4f70-84cc-8ffe39537ba0",
        "colab": {
          "base_uri": "https://localhost:8080/",
          "height": 35
        }
      },
      "cell_type": "code",
      "source": [
        "X_test.shape"
      ],
      "execution_count": 0,
      "outputs": [
        {
          "output_type": "execute_result",
          "data": {
            "text/plain": [
              "(4411, 4096)"
            ]
          },
          "metadata": {
            "tags": []
          },
          "execution_count": 9
        }
      ]
    },
    {
      "metadata": {
        "id": "ba9Le0KNupDH",
        "colab_type": "code",
        "outputId": "3de686ee-2cca-4d4b-e471-90e0064781c6",
        "colab": {
          "base_uri": "https://localhost:8080/",
          "height": 35
        }
      },
      "cell_type": "code",
      "source": [
        "X.shape"
      ],
      "execution_count": 0,
      "outputs": [
        {
          "output_type": "execute_result",
          "data": {
            "text/plain": [
              "(13233, 4096)"
            ]
          },
          "metadata": {
            "tags": []
          },
          "execution_count": 10
        }
      ]
    },
    {
      "metadata": {
        "id": "XjkzqijEupGa",
        "colab_type": "code",
        "colab": {}
      },
      "cell_type": "code",
      "source": [
        "X_train = X_train.reshape(8822,64,64,1)"
      ],
      "execution_count": 0,
      "outputs": []
    },
    {
      "metadata": {
        "id": "aTjwNWxEupJy",
        "colab_type": "code",
        "colab": {}
      },
      "cell_type": "code",
      "source": [
        "X_test = X_test.reshape(4411,64,64,1)"
      ],
      "execution_count": 0,
      "outputs": []
    },
    {
      "metadata": {
        "id": "54fksOGdSjfT",
        "colab_type": "code",
        "colab": {}
      },
      "cell_type": "code",
      "source": [
        "y_bush_train = y_bush_train.reshape(8822,1)\n",
        "y_bush_test = y_bush_test.reshape(4411,1)\n"
      ],
      "execution_count": 0,
      "outputs": []
    },
    {
      "metadata": {
        "id": "0bPUN_-6UqH1",
        "colab_type": "code",
        "outputId": "313e9d7c-3f9f-4896-ca99-61967a3fc4a2",
        "colab": {
          "base_uri": "https://localhost:8080/",
          "height": 35
        }
      },
      "cell_type": "code",
      "source": [
        "y_bush_train.shape"
      ],
      "execution_count": 0,
      "outputs": [
        {
          "output_type": "execute_result",
          "data": {
            "text/plain": [
              "(8822, 1)"
            ]
          },
          "metadata": {
            "tags": []
          },
          "execution_count": 14
        }
      ]
    },
    {
      "metadata": {
        "id": "D1cR8mXxupMn",
        "colab_type": "code",
        "outputId": "fa2413b1-bd64-43bd-c30d-a0b82951c526",
        "colab": {
          "base_uri": "https://localhost:8080/",
          "height": 35
        }
      },
      "cell_type": "code",
      "source": [
        "X_train.shape"
      ],
      "execution_count": 0,
      "outputs": [
        {
          "output_type": "execute_result",
          "data": {
            "text/plain": [
              "(8822, 64, 64, 1)"
            ]
          },
          "metadata": {
            "tags": []
          },
          "execution_count": 15
        }
      ]
    },
    {
      "metadata": {
        "id": "ZmDdYO_PupQD",
        "colab_type": "code",
        "outputId": "dce940b6-e174-4c18-9b56-53013e34afa6",
        "colab": {
          "base_uri": "https://localhost:8080/",
          "height": 35
        }
      },
      "cell_type": "code",
      "source": [
        "X_test.shape"
      ],
      "execution_count": 0,
      "outputs": [
        {
          "output_type": "execute_result",
          "data": {
            "text/plain": [
              "(4411, 64, 64, 1)"
            ]
          },
          "metadata": {
            "tags": []
          },
          "execution_count": 16
        }
      ]
    },
    {
      "metadata": {
        "id": "7Gpd7_UrupTL",
        "colab_type": "code",
        "colab": {}
      },
      "cell_type": "code",
      "source": [
        "bush_model = Sequential()"
      ],
      "execution_count": 0,
      "outputs": []
    },
    {
      "metadata": {
        "id": "4vaiI0ZQupWG",
        "colab_type": "code",
        "colab": {}
      },
      "cell_type": "code",
      "source": [
        "bush_model.add(Conv2D(32, kernel_size=(5, 5), strides=(1, 1), activation='relu',input_shape=(64,64,1)))\n",
        "bush_model.add(Conv2D(32, kernel_size=(5, 5), strides=(1, 1), activation='relu'))\n",
        "bush_model.add(MaxPooling2D(pool_size=(2, 2), strides=(2, 2)))\n",
        "\n",
        "bush_model.add(Conv2D(32, kernel_size=(3, 3), strides=(1, 1), activation='relu'))\n",
        "bush_model.add(Conv2D(32, kernel_size=(3, 3), strides=(1, 1), activation='relu'))\n",
        "bush_model.add(MaxPooling2D(pool_size=(2, 2), strides=(2, 2)))\n",
        "\n",
        "bush_model.add(Conv2D(32, kernel_size=(3, 3), strides=(1, 1), activation='relu'))\n",
        "bush_model.add(Conv2D(32, kernel_size=(3, 3), strides=(1, 1), activation='relu'))\n",
        "bush_model.add(MaxPooling2D(pool_size=(2, 2), strides=(2, 2)))\n",
        "\n",
        "bush_model.add(Flatten())\n",
        "bush_model.add(Dense(1000,activation='relu'))\n",
        "bush_model.add(Dense(1,activation='sigmoid'))"
      ],
      "execution_count": 0,
      "outputs": []
    },
    {
      "metadata": {
        "id": "d5eYRo3P7S9n",
        "colab_type": "code",
        "colab": {}
      },
      "cell_type": "code",
      "source": [
        "bush_model.compile(loss=keras.losses.binary_crossentropy, optimizer='adam', metrics=['accuracy'])"
      ],
      "execution_count": 0,
      "outputs": []
    },
    {
      "metadata": {
        "id": "L1pepoHm7TA-",
        "colab_type": "code",
        "outputId": "4d24e2fa-8c56-43b7-f537-5cce34e6f104",
        "colab": {
          "base_uri": "https://localhost:8080/",
          "height": 404
        }
      },
      "cell_type": "code",
      "source": [
        "csv_logger = keras.callbacks.CSVLogger('/content/gdrive/My Drive/data/bush_training.log')\n",
        "bush_model.fit(X_train, y_bush_train, batch_size = 500, epochs = 10, verbose =1 ,callbacks=[csv_logger])\n",
        "print(f1(y_bush_train,bush_model.predict(X_train)))\n",
        "print(f1(y_bush_test,bush_model.predict(X_test)))"
      ],
      "execution_count": 0,
      "outputs": [
        {
          "output_type": "stream",
          "text": [
            "Epoch 1/10\n",
            "8822/8822 [==============================] - 3s 389us/step - loss: 0.0232 - acc: 0.9930\n",
            "Epoch 2/10\n",
            "8822/8822 [==============================] - 3s 379us/step - loss: 0.0159 - acc: 0.9951\n",
            "Epoch 3/10\n",
            "8822/8822 [==============================] - 3s 380us/step - loss: 0.0141 - acc: 0.9952\n",
            "Epoch 4/10\n",
            "8822/8822 [==============================] - 3s 378us/step - loss: 0.0163 - acc: 0.9937\n",
            "Epoch 5/10\n",
            "8822/8822 [==============================] - 3s 378us/step - loss: 0.0132 - acc: 0.9954\n",
            "Epoch 6/10\n",
            "8822/8822 [==============================] - 3s 378us/step - loss: 0.0082 - acc: 0.9976\n",
            "Epoch 7/10\n",
            "8822/8822 [==============================] - 3s 378us/step - loss: 0.0050 - acc: 0.9988\n",
            "Epoch 8/10\n",
            "8822/8822 [==============================] - 3s 377us/step - loss: 0.0028 - acc: 0.9993\n",
            "Epoch 9/10\n",
            "8822/8822 [==============================] - 3s 378us/step - loss: 0.0015 - acc: 0.9998\n",
            "Epoch 10/10\n",
            "8822/8822 [==============================] - 3s 377us/step - loss: 0.0010 - acc: 0.9998\n",
            "[1.]\n",
            "[0.77844311]\n"
          ],
          "name": "stdout"
        }
      ]
    },
    {
      "metadata": {
        "id": "EADKGtpYboHZ",
        "colab_type": "code",
        "colab": {}
      },
      "cell_type": "code",
      "source": [
        "bush_model.fit(X_train, y_bush_train, batch_size = 500, epochs = 10, verbose =1 ,callbacks=[csv_logger])\n",
        "print(f1(y_bush_train,bush_model.predict(X_train)))\n",
        "print(f1(y_bush_test,bush_model.predict(X_test)))"
      ],
      "execution_count": 0,
      "outputs": []
    },
    {
      "metadata": {
        "id": "wwf1Wr2Ebn1Y",
        "colab_type": "code",
        "colab": {}
      },
      "cell_type": "code",
      "source": [
        ""
      ],
      "execution_count": 0,
      "outputs": []
    },
    {
      "metadata": {
        "id": "6NJt2zl27TEO",
        "colab_type": "code",
        "colab": {}
      },
      "cell_type": "code",
      "source": [
        "bush_model.save(\"/content/gdrive/My Drive/data/bush.model\")"
      ],
      "execution_count": 0,
      "outputs": []
    },
    {
      "metadata": {
        "id": "MEUCk5h07THn",
        "colab_type": "code",
        "colab": {}
      },
      "cell_type": "code",
      "source": [
        "pickle.dump([f1(y_bush_train,bush_model.predict(X_train))[0],f1(y_bush_test,bush_model.predict(X_test))[0]], open('/content/gdrive/My Drive/data/bush.pkl', 'wb'))"
      ],
      "execution_count": 0,
      "outputs": []
    },
    {
      "metadata": {
        "id": "dmEnsvIL7TLS",
        "colab_type": "code",
        "outputId": "d59423e6-1b4c-4493-b944-8db287fada5d",
        "colab": {
          "base_uri": "https://localhost:8080/",
          "height": 35
        }
      },
      "cell_type": "code",
      "source": [
        "pickle.load(open('/content/gdrive/My Drive/data/bush.pkl', 'rb'))"
      ],
      "execution_count": 0,
      "outputs": [
        {
          "output_type": "execute_result",
          "data": {
            "text/plain": [
              "[1.0, 0.7784431137724552]"
            ]
          },
          "metadata": {
            "tags": []
          },
          "execution_count": 36
        }
      ]
    },
    {
      "metadata": {
        "id": "OFnoFa_J4AD6",
        "colab_type": "code",
        "colab": {}
      },
      "cell_type": "code",
      "source": [
        ""
      ],
      "execution_count": 0,
      "outputs": []
    },
    {
      "metadata": {
        "id": "NKUl5Fhb4AHM",
        "colab_type": "code",
        "colab": {}
      },
      "cell_type": "code",
      "source": [
        ""
      ],
      "execution_count": 0,
      "outputs": []
    },
    {
      "metadata": {
        "id": "13sUTktr4AKY",
        "colab_type": "code",
        "colab": {}
      },
      "cell_type": "code",
      "source": [
        ""
      ],
      "execution_count": 0,
      "outputs": []
    },
    {
      "metadata": {
        "id": "rKe0fVtc4ANx",
        "colab_type": "code",
        "colab": {}
      },
      "cell_type": "code",
      "source": [
        ""
      ],
      "execution_count": 0,
      "outputs": []
    },
    {
      "metadata": {
        "id": "COmSatFV4ARI",
        "colab_type": "code",
        "colab": {}
      },
      "cell_type": "code",
      "source": [
        ""
      ],
      "execution_count": 0,
      "outputs": []
    }
  ]
}