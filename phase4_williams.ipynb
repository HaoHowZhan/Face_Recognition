{
  "nbformat": 4,
  "nbformat_minor": 0,
  "metadata": {
    "colab": {
      "name": "phase4_williams.ipynb",
      "version": "0.3.2",
      "provenance": [],
      "collapsed_sections": []
    },
    "kernelspec": {
      "name": "python3",
      "display_name": "Python 3"
    },
    "accelerator": "GPU"
  },
  "cells": [
    {
      "metadata": {
        "id": "x-SVjRdRqPCf",
        "colab_type": "code",
        "colab": {}
      },
      "cell_type": "code",
      "source": [
        "import pandas as pd\n",
        "import numpy as np\n",
        "import keras\n",
        "# from sklearn.model_selection import train_test_split\n",
        "from sklearn.pipeline import Pipeline\n",
        "from sklearn.neighbors import KNeighborsClassifier\n",
        "from sklearn.model_selection import cross_validate, StratifiedKFold, train_test_split\n",
        "from sklearn.decomposition import PCA\n",
        "from sklearn.model_selection import GridSearchCV\n",
        "from sklearn.metrics import f1_score\n",
        "# from sklearn.svm import SVC\n",
        "from keras.models import Sequential\n",
        "from keras.layers import Dense, Dropout, Flatten\n",
        "from keras.layers import Conv2D, MaxPooling2D\n",
        "import pickle\n",
        "import time\n",
        "import tensorflow as tf"
      ],
      "execution_count": 0,
      "outputs": []
    },
    {
      "metadata": {
        "id": "DGQF4pO5qbFI",
        "colab_type": "code",
        "outputId": "c89d1c8d-43ed-4d18-eb82-7f713462ae8b",
        "colab": {
          "base_uri": "https://localhost:8080/",
          "height": 34
        }
      },
      "cell_type": "code",
      "source": [
        "from google.colab import drive\n",
        "drive.mount('/content/gdrive')"
      ],
      "execution_count": 0,
      "outputs": [
        {
          "output_type": "stream",
          "text": [
            "Drive already mounted at /content/gdrive; to attempt to forcibly remount, call drive.mount(\"/content/gdrive\", force_remount=True).\n"
          ],
          "name": "stdout"
        }
      ]
    },
    {
      "metadata": {
        "id": "B3_Yw0SjqbI5",
        "colab_type": "code",
        "colab": {}
      },
      "cell_type": "code",
      "source": [
        "from sklearn.datasets import fetch_olivetti_faces\n",
        "olivetti = fetch_olivetti_faces()\n",
        "pretrain_x=olivetti.data\n",
        "pretrain_y=olivetti.target"
      ],
      "execution_count": 0,
      "outputs": []
    },
    {
      "metadata": {
        "id": "sIHnG9QZqbMS",
        "colab_type": "code",
        "outputId": "2388d35b-b643-4571-d4e3-d057496ac164",
        "colab": {
          "base_uri": "https://localhost:8080/",
          "height": 34
        }
      },
      "cell_type": "code",
      "source": [
        "pretrain_x.shape"
      ],
      "execution_count": 0,
      "outputs": [
        {
          "output_type": "execute_result",
          "data": {
            "text/plain": [
              "(400, 4096)"
            ]
          },
          "metadata": {
            "tags": []
          },
          "execution_count": 28
        }
      ]
    },
    {
      "metadata": {
        "id": "aogPn6GDqbPY",
        "colab_type": "code",
        "outputId": "4e8d165f-3432-4dab-e73e-97d32290687c",
        "colab": {
          "base_uri": "https://localhost:8080/",
          "height": 34
        }
      },
      "cell_type": "code",
      "source": [
        "pretrain_y.shape"
      ],
      "execution_count": 0,
      "outputs": [
        {
          "output_type": "execute_result",
          "data": {
            "text/plain": [
              "(400,)"
            ]
          },
          "metadata": {
            "tags": []
          },
          "execution_count": 29
        }
      ]
    },
    {
      "metadata": {
        "id": "FXpE-v5tqbSj",
        "colab_type": "code",
        "colab": {}
      },
      "cell_type": "code",
      "source": [
        "pretrain_y = pretrain_y==20"
      ],
      "execution_count": 0,
      "outputs": []
    },
    {
      "metadata": {
        "id": "HCpsWNaDt2M6",
        "colab_type": "code",
        "outputId": "3d66f012-eaa6-4fcf-d8b5-42573314eb6d",
        "colab": {
          "base_uri": "https://localhost:8080/",
          "height": 34
        }
      },
      "cell_type": "code",
      "source": [
        "pretrain_y.shape"
      ],
      "execution_count": 0,
      "outputs": [
        {
          "output_type": "execute_result",
          "data": {
            "text/plain": [
              "(400,)"
            ]
          },
          "metadata": {
            "tags": []
          },
          "execution_count": 31
        }
      ]
    },
    {
      "metadata": {
        "id": "62I8xpG5t2QD",
        "colab_type": "code",
        "outputId": "5bc5269c-6f6d-4364-cfa6-66a1428a5df5",
        "colab": {
          "base_uri": "https://localhost:8080/",
          "height": 34
        }
      },
      "cell_type": "code",
      "source": [
        "pretrain_y.sum()"
      ],
      "execution_count": 0,
      "outputs": [
        {
          "output_type": "execute_result",
          "data": {
            "text/plain": [
              "10"
            ]
          },
          "metadata": {
            "tags": []
          },
          "execution_count": 32
        }
      ]
    },
    {
      "metadata": {
        "id": "HBCxclmdt2Ua",
        "colab_type": "code",
        "colab": {}
      },
      "cell_type": "code",
      "source": [
        "def f1(y_true, y_pred):\n",
        "    y_pred = np.rint(y_pred)\n",
        "    tp = sum(y_true*y_pred)\n",
        "    tn = sum((1-y_true)*(1-y_pred))\n",
        "    fp = sum((1-y_true)*y_pred)\n",
        "    fn = sum(y_true*(1-y_pred))\n",
        "\n",
        "    p = tp / (tp + fp )\n",
        "    r = tp / (tp + fn )\n",
        "\n",
        "    f1 = 2*p*r / (p+r)\n",
        "    return f1"
      ],
      "execution_count": 0,
      "outputs": []
    },
    {
      "metadata": {
        "id": "8sLZiSBNuAm4",
        "colab_type": "code",
        "outputId": "ad4b46ec-97b6-4041-8496-e66f38338cb2",
        "colab": {
          "base_uri": "https://localhost:8080/",
          "height": 34
        }
      },
      "cell_type": "code",
      "source": [
        "start_time = time.time()\n",
        "y = pd.read_csv(\"/content/gdrive/My Drive/data/y_bush_vs_others.csv\", header= None)\n",
        "y_bush = y.values.ravel()\n",
        "y = pd.read_csv(\"/content/gdrive/My Drive/data/y_williams_vs_others.csv\", header= None)\n",
        "y_williams = y.values.ravel()\n",
        "print(\"--- %s seconds ---\" % (time.time() - start_time))"
      ],
      "execution_count": 0,
      "outputs": [
        {
          "output_type": "stream",
          "text": [
            "--- 0.014233112335205078 seconds ---\n"
          ],
          "name": "stdout"
        }
      ]
    },
    {
      "metadata": {
        "id": "XWfqRg8kuAqP",
        "colab_type": "code",
        "outputId": "fe539c49-da8d-4754-ae6d-b85e70f71485",
        "colab": {
          "base_uri": "https://localhost:8080/",
          "height": 34
        }
      },
      "cell_type": "code",
      "source": [
        "start_time = time.time()\n",
        "X = pd.read_csv(\"/content/gdrive/My Drive/data/X.csv\", sep=' ', header= None, dtype= float)\n",
        "X = X.values\n",
        "print(\"--- %s seconds ---\" % (time.time() - start_time))"
      ],
      "execution_count": 0,
      "outputs": [
        {
          "output_type": "stream",
          "text": [
            "--- 24.790295124053955 seconds ---\n"
          ],
          "name": "stdout"
        }
      ]
    },
    {
      "metadata": {
        "id": "wd7k2LAXuAtW",
        "colab_type": "code",
        "colab": {}
      },
      "cell_type": "code",
      "source": [
        "X_train, X_test, y_williams_train, y_williams_test = train_test_split(X,y_williams, test_size=1./3, random_state = 6926, shuffle = True, stratify = y_williams)"
      ],
      "execution_count": 0,
      "outputs": []
    },
    {
      "metadata": {
        "id": "oe6-lFC3uAwo",
        "colab_type": "code",
        "colab": {}
      },
      "cell_type": "code",
      "source": [
        "X_train = X_train.reshape(8822,64,64,1)"
      ],
      "execution_count": 0,
      "outputs": []
    },
    {
      "metadata": {
        "id": "jhRiyJB_uQID",
        "colab_type": "code",
        "colab": {}
      },
      "cell_type": "code",
      "source": [
        "X_test = X_test.reshape(4411,64,64,1)"
      ],
      "execution_count": 0,
      "outputs": []
    },
    {
      "metadata": {
        "id": "li-8v8QwuQK_",
        "colab_type": "code",
        "colab": {}
      },
      "cell_type": "code",
      "source": [
        "px_1,px_2,py_1,py_2  = train_test_split(pretrain_x,pretrain_y, test_size=1./3, random_state = 6926, shuffle = True, stratify = pretrain_y)"
      ],
      "execution_count": 0,
      "outputs": []
    },
    {
      "metadata": {
        "id": "FjmQp9S9u2Kr",
        "colab_type": "code",
        "outputId": "e50770a9-7bfc-49de-dd25-3ee5c2e65308",
        "colab": {
          "base_uri": "https://localhost:8080/",
          "height": 34
        }
      },
      "cell_type": "code",
      "source": [
        "px_1.shape"
      ],
      "execution_count": 0,
      "outputs": [
        {
          "output_type": "execute_result",
          "data": {
            "text/plain": [
              "(266, 4096)"
            ]
          },
          "metadata": {
            "tags": []
          },
          "execution_count": 40
        }
      ]
    },
    {
      "metadata": {
        "id": "juqg7QoJubf8",
        "colab_type": "code",
        "colab": {}
      },
      "cell_type": "code",
      "source": [
        "px_1 =px_1.reshape(266,64,64,1)"
      ],
      "execution_count": 0,
      "outputs": []
    },
    {
      "metadata": {
        "id": "KJlKPT1iuQVr",
        "colab_type": "code",
        "colab": {}
      },
      "cell_type": "code",
      "source": [
        "px_2 = px_2.reshape(134,64,64,1)"
      ],
      "execution_count": 0,
      "outputs": []
    },
    {
      "metadata": {
        "id": "j-IePSjzuAzv",
        "colab_type": "code",
        "colab": {}
      },
      "cell_type": "code",
      "source": [
        "williams_model = Sequential()\n",
        "williams_model.add(Conv2D(32, kernel_size=(5, 5), strides=(1, 1), activation='relu',input_shape=(64,64,1)))\n",
        "williams_model.add(Conv2D(32, kernel_size=(5, 5), strides=(1, 1), activation='relu'))\n",
        "williams_model.add(MaxPooling2D(pool_size=(2, 2), strides=(2, 2)))\n",
        "\n",
        "williams_model.add(Conv2D(32, kernel_size=(3, 3), strides=(1, 1), activation='relu'))\n",
        "williams_model.add(Conv2D(32, kernel_size=(3, 3), strides=(1, 1), activation='relu'))\n",
        "williams_model.add(MaxPooling2D(pool_size=(2, 2), strides=(2, 2)))\n",
        "\n",
        "williams_model.add(Conv2D(32, kernel_size=(3, 3), strides=(1, 1), activation='relu'))\n",
        "williams_model.add(Conv2D(32, kernel_size=(3, 3), strides=(1, 1), activation='relu'))\n",
        "williams_model.add(MaxPooling2D(pool_size=(2, 2), strides=(2, 2)))\n",
        "\n",
        "williams_model.add(Flatten())\n",
        "williams_model.add(Dense(1000,activation='relu'))\n",
        "williams_model.add(Dense(1,activation='sigmoid'))\n",
        "williams_model.compile(loss=keras.losses.binary_crossentropy, optimizer='adam', metrics=['accuracy'])"
      ],
      "execution_count": 0,
      "outputs": []
    },
    {
      "metadata": {
        "id": "e-87qrV6uA20",
        "colab_type": "code",
        "outputId": "2751c220-4e5c-4306-fa18-20a106a981e3",
        "colab": {
          "base_uri": "https://localhost:8080/",
          "height": 374
        }
      },
      "cell_type": "code",
      "source": [
        "csv_logger = keras.callbacks.CSVLogger('/content/gdrive/My Drive/data/williams_training.log')\n",
        "williams_model.fit(px_1,py_1, batch_size = 500, epochs = 10, verbose =1 ,callbacks=[csv_logger])"
      ],
      "execution_count": 0,
      "outputs": [
        {
          "output_type": "stream",
          "text": [
            "Epoch 1/10\n",
            "266/266 [==============================] - 1s 3ms/step - loss: 0.6965 - acc: 0.0263\n",
            "Epoch 2/10\n",
            "266/266 [==============================] - 0s 453us/step - loss: 0.6405 - acc: 0.9737\n",
            "Epoch 3/10\n",
            "266/266 [==============================] - 0s 429us/step - loss: 0.5003 - acc: 0.9737\n",
            "Epoch 4/10\n",
            "266/266 [==============================] - 0s 413us/step - loss: 0.2629 - acc: 0.9737\n",
            "Epoch 5/10\n",
            "266/266 [==============================] - 0s 390us/step - loss: 0.1181 - acc: 0.9737\n",
            "Epoch 6/10\n",
            "266/266 [==============================] - 0s 385us/step - loss: 0.1611 - acc: 0.9737\n",
            "Epoch 7/10\n",
            "266/266 [==============================] - 0s 386us/step - loss: 0.2214 - acc: 0.9737\n",
            "Epoch 8/10\n",
            "266/266 [==============================] - 0s 360us/step - loss: 0.2382 - acc: 0.9737\n",
            "Epoch 9/10\n",
            "266/266 [==============================] - 0s 366us/step - loss: 0.2180 - acc: 0.9737\n",
            "Epoch 10/10\n",
            "266/266 [==============================] - 0s 370us/step - loss: 0.1804 - acc: 0.9737\n"
          ],
          "name": "stdout"
        },
        {
          "output_type": "execute_result",
          "data": {
            "text/plain": [
              "<keras.callbacks.History at 0x7f955a167f60>"
            ]
          },
          "metadata": {
            "tags": []
          },
          "execution_count": 44
        }
      ]
    },
    {
      "metadata": {
        "id": "AQsS9qg-uA5c",
        "colab_type": "code",
        "outputId": "b009b94d-40a5-4bc1-d8eb-8cda021256b0",
        "colab": {
          "base_uri": "https://localhost:8080/",
          "height": 85
        }
      },
      "cell_type": "code",
      "source": [
        "print(f1_score(py_1,williams_model.predict_classes(px_1)))\n",
        "print(f1_score(py_2,williams_model.predict_classes(px_2)))"
      ],
      "execution_count": 0,
      "outputs": [
        {
          "output_type": "stream",
          "text": [
            "0.0\n",
            "0.0\n"
          ],
          "name": "stdout"
        },
        {
          "output_type": "stream",
          "text": [
            "/usr/local/lib/python3.6/dist-packages/sklearn/metrics/classification.py:1135: UndefinedMetricWarning: F-score is ill-defined and being set to 0.0 due to no predicted samples.\n",
            "  'precision', 'predicted', average, warn_for)\n"
          ],
          "name": "stderr"
        }
      ]
    },
    {
      "metadata": {
        "id": "jm0ZzFm7vuy8",
        "colab_type": "code",
        "colab": {}
      },
      "cell_type": "code",
      "source": [
        "williams_model.save(\"/content/gdrive/My Drive/data/init_w.model\")"
      ],
      "execution_count": 0,
      "outputs": []
    },
    {
      "metadata": {
        "id": "C8NFA-Blvu1_",
        "colab_type": "code",
        "colab": {}
      },
      "cell_type": "code",
      "source": [
        ""
      ],
      "execution_count": 0,
      "outputs": []
    },
    {
      "metadata": {
        "id": "LfL29n4Evu5D",
        "colab_type": "code",
        "colab": {}
      },
      "cell_type": "code",
      "source": [
        ""
      ],
      "execution_count": 0,
      "outputs": []
    },
    {
      "metadata": {
        "id": "MBXhfacfvu8D",
        "colab_type": "code",
        "outputId": "5b51d90a-60d4-460a-dfc1-5a41962ce00e",
        "colab": {
          "base_uri": "https://localhost:8080/",
          "height": 1071
        }
      },
      "cell_type": "code",
      "source": [
        "williams_model.fit(X_train, y_williams_train, batch_size = 500, epochs = 30, verbose =1 ,callbacks=[csv_logger])\n",
        "print(f1_score(y_williams_train,williams_model.predict_classes(X_train)))\n",
        "print(f1_score(y_williams_test,williams_model.predict_classes(X_test)))"
      ],
      "execution_count": 0,
      "outputs": [
        {
          "output_type": "stream",
          "text": [
            "Epoch 1/30\n",
            "8822/8822 [==============================] - 3s 361us/step - loss: 0.0325 - acc: 0.9960\n",
            "Epoch 2/30\n",
            "8822/8822 [==============================] - 3s 359us/step - loss: 0.0243 - acc: 0.9960\n",
            "Epoch 3/30\n",
            "8822/8822 [==============================] - 3s 360us/step - loss: 0.0244 - acc: 0.9960\n",
            "Epoch 4/30\n",
            "8822/8822 [==============================] - 3s 361us/step - loss: 0.0237 - acc: 0.9960\n",
            "Epoch 5/30\n",
            "8822/8822 [==============================] - 3s 358us/step - loss: 0.0229 - acc: 0.9960\n",
            "Epoch 6/30\n",
            "8822/8822 [==============================] - 3s 358us/step - loss: 0.0234 - acc: 0.9960\n",
            "Epoch 7/30\n",
            "8822/8822 [==============================] - 3s 360us/step - loss: 0.0220 - acc: 0.9960\n",
            "Epoch 8/30\n",
            "8822/8822 [==============================] - 3s 360us/step - loss: 0.0215 - acc: 0.9960\n",
            "Epoch 9/30\n",
            "8822/8822 [==============================] - 3s 362us/step - loss: 0.0217 - acc: 0.9960\n",
            "Epoch 10/30\n",
            "8822/8822 [==============================] - 3s 361us/step - loss: 0.0187 - acc: 0.9960\n",
            "Epoch 11/30\n",
            "8822/8822 [==============================] - 3s 361us/step - loss: 0.0170 - acc: 0.9960\n",
            "Epoch 12/30\n",
            "8822/8822 [==============================] - 3s 361us/step - loss: 0.0155 - acc: 0.9960\n",
            "Epoch 13/30\n",
            "8822/8822 [==============================] - 3s 360us/step - loss: 0.0134 - acc: 0.9963\n",
            "Epoch 14/30\n",
            "8822/8822 [==============================] - 3s 360us/step - loss: 0.0127 - acc: 0.9961\n",
            "Epoch 15/30\n",
            "8822/8822 [==============================] - 3s 360us/step - loss: 0.0104 - acc: 0.9965\n",
            "Epoch 16/30\n",
            "8822/8822 [==============================] - 3s 360us/step - loss: 0.0106 - acc: 0.9969\n",
            "Epoch 17/30\n",
            "8822/8822 [==============================] - 3s 362us/step - loss: 0.0082 - acc: 0.9973\n",
            "Epoch 18/30\n",
            "8822/8822 [==============================] - 3s 359us/step - loss: 0.0063 - acc: 0.9977\n",
            "Epoch 19/30\n",
            "8822/8822 [==============================] - 3s 361us/step - loss: 0.0055 - acc: 0.9978\n",
            "Epoch 20/30\n",
            "8822/8822 [==============================] - 3s 359us/step - loss: 0.0043 - acc: 0.9984\n",
            "Epoch 21/30\n",
            "8822/8822 [==============================] - 3s 359us/step - loss: 0.0049 - acc: 0.9978\n",
            "Epoch 22/30\n",
            "8822/8822 [==============================] - 3s 361us/step - loss: 0.0057 - acc: 0.9983\n",
            "Epoch 23/30\n",
            "8822/8822 [==============================] - 3s 360us/step - loss: 0.0049 - acc: 0.9991\n",
            "Epoch 24/30\n",
            "8822/8822 [==============================] - 3s 360us/step - loss: 0.0020 - acc: 0.9993\n",
            "Epoch 25/30\n",
            "8822/8822 [==============================] - 3s 361us/step - loss: 0.0017 - acc: 0.9991\n",
            "Epoch 26/30\n",
            "8822/8822 [==============================] - 3s 360us/step - loss: 7.6171e-04 - acc: 0.9999\n",
            "Epoch 27/30\n",
            "8822/8822 [==============================] - 3s 359us/step - loss: 5.4502e-04 - acc: 0.9999\n",
            "Epoch 28/30\n",
            "8822/8822 [==============================] - 3s 360us/step - loss: 6.1335e-04 - acc: 0.9997\n",
            "Epoch 29/30\n",
            "8822/8822 [==============================] - 3s 361us/step - loss: 0.0011 - acc: 0.9994\n",
            "Epoch 30/30\n",
            "8822/8822 [==============================] - 3s 360us/step - loss: 0.0011 - acc: 0.9995\n",
            "0.9705882352941176\n",
            "0.10526315789473684\n"
          ],
          "name": "stdout"
        }
      ]
    },
    {
      "metadata": {
        "id": "oVKs57lZvu_A",
        "colab_type": "code",
        "colab": {}
      },
      "cell_type": "code",
      "source": [
        "williams_model.save(\"/content/gdrive/My Drive/data/williams.model\")"
      ],
      "execution_count": 0,
      "outputs": []
    }
  ]
}