{
 "cells": [
  {
   "attachments": {},
   "cell_type": "markdown",
   "metadata": {},
   "source": [
    "Do the following steps, once for the \"Bush\" and once for the \"Williams\" dataset.\n",
    "\t1. Load the dataset.\n",
    "\t2. Pick a classifier (more on this later).\n",
    "\t3. Perform three-fold cross validation using the following code: stratified_cv_results = cross_validate(clf, X, y, cv=StratifiedKFold(n_splits = 3, shuffle=True, random_state = lastfourdigitsofyourA#), scoring=('precision', 'recall', 'f1'), return_train_score=False). You may also set n_jobs parameter if it helps you perform experiments faster.\n",
    "\t4. Record results in a Google Sheet, using the following format: https://docs.google.com/spreadsheets/d/1ZLs7NI9eilqIJxiDRYT-cej5pgVzkgzZUKeK47AvzxU/edit?usp=sharing Make a copy of the sheet and fill it.\n",
    "\t5. Put the results of the mean F1 results for n_neighbors=1,  n_neighbors=3, n_neighbors=5, and best SVC result you got to a list and pickle it.\n",
    "\t6. Create a pdf of the google sheet.\n",
    "\n",
    "\n",
    "Classifiers you need to experiment with:\n",
    "\t1. KNeighborsClassifier, with n_neighbors = 1, 3, and 5.\n",
    "\t2. SVC with various C values, kernels, and various parameters for those kernels (such as gamma for rbf, degree for poly, etc).\n",
    "In the Google sheet, report all  KNeighborsClassifier results. For SVC, list all the parameter settings that you tried that resulted in a mean F1 score, and then report the parameter settings and results for the best result you got, in terms of mean F1.\n",
    "\n",
    "\n",
    "Here are the files you need to submit:\n",
    "\n",
    "\t1. bush.pickle\n",
    "\t2. bush.pdf\n",
    "\t3. williams.pickle\n",
    "\t4. williams.pdf\n",
    "Any questions about the format of the Google sheet? Please ask on Piazza.!"
   ]
  },
  {
   "cell_type": "code",
   "execution_count": 1,
   "metadata": {},
   "outputs": [],
   "source": [
    "import pandas as pd\n",
    "import numpy as np\n",
    "from sklearn.neighbors import KNeighborsClassifier\n",
    "from sklearn.model_selection import cross_validate, StratifiedKFold\n",
    "from sklearn.svm import SVC\n",
    "import pickle\n",
    "import time\n",
    "start_time = time.time()"
   ]
  },
  {
   "cell_type": "code",
   "execution_count": 2,
   "metadata": {},
   "outputs": [
    {
     "name": "stdout",
     "output_type": "stream",
     "text": [
      "--- 13.753236770629883 seconds ---\n"
     ]
    }
   ],
   "source": [
    "start_time = time.time()\n",
    "X = pd.read_csv(\"./data/X.csv\", sep=' ', header= None, dtype= float)\n",
    "X = X.values\n",
    "print(\"--- %s seconds ---\" % (time.time() - start_time))"
   ]
  },
  {
   "cell_type": "code",
   "execution_count": 3,
   "metadata": {},
   "outputs": [
    {
     "name": "stdout",
     "output_type": "stream",
     "text": [
      "--- 0.01196908950805664 seconds ---\n"
     ]
    }
   ],
   "source": [
    "start_time = time.time()\n",
    "y = pd.read_csv(\"./data/y_bush_vs_others.csv\", header= None)\n",
    "y_bush = y.values.ravel()\n",
    "y = pd.read_csv(\"./data/y_williams_vs_others.csv\", header= None)\n",
    "y_williams = y.values.ravel()\n",
    "print(\"--- %s seconds ---\" % (time.time() - start_time))"
   ]
  },
  {
   "cell_type": "code",
   "execution_count": 4,
   "metadata": {},
   "outputs": [],
   "source": [
    "# knn = KNeighborsClassifier()"
   ]
  },
  {
   "cell_type": "code",
   "execution_count": 5,
   "metadata": {},
   "outputs": [],
   "source": [
    "# stratified_cv_results = cross_validate(knn, X, y_bush, cv=StratifiedKFold(n_splits = 3, shuffle=True, random_state = 6926), scoring=('precision', 'recall', 'f1'), return_train_score=False)"
   ]
  },
  {
   "cell_type": "code",
   "execution_count": 6,
   "metadata": {},
   "outputs": [],
   "source": [
    "# stratified_cv_results"
   ]
  },
  {
   "cell_type": "code",
   "execution_count": 7,
   "metadata": {},
   "outputs": [],
   "source": [
    "# svc = SVC()"
   ]
  },
  {
   "cell_type": "code",
   "execution_count": 8,
   "metadata": {},
   "outputs": [],
   "source": [
    "# stratified_cv_results = cross_validate(svc, X, y_bush, cv=StratifiedKFold(n_splits = 3, shuffle=True, random_state = 6926), scoring=('precision', 'recall', 'f1'), return_train_score=False)"
   ]
  },
  {
   "cell_type": "code",
   "execution_count": 9,
   "metadata": {},
   "outputs": [],
   "source": [
    "# stratified_cv_results"
   ]
  },
  {
   "cell_type": "markdown",
   "metadata": {},
   "source": [
    "Fit time of KNN is close to its read time for a single fold.\n",
    "That means there might be a simple algorithm in fitting part.\n",
    "And the score_time is abnormal long."
   ]
  },
  {
   "cell_type": "code",
   "execution_count": 10,
   "metadata": {},
   "outputs": [
    {
     "name": "stdout",
     "output_type": "stream",
     "text": [
      "{'fit_time': array([5.00661707, 4.92483449, 4.87297416]), 'score_time': array([723.94930601, 722.15393782, 723.27723956]), 'test_precision': array([0.13333333, 0.09248555, 0.13142857]), 'test_recall': array([0.11299435, 0.09039548, 0.13068182]), 'test_f1': array([0.12232416, 0.09142857, 0.13105413])}\n",
      "--- 730.3303849697113 seconds ---\n"
     ]
    }
   ],
   "source": [
    "start_time = time.time()\n",
    "knn_1 = KNeighborsClassifier(n_neighbors=1)\n",
    "stratified_cv_results = cross_validate(knn_1, X, y_bush, cv=StratifiedKFold(n_splits = 3, shuffle=True, random_state = 6926), scoring=('precision', 'recall', 'f1'), return_train_score=False, n_jobs = -2)\n",
    "print(stratified_cv_results)\n",
    "knn_1_result = stratified_cv_results\n",
    "print(\"--- %s seconds ---\" % (time.time() - start_time))"
   ]
  },
  {
   "cell_type": "code",
   "execution_count": 11,
   "metadata": {},
   "outputs": [
    {
     "name": "stdout",
     "output_type": "stream",
     "text": [
      "{'fit_time': array([5.06223178, 5.05497599, 4.70424628]), 'score_time': array([793.9002111 , 792.97927737, 793.71447349]), 'test_precision': array([0.29032258, 0.24      , 0.14285714]), 'test_recall': array([0.05084746, 0.03389831, 0.02272727]), 'test_f1': array([0.08653846, 0.05940594, 0.03921569])}\n",
      "--- 800.779839515686 seconds ---\n"
     ]
    }
   ],
   "source": [
    "start_time = time.time()\n",
    "knn_3 = KNeighborsClassifier(n_neighbors=3)\n",
    "stratified_cv_results = cross_validate(knn_3, X, y_bush, cv=StratifiedKFold(n_splits = 3, shuffle=True, random_state = 6926), scoring=('precision', 'recall', 'f1'), return_train_score=False, n_jobs = -2)\n",
    "print(stratified_cv_results)\n",
    "knn_3_result = stratified_cv_results\n",
    "print(\"--- %s seconds ---\" % (time.time() - start_time))"
   ]
  },
  {
   "cell_type": "code",
   "execution_count": 12,
   "metadata": {},
   "outputs": [
    {
     "name": "stdout",
     "output_type": "stream",
     "text": [
      "{'fit_time': array([6.83267641, 6.5885067 , 6.69129419]), 'score_time': array([872.50091887, 870.41463161, 871.30795383]), 'test_precision': array([0.36363636, 0.5       , 0.42857143]), 'test_recall': array([0.02259887, 0.01694915, 0.01704545]), 'test_f1': array([0.04255319, 0.03278689, 0.03278689])}\n",
      "--- 880.8719165325165 seconds ---\n"
     ]
    }
   ],
   "source": [
    "start_time = time.time()\n",
    "knn_5 = KNeighborsClassifier(n_neighbors=5)\n",
    "stratified_cv_results = cross_validate(knn_5, X, y_bush, cv=StratifiedKFold(n_splits = 3, shuffle=True, random_state = 6926), scoring=('precision', 'recall', 'f1'), return_train_score=False, n_jobs = -2)\n",
    "print(stratified_cv_results)\n",
    "knn_5_result = stratified_cv_results\n",
    "print(\"--- %s seconds ---\" % (time.time() - start_time))"
   ]
  },
  {
   "cell_type": "code",
   "execution_count": 13,
   "metadata": {},
   "outputs": [
    {
     "name": "stdout",
     "output_type": "stream",
     "text": [
      "{'fit_time': array([63.22433615, 59.61682963, 61.35872173]), 'score_time': array([64.42399859, 60.52986169, 62.61980081]), 'test_precision': array([0.63190184, 0.67948718, 0.63815789]), 'test_recall': array([0.5819209 , 0.59887006, 0.55113636]), 'test_f1': array([0.60588235, 0.63663664, 0.59146341])}\n",
      "--- 129.5117666721344 seconds ---\n"
     ]
    }
   ],
   "source": [
    "start_time = time.time()\n",
    "svc_linear = SVC(kernel ='linear')\n",
    "stratified_cv_results = cross_validate(svc_linear, X, y_bush, cv=StratifiedKFold(n_splits = 3, shuffle=True, random_state = 6926), scoring=('precision', 'recall', 'f1'), return_train_score=False, n_jobs = -2)\n",
    "print(stratified_cv_results)\n",
    "svc_linear_result = stratified_cv_results\n",
    "print(\"--- %s seconds ---\" % (time.time() - start_time))"
   ]
  },
  {
   "cell_type": "code",
   "execution_count": 14,
   "metadata": {},
   "outputs": [
    {
     "name": "stdout",
     "output_type": "stream",
     "text": [
      "{'fit_time': array([63.63863015, 61.46497583, 61.82018375]), 'score_time': array([84.5364418 , 82.53514814, 82.05151558]), 'test_precision': array([0., 0., 0.]), 'test_recall': array([0., 0., 0.]), 'test_f1': array([0., 0., 0.])}\n",
      "--- 149.696937084198 seconds ---\n"
     ]
    }
   ],
   "source": [
    "start_time = time.time()\n",
    "svc_poly = SVC(kernel ='poly')\n",
    "stratified_cv_results = cross_validate(svc_poly, X, y_bush, cv=StratifiedKFold(n_splits = 3, shuffle=True, random_state = 6926), scoring=('precision', 'recall', 'f1'), return_train_score=False, n_jobs = -2)\n",
    "print(stratified_cv_results)\n",
    "svc_poly_result = stratified_cv_results\n",
    "print(\"--- %s seconds ---\" % (time.time() - start_time))"
   ]
  },
  {
   "cell_type": "code",
   "execution_count": 15,
   "metadata": {},
   "outputs": [
    {
     "name": "stdout",
     "output_type": "stream",
     "text": [
      "{'fit_time': array([60.1536417 , 58.09704494, 59.0815084 ]), 'score_time': array([77.09219909, 75.38019705, 75.9878335 ]), 'test_precision': array([0., 0., 0.]), 'test_recall': array([0., 0., 0.]), 'test_f1': array([0., 0., 0.])}\n",
      "--- 138.8515181541443 seconds ---\n"
     ]
    }
   ],
   "source": [
    "start_time = time.time()\n",
    "svc_rbf = SVC(kernel ='rbf')\n",
    "stratified_cv_results = cross_validate(svc_rbf, X, y_bush, cv=StratifiedKFold(n_splits = 3, shuffle=True, random_state = 6926), scoring=('precision', 'recall', 'f1'), return_train_score=False, n_jobs = -2)\n",
    "print(stratified_cv_results)\n",
    "svc_rbf_result = stratified_cv_results\n",
    "print(\"--- %s seconds ---\" % (time.time() - start_time))"
   ]
  },
  {
   "cell_type": "code",
   "execution_count": 16,
   "metadata": {},
   "outputs": [
    {
     "name": "stdout",
     "output_type": "stream",
     "text": [
      "{'fit_time': array([916.83772707, 916.26978636, 981.03035259]), 'score_time': array([458.29865861, 458.01281452, 460.59199405]), 'test_precision': array([0., 0., 0.]), 'test_recall': array([0., 0., 0.]), 'test_f1': array([0., 0., 0.])}\n",
      "--- 1444.3399937152863 seconds ---\n"
     ]
    }
   ],
   "source": [
    "start_time = time.time()\n",
    "svc_rbf_scale_1 = SVC(kernel ='rbf',gamma = 1)\n",
    "stratified_cv_results = cross_validate(svc_rbf_scale_1, X, y_bush, cv=StratifiedKFold(n_splits = 3, shuffle=True, random_state = 6926), scoring=('precision', 'recall', 'f1'), return_train_score=False, n_jobs = -2)\n",
    "print(stratified_cv_results)\n",
    "svc_rbf_scale_1_result = stratified_cv_results\n",
    "print(\"--- %s seconds ---\" % (time.time() - start_time))"
   ]
  },
  {
   "cell_type": "markdown",
   "metadata": {},
   "source": [
    "########### trying n_jobs ##############\n",
    " below"
   ]
  },
  {
   "cell_type": "code",
   "execution_count": 17,
   "metadata": {},
   "outputs": [],
   "source": [
    "# start_time = time.time()\n",
    "# svc_rbf = SVC(kernel ='rbf')\n",
    "# stratified_cv_results = cross_validate(svc_rbf, X, y_bush, cv=StratifiedKFold(n_splits = 3, shuffle=True, random_state = 6926), scoring=('precision', 'recall', 'f1'), return_train_score=False, n_jobs = -2)\n",
    "# print(stratified_cv_results)\n",
    "# print(\"--- %s seconds ---\" % (time.time() - start_time))"
   ]
  },
  {
   "cell_type": "markdown",
   "metadata": {},
   "source": [
    "{'fit_time': array([49.27030563, 47.7034905 , 48.49936485]), 'score_time': array([62.8151238 , 61.46271348, 61.92049003]), 'test_precision': array([0., 0., 0.]), 'test_recall': array([0., 0., 0.]), 'test_f1': array([0., 0., 0.])}\n",
    "--- 113.35260677337646 seconds ---"
   ]
  },
  {
   "cell_type": "code",
   "execution_count": 18,
   "metadata": {},
   "outputs": [],
   "source": [
    "# start_time = time.time()\n",
    "# svc_rbf = SVC(kernel ='rbf')\n",
    "# stratified_cv_results = cross_validate(svc_rbf, X, y_bush, cv=StratifiedKFold(n_splits = 3, shuffle=True, random_state = 6926), scoring=('precision', 'recall', 'f1'), return_train_score=False, n_jobs = -1)\n",
    "# print(stratified_cv_results)\n",
    "# print(\"--- %s seconds ---\" % (time.time() - start_time))"
   ]
  },
  {
   "cell_type": "markdown",
   "metadata": {},
   "source": [
    "'fit_time': array([49.26529121, 47.73042202, 48.38866234]), 'score_time': array([63.38258481, 61.92149019, 62.53086162]), 'test_precision': array([0., 0., 0.]), 'test_recall': array([0., 0., 0.]), 'test_f1': array([0., 0., 0.])}\n",
    "--- 114.07392716407776 seconds ---"
   ]
  },
  {
   "cell_type": "markdown",
   "metadata": {},
   "source": [
    "n_jobs = -1 and n_jobs = -2 do the same job"
   ]
  },
  {
   "cell_type": "code",
   "execution_count": 19,
   "metadata": {},
   "outputs": [
    {
     "name": "stdout",
     "output_type": "stream",
     "text": [
      "{'fit_time': array([57.46535802, 53.30303001, 54.76759458]), 'score_time': array([59.15897894, 55.20606256, 57.75459814]), 'test_precision': array([0.63190184, 0.67948718, 0.63815789]), 'test_recall': array([0.5819209 , 0.59887006, 0.55113636]), 'test_f1': array([0.60588235, 0.63663664, 0.59146341])}\n",
      "--- 337.7857983112335 seconds ---\n"
     ]
    }
   ],
   "source": [
    "start_time = time.time()\n",
    "svc_linear = SVC(kernel ='linear')\n",
    "stratified_cv_results = cross_validate(svc_linear, X, y_bush, cv=StratifiedKFold(n_splits = 3, shuffle=True, random_state = 6926), scoring=('precision', 'recall', 'f1'), return_train_score=False)\n",
    "print(stratified_cv_results)\n",
    "svc_linear_result = stratified_cv_results\n",
    "print(\"--- %s seconds ---\" % (time.time() - start_time))"
   ]
  },
  {
   "cell_type": "markdown",
   "metadata": {},
   "source": [
    "the n_jobs does not influence the result.\n",
    "\n",
    "####################### Done!!"
   ]
  },
  {
   "cell_type": "code",
   "execution_count": 20,
   "metadata": {},
   "outputs": [
    {
     "name": "stdout",
     "output_type": "stream",
     "text": [
      "{'fit_time': array([2148.04314208, 2148.27376008, 2214.54471731]), 'score_time': array([465.34044456, 465.10813785, 465.47202921]), 'test_precision': array([0., 0., 0.]), 'test_recall': array([0., 0., 0.]), 'test_f1': array([0., 0., 0.])}\n",
      "--- 2682.931027650833 seconds ---\n"
     ]
    }
   ],
   "source": [
    "start_time = time.time()\n",
    "svc_rbf_C_1_prob_T_gamma_2 = SVC(C=1, kernel='rbf', probability=True, gamma=2)\n",
    "stratified_cv_results = cross_validate(svc_rbf_C_1_prob_T_gamma_2, X, y_bush, cv=StratifiedKFold(n_splits = 3, shuffle=True, random_state = 6926), scoring=('precision', 'recall', 'f1'), return_train_score=False, n_jobs = -2)\n",
    "print(stratified_cv_results)\n",
    "svc_rbf_C_1_prob_T_gamma_2_result = stratified_cv_results\n",
    "print(\"--- %s seconds ---\" % (time.time() - start_time))"
   ]
  },
  {
   "cell_type": "code",
   "execution_count": 21,
   "metadata": {},
   "outputs": [
    {
     "name": "stdout",
     "output_type": "stream",
     "text": [
      "{'fit_time': array([256.10642242, 245.19693542, 248.55223513]), 'score_time': array([54.65871024, 51.66086888, 53.28707004]), 'test_precision': array([0.63190184, 0.67948718, 0.63815789]), 'test_recall': array([0.5819209 , 0.59887006, 0.55113636]), 'test_f1': array([0.60588235, 0.63663664, 0.59146341])}\n",
      "--- 312.014075756073 seconds ---\n"
     ]
    }
   ],
   "source": [
    "start_time = time.time()\n",
    "svc_linear_C_1_prob_T = SVC(C=1, kernel='linear', probability=True)\n",
    "stratified_cv_results = cross_validate(svc_linear_C_1_prob_T, X, y_bush, cv=StratifiedKFold(n_splits = 3, shuffle=True, random_state = 6926), scoring=('precision', 'recall', 'f1'), return_train_score=False, n_jobs = -2)\n",
    "print(stratified_cv_results)\n",
    "svc_linear_C_1_prob_T_result = stratified_cv_results\n",
    "print(\"--- %s seconds ---\" % (time.time() - start_time))"
   ]
  },
  {
   "cell_type": "code",
   "execution_count": 22,
   "metadata": {},
   "outputs": [
    {
     "name": "stdout",
     "output_type": "stream",
     "text": [
      "{'fit_time': array([799.99436903, 800.15419364, 867.20546436]), 'score_time': array([471.24366522, 468.65026402, 465.28913641]), 'test_precision': array([0., 0., 0.]), 'test_recall': array([0., 0., 0.]), 'test_f1': array([0., 0., 0.])}\n",
      "--- 1334.912138223648 seconds ---\n"
     ]
    }
   ],
   "source": [
    "start_time = time.time()\n",
    "svc_rbf_C_1_gamma_2 = SVC(C=1, kernel='rbf', gamma=2)\n",
    "stratified_cv_results = cross_validate(svc_rbf_C_1_gamma_2, X, y_bush, cv=StratifiedKFold(n_splits = 3, shuffle=True, random_state = 6926), scoring=('precision', 'recall', 'f1'), return_train_score=False, n_jobs = -2)\n",
    "print(stratified_cv_results)\n",
    "svc_rbf_C_1_gamma_2_result = stratified_cv_results\n",
    "print(\"--- %s seconds ---\" % (time.time() - start_time))"
   ]
  },
  {
   "cell_type": "code",
   "execution_count": 24,
   "metadata": {},
   "outputs": [
    {
     "name": "stdout",
     "output_type": "stream",
     "text": [
      "{'fit_time': array([1221.9074235 , 1227.88822651, 1235.75962734]), 'score_time': array([462.09672952, 464.20408106, 460.93083525]), 'test_precision': array([0., 0., 0.]), 'test_recall': array([0., 0., 0.]), 'test_f1': array([0., 0., 0.])}\n",
      "--- 1698.937997341156 seconds ---\n"
     ]
    }
   ],
   "source": [
    "start_time = time.time()\n",
    "svc_rbf_C_1_gamma_01 = SVC(C=1, kernel='rbf', gamma=0.1)\n",
    "stratified_cv_results = cross_validate(svc_rbf_C_1_gamma_01, X, y_bush, cv=StratifiedKFold(n_splits = 3, shuffle=True, random_state = 6926), scoring=('precision', 'recall', 'f1'), return_train_score=False, n_jobs = -2)\n",
    "print(stratified_cv_results)\n",
    "svc_rbf_C_1_gamma_01_result = stratified_cv_results\n",
    "print(\"--- %s seconds ---\" % (time.time() - start_time))"
   ]
  },
  {
   "cell_type": "code",
   "execution_count": 25,
   "metadata": {},
   "outputs": [
    {
     "name": "stdout",
     "output_type": "stream",
     "text": [
      "{'fit_time': array([260.37695312, 252.36091495, 257.96013594]), 'score_time': array([281.51447558, 272.93654275, 277.89684081]), 'test_precision': array([0., 0., 1.]), 'test_recall': array([0.        , 0.        , 0.00568182]), 'test_f1': array([0.        , 0.        , 0.01129944])}\n",
      "--- 543.1382102966309 seconds ---\n"
     ]
    }
   ],
   "source": [
    "start_time = time.time()\n",
    "svc_rbf_C_1_gamma_001 = SVC(C=1, kernel='rbf', gamma=0.01)\n",
    "stratified_cv_results = cross_validate(svc_rbf_C_1_gamma_001, X, y_bush, cv=StratifiedKFold(n_splits = 3, shuffle=True, random_state = 6926), scoring=('precision', 'recall', 'f1'), return_train_score=False, n_jobs = -2)\n",
    "print(stratified_cv_results)\n",
    "svc_rbf_C_1_gamma_001_result = stratified_cv_results\n",
    "print(\"--- %s seconds ---\" % (time.time() - start_time))"
   ]
  },
  {
   "cell_type": "code",
   "execution_count": 26,
   "metadata": {},
   "outputs": [
    {
     "name": "stdout",
     "output_type": "stream",
     "text": [
      "{'fit_time': array([61.7690177 , 59.8157146 , 60.45922351]), 'score_time': array([84.15790009, 83.18187761, 83.95980263]), 'test_precision': array([0., 0., 0.]), 'test_recall': array([0., 0., 0.]), 'test_f1': array([0., 0., 0.])}\n",
      "--- 147.22868061065674 seconds ---\n"
     ]
    }
   ],
   "source": [
    "start_time = time.time()\n",
    "svc_rbf_C_1_gamma_0001 = SVC(C=1, kernel='rbf', gamma=0.001)\n",
    "stratified_cv_results = cross_validate(svc_rbf_C_1_gamma_0001, X, y_bush, cv=StratifiedKFold(n_splits = 3, shuffle=True, random_state = 6926), scoring=('precision', 'recall', 'f1'), return_train_score=False, n_jobs = -2)\n",
    "print(stratified_cv_results)\n",
    "svc_rbf_C_1_gamma_0001_result = stratified_cv_results\n",
    "print(\"--- %s seconds ---\" % (time.time() - start_time))"
   ]
  },
  {
   "cell_type": "code",
   "execution_count": 27,
   "metadata": {},
   "outputs": [
    {
     "name": "stdout",
     "output_type": "stream",
     "text": [
      "{'fit_time': array([49.63749146, 47.88035059, 48.77105308]), 'score_time': array([62.14152002, 60.93379617, 61.54460287]), 'test_precision': array([0., 0., 0.]), 'test_recall': array([0., 0., 0.]), 'test_f1': array([0., 0., 0.])}\n",
      "--- 113.25217366218567 seconds ---\n"
     ]
    }
   ],
   "source": [
    "start_time = time.time()\n",
    "svc_rbf_C_1_gamma_00001 = SVC(C=1, kernel='rbf', gamma=0.0001)\n",
    "stratified_cv_results = cross_validate(svc_rbf_C_1_gamma_00001, X, y_bush, cv=StratifiedKFold(n_splits = 3, shuffle=True, random_state = 6926), scoring=('precision', 'recall', 'f1'), return_train_score=False, n_jobs = -2)\n",
    "print(stratified_cv_results)\n",
    "svc_rbf_C_1_gamma_00001_result = stratified_cv_results\n",
    "print(\"--- %s seconds ---\" % (time.time() - start_time))"
   ]
  },
  {
   "cell_type": "code",
   "execution_count": 28,
   "metadata": {},
   "outputs": [
    {
     "name": "stdout",
     "output_type": "stream",
     "text": [
      "{'fit_time': array([821.99969912, 821.37930679, 891.37303305]), 'score_time': array([464.33247995, 464.16993546, 459.9219873 ]), 'test_precision': array([0., 0., 0.]), 'test_recall': array([0., 0., 0.]), 'test_f1': array([0., 0., 0.])}\n",
      "--- 1355.9965934753418 seconds ---\n"
     ]
    }
   ],
   "source": [
    "start_time = time.time()\n",
    "svc_rbf_C_1_gamma_10 = SVC(C=1, kernel='rbf', gamma=10)\n",
    "stratified_cv_results = cross_validate(svc_rbf_C_1_gamma_10, X, y_bush, cv=StratifiedKFold(n_splits = 3, shuffle=True, random_state = 6926), scoring=('precision', 'recall', 'f1'), return_train_score=False, n_jobs = -2)\n",
    "print(stratified_cv_results)\n",
    "svc_rbf_C_1_gamma_10_result = stratified_cv_results\n",
    "print(\"--- %s seconds ---\" % (time.time() - start_time))"
   ]
  },
  {
   "cell_type": "code",
   "execution_count": 29,
   "metadata": {},
   "outputs": [
    {
     "name": "stdout",
     "output_type": "stream",
     "text": [
      "{'fit_time': array([789.26830649, 788.99007463, 855.34870362]), 'score_time': array([455.33391786, 455.76177573, 453.55769587]), 'test_precision': array([0., 0., 0.]), 'test_recall': array([0., 0., 0.]), 'test_f1': array([0., 0., 0.])}\n",
      "--- 1312.7680468559265 seconds ---\n"
     ]
    }
   ],
   "source": [
    "start_time = time.time()\n",
    "svc_rbf_C_1_gamma_100 = SVC(C=1, kernel='rbf', gamma=100)\n",
    "stratified_cv_results = cross_validate(svc_rbf_C_1_gamma_100, X, y_bush, cv=StratifiedKFold(n_splits = 3, shuffle=True, random_state = 6926), scoring=('precision', 'recall', 'f1'), return_train_score=False, n_jobs = -2)\n",
    "print(stratified_cv_results)\n",
    "svc_rbf_C_1_gamma_100_result = stratified_cv_results\n",
    "print(\"--- %s seconds ---\" % (time.time() - start_time))"
   ]
  },
  {
   "cell_type": "code",
   "execution_count": 30,
   "metadata": {},
   "outputs": [
    {
     "name": "stdout",
     "output_type": "stream",
     "text": [
      "{'fit_time': array([790.14399171, 788.16927099, 855.0684514 ]), 'score_time': array([454.83328509, 454.71257949, 452.93932033]), 'test_precision': array([0., 0., 0.]), 'test_recall': array([0., 0., 0.]), 'test_f1': array([0., 0., 0.])}\n",
      "--- 1310.229859828949 seconds ---\n"
     ]
    }
   ],
   "source": [
    "start_time = time.time()\n",
    "svc_rbf_C_1_gamma_1000 = SVC(C=1, kernel='rbf', gamma=1000)\n",
    "stratified_cv_results = cross_validate(svc_rbf_C_1_gamma_1000, X, y_bush, cv=StratifiedKFold(n_splits = 3, shuffle=True, random_state = 6926), scoring=('precision', 'recall', 'f1'), return_train_score=False, n_jobs = -2)\n",
    "print(stratified_cv_results)\n",
    "svc_rbf_C_1_gamma_1000_result = stratified_cv_results\n",
    "print(\"--- %s seconds ---\" % (time.time() - start_time))"
   ]
  },
  {
   "cell_type": "code",
   "execution_count": 31,
   "metadata": {},
   "outputs": [
    {
     "name": "stdout",
     "output_type": "stream",
     "text": [
      "{'fit_time': array([49.50069284, 48.05655265, 48.70578432]), 'score_time': array([59.67152834, 58.5674808 , 59.5598011 ]), 'test_precision': array([0.95652174, 0.92857143, 0.92424242]), 'test_recall': array([0.37288136, 0.36723164, 0.34659091]), 'test_f1': array([0.53658537, 0.52631579, 0.50413223])}\n",
      "--- 110.4039032459259 seconds ---\n"
     ]
    }
   ],
   "source": [
    "start_time = time.time()\n",
    "svc_rbf_C_100_gamma_00001 = SVC(C=100, kernel='rbf', gamma=0.0001)\n",
    "stratified_cv_results = cross_validate(svc_rbf_C_100_gamma_00001, X, y_bush, cv=StratifiedKFold(n_splits = 3, shuffle=True, random_state = 6926), scoring=('precision', 'recall', 'f1'), return_train_score=False, n_jobs = -2)\n",
    "print(stratified_cv_results)\n",
    "svc_rbf_C_100_gamma_00001_result = stratified_cv_results\n",
    "print(\"--- %s seconds ---\" % (time.time() - start_time))"
   ]
  },
  {
   "cell_type": "code",
   "execution_count": 32,
   "metadata": {},
   "outputs": [
    {
     "name": "stdout",
     "output_type": "stream",
     "text": [
      "{'fit_time': array([1198.77686858, 1199.94600892, 1255.92115951]), 'score_time': array([552.96679521, 553.56094027, 545.3515799 ]), 'test_precision': array([0., 0., 0.]), 'test_recall': array([0., 0., 0.]), 'test_f1': array([0., 0., 0.])}\n",
      "--- 1803.4737057685852 seconds ---\n"
     ]
    }
   ],
   "source": [
    "start_time = time.time()\n",
    "svc_rbf_C_100_gamma_10 = SVC(C=100, kernel='rbf', gamma=10)\n",
    "stratified_cv_results = cross_validate(svc_rbf_C_100_gamma_10, X, y_bush, cv=StratifiedKFold(n_splits = 3, shuffle=True, random_state = 6926), scoring=('precision', 'recall', 'f1'), return_train_score=False, n_jobs = -2)\n",
    "print(stratified_cv_results)\n",
    "svc_rbf_C_100_gamma_10_result = stratified_cv_results\n",
    "print(\"--- %s seconds ---\" % (time.time() - start_time))"
   ]
  },
  {
   "cell_type": "code",
   "execution_count": 33,
   "metadata": {},
   "outputs": [
    {
     "name": "stdout",
     "output_type": "stream",
     "text": [
      "{'fit_time': array([53.7333076 , 51.67879701, 51.75758958]), 'score_time': array([65.65716839, 63.51383734, 63.56771898]), 'test_precision': array([0.85087719, 0.83760684, 0.78181818]), 'test_recall': array([0.5480226 , 0.55367232, 0.48863636]), 'test_f1': array([0.66666667, 0.66666667, 0.6013986 ])}\n",
      "--- 120.60535860061646 seconds ---\n"
     ]
    }
   ],
   "source": [
    "start_time = time.time()\n",
    "svc_rbf_C_100 = SVC(C=100, kernel='rbf')\n",
    "stratified_cv_results = cross_validate(svc_rbf_C_100, X, y_bush, cv=StratifiedKFold(n_splits = 3, shuffle=True, random_state = 6926), scoring=('precision', 'recall', 'f1'), return_train_score=False, n_jobs = -2)\n",
    "print(stratified_cv_results)\n",
    "svc_rbf_C_100_result = stratified_cv_results\n",
    "print(\"--- %s seconds ---\" % (time.time() - start_time))"
   ]
  },
  {
   "cell_type": "code",
   "execution_count": 34,
   "metadata": {},
   "outputs": [
    {
     "name": "stdout",
     "output_type": "stream",
     "text": [
      "{'fit_time': array([52.09113503, 50.92923832, 52.41626954]), 'score_time': array([65.65296412, 64.31853151, 65.98110652]), 'test_precision': array([0.78571429, 0.77443609, 0.76744186]), 'test_recall': array([0.55932203, 0.5819209 , 0.5625    ]), 'test_f1': array([0.65346535, 0.66451613, 0.64918033])}\n",
      "--- 120.60844254493713 seconds ---\n"
     ]
    }
   ],
   "source": [
    "start_time = time.time()\n",
    "svc_rbf_C_1000 = SVC(C=1000, kernel='rbf')\n",
    "stratified_cv_results = cross_validate(svc_rbf_C_1000, X, y_bush, cv=StratifiedKFold(n_splits = 3, shuffle=True, random_state = 6926), scoring=('precision', 'recall', 'f1'), return_train_score=False, n_jobs = -2)\n",
    "print(stratified_cv_results)\n",
    "svc_rbf_C_1000_result = stratified_cv_results\n",
    "print(\"--- %s seconds ---\" % (time.time() - start_time))"
   ]
  },
  {
   "cell_type": "code",
   "execution_count": 35,
   "metadata": {},
   "outputs": [
    {
     "name": "stdout",
     "output_type": "stream",
     "text": [
      "{'fit_time': array([48.74074745, 47.67057943, 47.90993905]), 'score_time': array([62.78614783, 61.48964047, 61.71404147]), 'test_precision': array([0., 0., 0.]), 'test_recall': array([0., 0., 0.]), 'test_f1': array([0., 0., 0.])}\n",
      "--- 112.72279834747314 seconds ---\n"
     ]
    }
   ],
   "source": [
    "start_time = time.time()\n",
    "svc_rbf_C_10 = SVC(C=10, kernel='rbf')\n",
    "stratified_cv_results = cross_validate(svc_rbf_C_10, X, y_bush, cv=StratifiedKFold(n_splits = 3, shuffle=True, random_state = 6926), scoring=('precision', 'recall', 'f1'), return_train_score=False, n_jobs = -2)\n",
    "print(stratified_cv_results)\n",
    "svc_rbf_C_10_result = stratified_cv_results\n",
    "print(\"--- %s seconds ---\" % (time.time() - start_time))"
   ]
  },
  {
   "cell_type": "code",
   "execution_count": 36,
   "metadata": {},
   "outputs": [
    {
     "name": "stdout",
     "output_type": "stream",
     "text": [
      "{'fit_time': array([52.02852392, 50.79681563, 52.25391889]), 'score_time': array([65.177809  , 63.47236872, 65.85998631]), 'test_precision': array([0.78571429, 0.77443609, 0.76744186]), 'test_recall': array([0.55932203, 0.5819209 , 0.5625    ]), 'test_f1': array([0.65346535, 0.66451613, 0.64918033])}\n",
      "--- 120.36688733100891 seconds ---\n"
     ]
    }
   ],
   "source": [
    "start_time = time.time()\n",
    "svc_rbf_C_10000 = SVC(C=10000, kernel='rbf')\n",
    "stratified_cv_results = cross_validate(svc_rbf_C_10000, X, y_bush, cv=StratifiedKFold(n_splits = 3, shuffle=True, random_state = 6926), scoring=('precision', 'recall', 'f1'), return_train_score=False, n_jobs = -2)\n",
    "print(stratified_cv_results)\n",
    "svc_rbf_C_10000_result = stratified_cv_results\n",
    "print(\"--- %s seconds ---\" % (time.time() - start_time))"
   ]
  },
  {
   "cell_type": "code",
   "execution_count": 37,
   "metadata": {},
   "outputs": [
    {
     "name": "stdout",
     "output_type": "stream",
     "text": [
      "{'fit_time': array([253.96050858, 241.89077139, 245.62179923]), 'score_time': array([53.70249057, 50.56683707, 52.5744729 ]), 'test_precision': array([0.63190184, 0.67948718, 0.63815789]), 'test_recall': array([0.5819209 , 0.59887006, 0.55113636]), 'test_f1': array([0.60588235, 0.63663664, 0.59146341])}\n",
      "--- 308.91742849349976 seconds ---\n"
     ]
    }
   ],
   "source": [
    "start_time = time.time()\n",
    "svc_linear_C_1000_prob_T = SVC(C=1000, kernel='linear', probability=True)\n",
    "stratified_cv_results = cross_validate(svc_linear_C_1000_prob_T, X, y_bush, cv=StratifiedKFold(n_splits = 3, shuffle=True, random_state = 6926), scoring=('precision', 'recall', 'f1'), return_train_score=False, n_jobs = -2)\n",
    "print(stratified_cv_results)\n",
    "svc_linear_C_1000_prob_T_result = stratified_cv_results\n",
    "print(\"--- %s seconds ---\" % (time.time() - start_time))"
   ]
  },
  {
   "cell_type": "code",
   "execution_count": 38,
   "metadata": {},
   "outputs": [
    {
     "name": "stdout",
     "output_type": "stream",
     "text": [
      "{'fit_time': array([1393.29979539, 1398.5912776 , 1409.45526242]), 'score_time': array([477.67951465, 476.33049321, 474.26601434]), 'test_precision': array([0., 0., 0.]), 'test_recall': array([0., 0., 0.]), 'test_f1': array([0., 0., 0.])}\n",
      "--- 1886.0131013393402 seconds ---\n"
     ]
    }
   ],
   "source": [
    "start_time = time.time()\n",
    "svc_rbf_C_1000_gamma_01 = SVC(C=1000, kernel='rbf', gamma= 0.1)\n",
    "stratified_cv_results = cross_validate(svc_rbf_C_1000_gamma_01, X, y_bush, cv=StratifiedKFold(n_splits = 3, shuffle=True, random_state = 6926), scoring=('precision', 'recall', 'f1'), return_train_score=False, n_jobs = -2)\n",
    "print(stratified_cv_results)\n",
    "svc_rbf_C_1000_gamma_01_result = stratified_cv_results\n",
    "print(\"--- %s seconds ---\" % (time.time() - start_time))"
   ]
  },
  {
   "cell_type": "code",
   "execution_count": 39,
   "metadata": {},
   "outputs": [
    {
     "name": "stdout",
     "output_type": "stream",
     "text": [
      "{'fit_time': array([1041.01841879, 1041.59487772, 1090.48719072]), 'score_time': array([449.11155152, 449.03276277, 448.00550675]), 'test_precision': array([0., 0., 0.]), 'test_recall': array([0., 0., 0.]), 'test_f1': array([0., 0., 0.])}\n",
      "--- 1540.7227385044098 seconds ---\n"
     ]
    }
   ],
   "source": [
    "start_time = time.time()\n",
    "svc_rbf_C_1000_gamma_1 = SVC(C=1000, kernel='rbf', gamma= 1)\n",
    "stratified_cv_results = cross_validate(svc_rbf_C_1000_gamma_1, X, y_bush, cv=StratifiedKFold(n_splits = 3, shuffle=True, random_state = 6926), scoring=('precision', 'recall', 'f1'), return_train_score=False, n_jobs = -2)\n",
    "print(stratified_cv_results)\n",
    "svc_rbf_C_1000_gamma_1_result = stratified_cv_results\n",
    "print(\"--- %s seconds ---\" % (time.time() - start_time))"
   ]
  },
  {
   "cell_type": "code",
   "execution_count": 40,
   "metadata": {},
   "outputs": [
    {
     "name": "stdout",
     "output_type": "stream",
     "text": [
      "{'fit_time': array([280.81493974, 268.67058969, 273.91190124]), 'score_time': array([281.5531497 , 275.0486424 , 278.31405139]), 'test_precision': array([1., 1., 1.]), 'test_recall': array([0.01694915, 0.02259887, 0.01704545]), 'test_f1': array([0.03333333, 0.0441989 , 0.03351955])}\n",
      "--- 563.6087424755096 seconds ---\n"
     ]
    }
   ],
   "source": [
    "start_time = time.time()\n",
    "svc_rbf_C_1000_gamma_001 = SVC(C=1000, kernel='rbf', gamma= 0.01)\n",
    "stratified_cv_results = cross_validate(svc_rbf_C_1000_gamma_001, X, y_bush, cv=StratifiedKFold(n_splits = 3, shuffle=True, random_state = 6926), scoring=('precision', 'recall', 'f1'), return_train_score=False, n_jobs = -2)\n",
    "print(stratified_cv_results)\n",
    "svc_rbf_C_1000_gamma_001_result = stratified_cv_results\n",
    "print(\"--- %s seconds ---\" % (time.time() - start_time))"
   ]
  },
  {
   "cell_type": "code",
   "execution_count": 41,
   "metadata": {},
   "outputs": [
    {
     "name": "stdout",
     "output_type": "stream",
     "text": [
      "{'fit_time': array([62.97750449, 60.64384747, 62.25278211]), 'score_time': array([84.84612775, 82.76114702, 84.47450137]), 'test_precision': array([0.85416667, 0.88043478, 0.81372549]), 'test_recall': array([0.46327684, 0.45762712, 0.47159091]), 'test_f1': array([0.6007326 , 0.60223048, 0.5971223 ])}\n",
      "--- 149.05800604820251 seconds ---\n"
     ]
    }
   ],
   "source": [
    "start_time = time.time()\n",
    "svc_rbf_C_1000_gamma_0001 = SVC(C=1000, kernel='rbf', gamma= 0.001)\n",
    "stratified_cv_results = cross_validate(svc_rbf_C_1000_gamma_0001, X, y_bush, cv=StratifiedKFold(n_splits = 3, shuffle=True, random_state = 6926), scoring=('precision', 'recall', 'f1'), return_train_score=False, n_jobs = -2)\n",
    "print(stratified_cv_results)\n",
    "svc_rbf_C_1000_gamma_0001_result = stratified_cv_results\n",
    "print(\"--- %s seconds ---\" % (time.time() - start_time))"
   ]
  },
  {
   "cell_type": "code",
   "execution_count": 42,
   "metadata": {},
   "outputs": [
    {
     "name": "stdout",
     "output_type": "stream",
     "text": [
      "{'fit_time': array([51.04655552, 49.49473119, 49.63230562]), 'score_time': array([60.02555418, 57.83538175, 58.19943619]), 'test_precision': array([0.7761194 , 0.75167785, 0.70714286]), 'test_recall': array([0.58757062, 0.63276836, 0.5625    ]), 'test_f1': array([0.66881029, 0.68711656, 0.62658228])}\n",
      "--- 112.31603789329529 seconds ---\n"
     ]
    }
   ],
   "source": [
    "start_time = time.time()\n",
    "svc_rbf_C_1000_gamma_00001 = SVC(C=1000, kernel='rbf', gamma= 0.0001)\n",
    "stratified_cv_results = cross_validate(svc_rbf_C_1000_gamma_00001, X, y_bush, cv=StratifiedKFold(n_splits = 3, shuffle=True, random_state = 6926), scoring=('precision', 'recall', 'f1'), return_train_score=False, n_jobs = -2)\n",
    "print(stratified_cv_results)\n",
    "svc_rbf_C_1000_gamma_00001_result = stratified_cv_results\n",
    "print(\"--- %s seconds ---\" % (time.time() - start_time))"
   ]
  },
  {
   "cell_type": "code",
   "execution_count": 43,
   "metadata": {},
   "outputs": [
    {
     "name": "stdout",
     "output_type": "stream",
     "text": [
      "{'fit_time': array([49.36353326, 47.95031166, 47.98321939]), 'score_time': array([55.96144485, 54.53223729, 54.81049466]), 'test_precision': array([0.95714286, 0.90410959, 0.92307692]), 'test_recall': array([0.37853107, 0.37288136, 0.34090909]), 'test_f1': array([0.54251012, 0.528     , 0.49792531])}\n",
      "--- 106.58873128890991 seconds ---\n"
     ]
    }
   ],
   "source": [
    "start_time = time.time()\n",
    "svc_rbf_C_1000_gamma_000001 = SVC(C=1000, kernel='rbf', gamma= 0.00001)\n",
    "stratified_cv_results = cross_validate(svc_rbf_C_1000_gamma_000001, X, y_bush, cv=StratifiedKFold(n_splits = 3, shuffle=True, random_state = 6926), scoring=('precision', 'recall', 'f1'), return_train_score=False, n_jobs = -2)\n",
    "print(stratified_cv_results)\n",
    "svc_rbf_C_1000_gamma_000001_result = stratified_cv_results\n",
    "print(\"--- %s seconds ---\" % (time.time() - start_time))"
   ]
  },
  {
   "cell_type": "code",
   "execution_count": 44,
   "metadata": {},
   "outputs": [
    {
     "name": "stdout",
     "output_type": "stream",
     "text": [
      "{'fit_time': array([61.23489451, 59.22648525, 61.22948074]), 'score_time': array([75.92538714, 73.52557325, 75.11959362]), 'test_precision': array([0.78461538, 0.76978417, 0.7480916 ]), 'test_recall': array([0.57627119, 0.60451977, 0.55681818]), 'test_f1': array([0.66449511, 0.67721519, 0.63843648])}\n",
      "--- 139.2022523880005 seconds ---\n"
     ]
    }
   ],
   "source": [
    "start_time = time.time()\n",
    "svc_rbf_C_1000_gamma_00002 = SVC(C=1000, kernel='rbf', gamma= 0.0002)\n",
    "stratified_cv_results = cross_validate(svc_rbf_C_1000_gamma_00002, X, y_bush, cv=StratifiedKFold(n_splits = 3, shuffle=True, random_state = 6926), scoring=('precision', 'recall', 'f1'), return_train_score=False, n_jobs = -2)\n",
    "print(stratified_cv_results)\n",
    "svc_rbf_C_1000_gamma_00002_result = stratified_cv_results\n",
    "print(\"--- %s seconds ---\" % (time.time() - start_time))"
   ]
  },
  {
   "cell_type": "code",
   "execution_count": 45,
   "metadata": {},
   "outputs": [
    {
     "name": "stdout",
     "output_type": "stream",
     "text": [
      "{'fit_time': array([62.36785626, 60.29133201, 60.92518425]), 'score_time': array([74.07519174, 72.22787857, 72.03095293]), 'test_precision': array([0.7761194 , 0.74482759, 0.72592593]), 'test_recall': array([0.58757062, 0.61016949, 0.55681818]), 'test_f1': array([0.66881029, 0.67080745, 0.63022508])}\n",
      "--- 138.4195899963379 seconds ---\n"
     ]
    }
   ],
   "source": [
    "start_time = time.time()\n",
    "svc_rbf_C_1000_gamma_000015 = SVC(C=1000, kernel='rbf', gamma= 0.00015)\n",
    "stratified_cv_results = cross_validate(svc_rbf_C_1000_gamma_000015, X, y_bush, cv=StratifiedKFold(n_splits = 3, shuffle=True, random_state = 6926), scoring=('precision', 'recall', 'f1'), return_train_score=False, n_jobs = -2)\n",
    "print(stratified_cv_results)\n",
    "svc_rbf_C_1000_gamma_000015_result = stratified_cv_results\n",
    "print(\"--- %s seconds ---\" % (time.time() - start_time))"
   ]
  },
  {
   "cell_type": "code",
   "execution_count": 46,
   "metadata": {},
   "outputs": [
    {
     "name": "stdout",
     "output_type": "stream",
     "text": [
      "{'fit_time': array([60.04818606, 56.9769907 , 57.76681113]), 'score_time': array([66.06458879, 65.05384183, 64.92013216]), 'test_precision': array([0.79411765, 0.76760563, 0.72932331]), 'test_recall': array([0.61016949, 0.61581921, 0.55113636]), 'test_f1': array([0.69009585, 0.68338558, 0.62783172])}\n",
      "--- 127.88449597358704 seconds ---\n"
     ]
    }
   ],
   "source": [
    "start_time = time.time()\n",
    "svc_rbf_C_1000_gamma_000005 = SVC(C=1000, kernel='rbf', gamma= 0.00005)\n",
    "stratified_cv_results = cross_validate(svc_rbf_C_1000_gamma_000005, X, y_bush, cv=StratifiedKFold(n_splits = 3, shuffle=True, random_state = 6926), scoring=('precision', 'recall', 'f1'), return_train_score=False, n_jobs = -2)\n",
    "print(stratified_cv_results)\n",
    "svc_rbf_C_1000_gamma_000005_result = stratified_cv_results\n",
    "print(\"--- %s seconds ---\" % (time.time() - start_time))"
   ]
  },
  {
   "cell_type": "code",
   "execution_count": 47,
   "metadata": {},
   "outputs": [
    {
     "name": "stdout",
     "output_type": "stream",
     "text": [
      "{'fit_time': array([51.9376843 , 49.80105972, 49.80135846]), 'score_time': array([58.23258162, 55.1709249 , 56.30881476]), 'test_precision': array([0.79844961, 0.77372263, 0.744     ]), 'test_recall': array([0.5819209 , 0.59887006, 0.52840909]), 'test_f1': array([0.67320261, 0.67515924, 0.6179402 ])}\n",
      "--- 111.55321502685547 seconds ---\n"
     ]
    }
   ],
   "source": [
    "start_time = time.time()\n",
    "svc_rbf_C_1000_gamma_000004 = SVC(C=1000, kernel='rbf', gamma= 0.00004)\n",
    "stratified_cv_results = cross_validate(svc_rbf_C_1000_gamma_000004, X, y_bush, cv=StratifiedKFold(n_splits = 3, shuffle=True, random_state = 6926), scoring=('precision', 'recall', 'f1'), return_train_score=False, n_jobs = -2)\n",
    "print(stratified_cv_results)\n",
    "svc_rbf_C_1000_gamma_000004_result = stratified_cv_results\n",
    "print(\"--- %s seconds ---\" % (time.time() - start_time))"
   ]
  },
  {
   "cell_type": "code",
   "execution_count": 48,
   "metadata": {},
   "outputs": [
    {
     "name": "stdout",
     "output_type": "stream",
     "text": [
      "{'fit_time': array([51.69661784, 49.42466807, 50.44916916]), 'score_time': array([58.13114786, 56.74855995, 57.33198762]), 'test_precision': array([0.76811594, 0.74829932, 0.69565217]), 'test_recall': array([0.59887006, 0.62146893, 0.54545455]), 'test_f1': array([0.67301587, 0.67901235, 0.61146497])}\n",
      "--- 111.15463829040527 seconds ---\n"
     ]
    }
   ],
   "source": [
    "start_time = time.time()\n",
    "svc_rbf_C_1000_gamma_000006 = SVC(C=1000, kernel='rbf', gamma= 0.00006)\n",
    "stratified_cv_results = cross_validate(svc_rbf_C_1000_gamma_000006, X, y_bush, cv=StratifiedKFold(n_splits = 3, shuffle=True, random_state = 6926), scoring=('precision', 'recall', 'f1'), return_train_score=False, n_jobs = -2)\n",
    "print(stratified_cv_results)\n",
    "svc_rbf_C_1000_gamma_000006_result = stratified_cv_results\n",
    "print(\"--- %s seconds ---\" % (time.time() - start_time))"
   ]
  },
  {
   "cell_type": "code",
   "execution_count": 49,
   "metadata": {},
   "outputs": [
    {
     "name": "stdout",
     "output_type": "stream",
     "text": [
      "{'fit_time': array([51.25485921, 49.61973238, 50.30232286]), 'score_time': array([58.34639883, 57.33773088, 58.14393806]), 'test_precision': array([0.76811594, 0.74482759, 0.69565217]), 'test_recall': array([0.59887006, 0.61016949, 0.54545455]), 'test_f1': array([0.67301587, 0.67080745, 0.61146497])}\n",
      "--- 110.91904377937317 seconds ---\n"
     ]
    }
   ],
   "source": [
    "start_time = time.time()\n",
    "svc_rbf_C_1000_gamma_000007 = SVC(C=1000, kernel='rbf', gamma= 0.00007)\n",
    "stratified_cv_results = cross_validate(svc_rbf_C_1000_gamma_000007, X, y_bush, cv=StratifiedKFold(n_splits = 3, shuffle=True, random_state = 6926), scoring=('precision', 'recall', 'f1'), return_train_score=False, n_jobs = -2)\n",
    "print(stratified_cv_results)\n",
    "svc_rbf_C_1000_gamma_000007_result = stratified_cv_results\n",
    "print(\"--- %s seconds ---\" % (time.time() - start_time))"
   ]
  },
  {
   "cell_type": "code",
   "execution_count": 50,
   "metadata": {},
   "outputs": [
    {
     "name": "stdout",
     "output_type": "stream",
     "text": [
      "{'fit_time': array([51.62584782, 49.61591649, 50.86324453]), 'score_time': array([57.77679944, 56.64791989, 56.90982127]), 'test_precision': array([0.77142857, 0.74829932, 0.71641791]), 'test_recall': array([0.61016949, 0.62146893, 0.54545455]), 'test_f1': array([0.68138801, 0.67901235, 0.61935484])}\n",
      "--- 110.73258876800537 seconds ---\n"
     ]
    }
   ],
   "source": [
    "start_time = time.time()\n",
    "svc_rbf_C_1000_gamma_0000055 = SVC(C=1000, kernel='rbf', gamma= 0.000055)\n",
    "stratified_cv_results = cross_validate(svc_rbf_C_1000_gamma_0000055, X, y_bush, cv=StratifiedKFold(n_splits = 3, shuffle=True, random_state = 6926), scoring=('precision', 'recall', 'f1'), return_train_score=False, n_jobs = -2)\n",
    "print(stratified_cv_results)\n",
    "svc_rbf_C_1000_gamma_0000055_result = stratified_cv_results\n",
    "print(\"--- %s seconds ---\" % (time.time() - start_time))"
   ]
  },
  {
   "cell_type": "code",
   "execution_count": 51,
   "metadata": {},
   "outputs": [
    {
     "name": "stdout",
     "output_type": "stream",
     "text": [
      "{'fit_time': array([51.42029977, 49.88759756, 50.14564443]), 'score_time': array([57.76721644, 55.8933661 , 55.72239351]), 'test_precision': array([0.79699248, 0.77142857, 0.73076923]), 'test_recall': array([0.59887006, 0.61016949, 0.53977273]), 'test_f1': array([0.68387097, 0.68138801, 0.62091503])}\n",
      "--- 110.5698606967926 seconds ---\n"
     ]
    }
   ],
   "source": [
    "start_time = time.time()\n",
    "svc_rbf_C_1000_gamma_0000045 = SVC(C=1000, kernel='rbf', gamma= 0.000045)\n",
    "stratified_cv_results = cross_validate(svc_rbf_C_1000_gamma_0000045, X, y_bush, cv=StratifiedKFold(n_splits = 3, shuffle=True, random_state = 6926), scoring=('precision', 'recall', 'f1'), return_train_score=False, n_jobs = -2)\n",
    "print(stratified_cv_results)\n",
    "svc_rbf_C_1000_gamma_0000045_result = stratified_cv_results\n",
    "print(\"--- %s seconds ---\" % (time.time() - start_time))"
   ]
  },
  {
   "cell_type": "code",
   "execution_count": 52,
   "metadata": {},
   "outputs": [
    {
     "name": "stdout",
     "output_type": "stream",
     "text": [
      "{'fit_time': array([50.31834078, 49.30299878, 48.88910437]), 'score_time': array([56.19641805, 55.10832262, 55.07940006]), 'test_precision': array([0.78832117, 0.76388889, 0.7238806 ]), 'test_recall': array([0.61016949, 0.62146893, 0.55113636]), 'test_f1': array([0.68789809, 0.68535826, 0.62580645])}\n",
      "--- 107.68357634544373 seconds ---\n"
     ]
    }
   ],
   "source": [
    "start_time = time.time()\n",
    "svc_rbf_C_1000_gamma_0000052 = SVC(C=1000, kernel='rbf', gamma= 0.000052)\n",
    "stratified_cv_results = cross_validate(svc_rbf_C_1000_gamma_0000052, X, y_bush, cv=StratifiedKFold(n_splits = 3, shuffle=True, random_state = 6926), scoring=('precision', 'recall', 'f1'), return_train_score=False, n_jobs = -2)\n",
    "print(stratified_cv_results)\n",
    "svc_rbf_C_1000_gamma_0000052_result = stratified_cv_results\n",
    "print(\"--- %s seconds ---\" % (time.time() - start_time))"
   ]
  },
  {
   "cell_type": "code",
   "execution_count": 53,
   "metadata": {},
   "outputs": [
    {
     "name": "stdout",
     "output_type": "stream",
     "text": [
      "{'fit_time': array([50.81714129, 48.51429319, 49.48405147]), 'score_time': array([56.85185862, 55.63659787, 55.685817  ]), 'test_precision': array([0.79411765, 0.76388889, 0.72592593]), 'test_recall': array([0.61016949, 0.62146893, 0.55681818]), 'test_f1': array([0.69009585, 0.68535826, 0.63022508])}\n",
      "--- 108.94416499137878 seconds ---\n"
     ]
    }
   ],
   "source": [
    "start_time = time.time()\n",
    "svc_rbf_C_1000_gamma_0000051 = SVC(C=1000, kernel='rbf', gamma= 0.000051)\n",
    "stratified_cv_results = cross_validate(svc_rbf_C_1000_gamma_0000051, X, y_bush, cv=StratifiedKFold(n_splits = 3, shuffle=True, random_state = 6926), scoring=('precision', 'recall', 'f1'), return_train_score=False, n_jobs = -2)\n",
    "print(stratified_cv_results)\n",
    "svc_rbf_C_1000_gamma_0000051_result = stratified_cv_results\n",
    "print(\"--- %s seconds ---\" % (time.time() - start_time))"
   ]
  },
  {
   "cell_type": "code",
   "execution_count": 54,
   "metadata": {},
   "outputs": [
    {
     "name": "stdout",
     "output_type": "stream",
     "text": [
      "{'fit_time': array([63.06242847, 59.66660166, 60.29981256]), 'score_time': array([69.60893822, 67.74847937, 68.58594322]), 'test_precision': array([0.75177305, 0.73509934, 0.70503597]), 'test_recall': array([0.59887006, 0.62711864, 0.55681818]), 'test_f1': array([0.66666667, 0.67682927, 0.62222222])}\n",
      "--- 134.57460021972656 seconds ---\n"
     ]
    }
   ],
   "source": [
    "start_time = time.time()\n",
    "svc_rbf_C_2000_gamma_0000051 = SVC(C=2000, kernel='rbf', gamma= 0.000051)\n",
    "stratified_cv_results = cross_validate(svc_rbf_C_2000_gamma_0000051, X, y_bush, cv=StratifiedKFold(n_splits = 3, shuffle=True, random_state = 6926), scoring=('precision', 'recall', 'f1'), return_train_score=False, n_jobs = -2)\n",
    "print(stratified_cv_results)\n",
    "svc_rbf_C_2000_gamma_0000051_result = stratified_cv_results\n",
    "print(\"--- %s seconds ---\" % (time.time() - start_time))"
   ]
  },
  {
   "cell_type": "code",
   "execution_count": 55,
   "metadata": {},
   "outputs": [
    {
     "name": "stdout",
     "output_type": "stream",
     "text": [
      "{'fit_time': array([51.12654209, 49.3825295 , 49.79087257]), 'score_time': array([58.44331264, 55.28984261, 56.61936688]), 'test_precision': array([0.8      , 0.7826087, 0.752    ]), 'test_recall': array([0.58757062, 0.61016949, 0.53409091]), 'test_f1': array([0.67752443, 0.68571429, 0.62458472])}\n",
      "--- 110.8900728225708 seconds ---\n"
     ]
    }
   ],
   "source": [
    "start_time = time.time()\n",
    "svc_rbf_C_800_gamma_0000051 = SVC(C=800, kernel='rbf', gamma= 0.000051)\n",
    "stratified_cv_results = cross_validate(svc_rbf_C_800_gamma_0000051, X, y_bush, cv=StratifiedKFold(n_splits = 3, shuffle=True, random_state = 6926), scoring=('precision', 'recall', 'f1'), return_train_score=False, n_jobs = -2)\n",
    "print(stratified_cv_results)\n",
    "svc_rbf_C_800_gamma_0000051_result = stratified_cv_results\n",
    "print(\"--- %s seconds ---\" % (time.time() - start_time))"
   ]
  },
  {
   "cell_type": "code",
   "execution_count": null,
   "metadata": {},
   "outputs": [],
   "source": []
  },
  {
   "cell_type": "code",
   "execution_count": null,
   "metadata": {},
   "outputs": [],
   "source": []
  },
  {
   "cell_type": "code",
   "execution_count": null,
   "metadata": {},
   "outputs": [],
   "source": []
  },
  {
   "cell_type": "code",
   "execution_count": null,
   "metadata": {},
   "outputs": [],
   "source": []
  },
  {
   "cell_type": "code",
   "execution_count": null,
   "metadata": {},
   "outputs": [],
   "source": []
  },
  {
   "cell_type": "code",
   "execution_count": 56,
   "metadata": {},
   "outputs": [
    {
     "name": "stdout",
     "output_type": "stream",
     "text": [
      "{'fit_time': array([5.27190971, 5.25845075, 5.11176443]), 'score_time': array([753.12129164, 753.4469161 , 752.72479868]), 'test_precision': array([0.        , 0.5       , 0.33333333]), 'test_recall': array([0.        , 0.17647059, 0.05882353]), 'test_f1': array([0.        , 0.26086957, 0.1       ])}\n",
      "--- 760.3690559864044 seconds ---\n"
     ]
    }
   ],
   "source": [
    "start_time = time.time()\n",
    "knn_1_w = KNeighborsClassifier(n_neighbors=1)\n",
    "stratified_cv_results = cross_validate(knn_1_w, X, y_williams, cv=StratifiedKFold(n_splits = 3, shuffle=True, random_state = 6926), scoring=('precision', 'recall', 'f1'), return_train_score=False, n_jobs = -2)\n",
    "print(stratified_cv_results)\n",
    "knn_1_w_result = stratified_cv_results\n",
    "print(\"--- %s seconds ---\" % (time.time() - start_time))"
   ]
  },
  {
   "cell_type": "code",
   "execution_count": 57,
   "metadata": {},
   "outputs": [
    {
     "name": "stdout",
     "output_type": "stream",
     "text": [
      "{'fit_time': array([5.54118109, 5.59951019, 5.4626193 ]), 'score_time': array([747.79000783, 749.02643323, 746.59868455]), 'test_precision': array([0., 0., 0.]), 'test_recall': array([0., 0., 0.]), 'test_f1': array([0., 0., 0.])}\n",
      "--- 756.4278447628021 seconds ---\n"
     ]
    }
   ],
   "source": [
    "start_time = time.time()\n",
    "knn_3_w = KNeighborsClassifier(n_neighbors=3)\n",
    "stratified_cv_results = cross_validate(knn_3_w, X, y_williams, cv=StratifiedKFold(n_splits = 3, shuffle=True, random_state = 6926), scoring=('precision', 'recall', 'f1'), return_train_score=False, n_jobs = -2)\n",
    "print(stratified_cv_results)\n",
    "knn_3_w_result = stratified_cv_results\n",
    "print(\"--- %s seconds ---\" % (time.time() - start_time))"
   ]
  },
  {
   "cell_type": "code",
   "execution_count": 58,
   "metadata": {},
   "outputs": [
    {
     "name": "stdout",
     "output_type": "stream",
     "text": [
      "{'fit_time': array([5.1575501 , 5.12330103, 5.1389904 ]), 'score_time': array([750.53648758, 748.68939853, 746.51848507]), 'test_precision': array([0., 0., 0.]), 'test_recall': array([0., 0., 0.]), 'test_f1': array([0., 0., 0.])}\n",
      "--- 757.0163090229034 seconds ---\n"
     ]
    }
   ],
   "source": [
    "start_time = time.time()\n",
    "knn_5_w = KNeighborsClassifier(n_neighbors=5)\n",
    "stratified_cv_results = cross_validate(knn_5_w, X, y_williams, cv=StratifiedKFold(n_splits = 3, shuffle=True, random_state = 6926), scoring=('precision', 'recall', 'f1'), return_train_score=False, n_jobs = -2)\n",
    "print(stratified_cv_results)\n",
    "knn_5_w_result = stratified_cv_results\n",
    "print(\"--- %s seconds ---\" % (time.time() - start_time))"
   ]
  },
  {
   "cell_type": "code",
   "execution_count": 59,
   "metadata": {},
   "outputs": [
    {
     "name": "stdout",
     "output_type": "stream",
     "text": [
      "{'fit_time': array([ 9.70595217, 10.19823408,  9.89005113]), 'score_time': array([10.35177398, 11.17338657, 10.68806267]), 'test_precision': array([0.875     , 0.71428571, 0.875     ]), 'test_recall': array([0.38888889, 0.29411765, 0.41176471]), 'test_f1': array([0.53846154, 0.41666667, 0.56      ])}\n",
      "--- 23.198277235031128 seconds ---\n"
     ]
    }
   ],
   "source": [
    "start_time = time.time()\n",
    "svc_rbf_C_1000_gamma_0000051_w = SVC(C=1000, kernel='rbf', gamma= 0.000051)\n",
    "stratified_cv_results = cross_validate(svc_rbf_C_1000_gamma_0000051_w, X, y_williams, cv=StratifiedKFold(n_splits = 3, shuffle=True, random_state = 6926), scoring=('precision', 'recall', 'f1'), return_train_score=False, n_jobs = -2)\n",
    "print(stratified_cv_results)\n",
    "svc_rbf_C_1000_gamma_0000051_w_result = stratified_cv_results\n",
    "print(\"--- %s seconds ---\" % (time.time() - start_time))"
   ]
  },
  {
   "cell_type": "code",
   "execution_count": 60,
   "metadata": {},
   "outputs": [
    {
     "name": "stdout",
     "output_type": "stream",
     "text": [
      "{'fit_time': array([ 9.49885798, 10.04250526,  9.87194562]), 'score_time': array([10.24603915, 11.23743272, 10.67287278]), 'test_precision': array([0.875     , 0.71428571, 0.875     ]), 'test_recall': array([0.38888889, 0.29411765, 0.41176471]), 'test_f1': array([0.53846154, 0.41666667, 0.56      ])}\n",
      "--- 23.052057027816772 seconds ---\n"
     ]
    }
   ],
   "source": [
    "start_time = time.time()\n",
    "svc_rbf_C_1000_gamma_0000055_w = SVC(C=1000, kernel='rbf', gamma= 0.000055)\n",
    "stratified_cv_results = cross_validate(svc_rbf_C_1000_gamma_0000055_w, X, y_williams, cv=StratifiedKFold(n_splits = 3, shuffle=True, random_state = 6926), scoring=('precision', 'recall', 'f1'), return_train_score=False, n_jobs = -2)\n",
    "print(stratified_cv_results)\n",
    "svc_rbf_C_1000_gamma_0000055_w_result = stratified_cv_results\n",
    "print(\"--- %s seconds ---\" % (time.time() - start_time))"
   ]
  },
  {
   "cell_type": "code",
   "execution_count": 61,
   "metadata": {},
   "outputs": [
    {
     "name": "stdout",
     "output_type": "stream",
     "text": [
      "{'fit_time': array([ 9.7596848 ,  9.94548488, 10.00569201]), 'score_time': array([10.47401643, 11.15586996, 10.83236217]), 'test_precision': array([0.85714286, 0.71428571, 1.        ]), 'test_recall': array([0.33333333, 0.29411765, 0.41176471]), 'test_f1': array([0.48      , 0.41666667, 0.58333333])}\n",
      "--- 23.050781965255737 seconds ---\n"
     ]
    }
   ],
   "source": [
    "start_time = time.time()\n",
    "svc_rbf_C_1000_gamma_00001_w = SVC(C=1000, kernel='rbf', gamma= 0.0001)\n",
    "stratified_cv_results = cross_validate(svc_rbf_C_1000_gamma_00001_w, X, y_williams, cv=StratifiedKFold(n_splits = 3, shuffle=True, random_state = 6926), scoring=('precision', 'recall', 'f1'), return_train_score=False, n_jobs = -2)\n",
    "print(stratified_cv_results)\n",
    "svc_rbf_C_1000_gamma_00001_w_result = stratified_cv_results\n",
    "print(\"--- %s seconds ---\" % (time.time() - start_time))"
   ]
  },
  {
   "cell_type": "code",
   "execution_count": 62,
   "metadata": {},
   "outputs": [
    {
     "name": "stdout",
     "output_type": "stream",
     "text": [
      "{'fit_time': array([ 9.69202471, 10.44532728,  9.78131223]), 'score_time': array([10.25679994, 11.4196949 , 10.53031087]), 'test_precision': array([0.875     , 0.71428571, 0.875     ]), 'test_recall': array([0.38888889, 0.29411765, 0.41176471]), 'test_f1': array([0.53846154, 0.41666667, 0.56      ])}\n",
      "--- 23.68665385246277 seconds ---\n"
     ]
    }
   ],
   "source": [
    "start_time = time.time()\n",
    "svc_rbf_C_1000_gamma_000004_w = SVC(C=1000, kernel='rbf', gamma= 0.00004)\n",
    "stratified_cv_results = cross_validate(svc_rbf_C_1000_gamma_000004_w, X, y_williams, cv=StratifiedKFold(n_splits = 3, shuffle=True, random_state = 6926), scoring=('precision', 'recall', 'f1'), return_train_score=False, n_jobs = -2)\n",
    "print(stratified_cv_results)\n",
    "svc_rbf_C_1000_gamma_000004_w_result = stratified_cv_results\n",
    "print(\"--- %s seconds ---\" % (time.time() - start_time))"
   ]
  },
  {
   "cell_type": "code",
   "execution_count": 63,
   "metadata": {},
   "outputs": [
    {
     "name": "stdout",
     "output_type": "stream",
     "text": [
      "{'fit_time': array([9.44016099, 9.97677279, 9.45841169]), 'score_time': array([9.85666895, 9.9670167 , 9.59498262]), 'test_precision': array([0.83333333, 0.66666667, 1.        ]), 'test_recall': array([0.27777778, 0.23529412, 0.41176471]), 'test_f1': array([0.41666667, 0.34782609, 0.58333333])}\n",
      "--- 21.876221179962158 seconds ---\n"
     ]
    }
   ],
   "source": [
    "start_time = time.time()\n",
    "svc_rbf_C_1000_gamma_000001_w = SVC(C=1000, kernel='rbf', gamma= 0.00001)\n",
    "stratified_cv_results = cross_validate(svc_rbf_C_1000_gamma_000001_w, X, y_williams, cv=StratifiedKFold(n_splits = 3, shuffle=True, random_state = 6926), scoring=('precision', 'recall', 'f1'), return_train_score=False, n_jobs = -2)\n",
    "print(stratified_cv_results)\n",
    "svc_rbf_C_1000_gamma_000001_w_result = stratified_cv_results\n",
    "print(\"--- %s seconds ---\" % (time.time() - start_time))"
   ]
  },
  {
   "cell_type": "code",
   "execution_count": 68,
   "metadata": {},
   "outputs": [
    {
     "data": {
      "text/plain": [
       "0.6113274680706531"
      ]
     },
     "execution_count": 68,
     "metadata": {},
     "output_type": "execute_result"
    }
   ],
   "source": [
    "svc_linear_C_1000_prob_T_result.get(\"test_f1\").mean()"
   ]
  },
  {
   "cell_type": "code",
   "execution_count": 69,
   "metadata": {},
   "outputs": [
    {
     "data": {
      "text/plain": [
       "array([0.60588235, 0.63663664, 0.59146341])"
      ]
     },
     "execution_count": 69,
     "metadata": {},
     "output_type": "execute_result"
    }
   ],
   "source": [
    "svc_linear_C_1000_prob_T_result.get(\"test_f1\")"
   ]
  },
  {
   "cell_type": "code",
   "execution_count": 70,
   "metadata": {},
   "outputs": [],
   "source": [
    "bush = [knn_1_result.get(\"test_f1\").mean(),knn_3_result.get(\"test_f1\").mean(),knn_5_result.get(\"test_f1\").mean(),svc_rbf_C_1000_gamma_0000051_result.get(\"test_f1\").mean()]"
   ]
  },
  {
   "cell_type": "code",
   "execution_count": 71,
   "metadata": {},
   "outputs": [
    {
     "data": {
      "text/plain": [
       "[0.11493562050136974,\n",
       " 0.06172002946901025,\n",
       " 0.03604232066038832,\n",
       " 0.668559727494311]"
      ]
     },
     "execution_count": 71,
     "metadata": {},
     "output_type": "execute_result"
    }
   ],
   "source": [
    "bush"
   ]
  },
  {
   "cell_type": "code",
   "execution_count": 72,
   "metadata": {},
   "outputs": [],
   "source": [
    "williams = [knn_1_w_result.get(\"test_f1\").mean(),knn_3_w_result.get(\"test_f1\").mean(),knn_5_w_result.get(\"test_f1\").mean(),svc_rbf_C_1000_gamma_000004_w_result.get(\"test_f1\").mean()]"
   ]
  },
  {
   "cell_type": "code",
   "execution_count": 73,
   "metadata": {},
   "outputs": [
    {
     "data": {
      "text/plain": [
       "[0.12028985507246377, 0.0, 0.0, 0.5050427350427351]"
      ]
     },
     "execution_count": 73,
     "metadata": {},
     "output_type": "execute_result"
    }
   ],
   "source": [
    "williams"
   ]
  },
  {
   "cell_type": "code",
   "execution_count": 74,
   "metadata": {},
   "outputs": [],
   "source": [
    "pickle.dump(bush  , open('bush.pickle', 'wb'))"
   ]
  },
  {
   "cell_type": "code",
   "execution_count": 75,
   "metadata": {},
   "outputs": [],
   "source": [
    "pickle.dump(williams  , open('williams.pickle', 'wb'))"
   ]
  },
  {
   "cell_type": "code",
   "execution_count": 77,
   "metadata": {},
   "outputs": [
    {
     "name": "stdout",
     "output_type": "stream",
     "text": [
      "[0.11493562050136974, 0.06172002946901025, 0.03604232066038832, 0.668559727494311]\n"
     ]
    }
   ],
   "source": [
    "print(pickle.load(open('bush.pickle', 'rb')))"
   ]
  },
  {
   "cell_type": "code",
   "execution_count": 78,
   "metadata": {},
   "outputs": [],
   "source": [
    "pickle.dump(bush  , open('bush.pkl', 'wb'))"
   ]
  },
  {
   "cell_type": "code",
   "execution_count": 79,
   "metadata": {},
   "outputs": [],
   "source": [
    "pickle.dump(williams  , open('williams.pkl', 'wb'))"
   ]
  },
  {
   "cell_type": "code",
   "execution_count": 80,
   "metadata": {},
   "outputs": [
    {
     "name": "stdout",
     "output_type": "stream",
     "text": [
      "[0.12028985507246377, 0.0, 0.0, 0.5050427350427351]\n"
     ]
    }
   ],
   "source": [
    "print(pickle.load(open('williams.pkl', 'rb')))"
   ]
  },
  {
   "cell_type": "code",
   "execution_count": 81,
   "metadata": {},
   "outputs": [
    {
     "name": "stdout",
     "output_type": "stream",
     "text": [
      "{'fit_time': array([53.11019421, 49.97188473, 51.29782057]), 'score_time': array([54.84768105, 51.43059039, 53.27998614]), 'test_precision': array([0.63190184, 0.67948718, 0.63815789]), 'test_recall': array([0.5819209 , 0.59887006, 0.55113636]), 'test_f1': array([0.60588235, 0.63663664, 0.59146341])}\n",
      "--- 109.32664155960083 seconds ---\n"
     ]
    }
   ],
   "source": [
    "start_time = time.time()\n",
    "svc_linear = SVC(kernel ='linear',C=1000)\n",
    "stratified_cv_results = cross_validate(svc_linear, X, y_bush, cv=StratifiedKFold(n_splits = 3, shuffle=True, random_state = 6926), scoring=('precision', 'recall', 'f1'), return_train_score=False, n_jobs = -2)\n",
    "print(stratified_cv_results)\n",
    "print(\"--- %s seconds ---\" % (time.time() - start_time))"
   ]
  },
  {
   "cell_type": "code",
   "execution_count": 82,
   "metadata": {},
   "outputs": [
    {
     "name": "stdout",
     "output_type": "stream",
     "text": [
      "{'fit_time': array([33.87696218, 34.04547071, 34.90527081]), 'score_time': array([45.86520338, 46.21536875, 46.85398006]), 'test_precision': array([0., 0., 0.]), 'test_recall': array([0., 0., 0.]), 'test_f1': array([0., 0., 0.])}\n",
      "--- 84.18182921409607 seconds ---\n"
     ]
    }
   ],
   "source": [
    "start_time = time.time()\n",
    "svc_linear = SVC(kernel ='linear',C=0.00001)\n",
    "stratified_cv_results = cross_validate(svc_linear, X, y_bush, cv=StratifiedKFold(n_splits = 3, shuffle=True, random_state = 6926), scoring=('precision', 'recall', 'f1'), return_train_score=False, n_jobs = -2)\n",
    "print(stratified_cv_results)\n",
    "print(\"--- %s seconds ---\" % (time.time() - start_time))"
   ]
  },
  {
   "cell_type": "code",
   "execution_count": 83,
   "metadata": {},
   "outputs": [
    {
     "name": "stdout",
     "output_type": "stream",
     "text": [
      "{'fit_time': array([9.37597442, 9.14060879, 9.63073611]), 'score_time': array([ 9.44852114,  8.95183182, 10.06364989]), 'test_precision': array([0. , 0.5, 1. ]), 'test_recall': array([0.        , 0.05882353, 0.29411765]), 'test_f1': array([0.        , 0.10526316, 0.45454545])}\n",
      "--- 27.65513586997986 seconds ---\n"
     ]
    }
   ],
   "source": [
    "start_time = time.time()\n",
    "svc_linear = SVC(kernel ='linear',C=0.01)\n",
    "stratified_cv_results = cross_validate(svc_linear, X, y_williams, cv=StratifiedKFold(n_splits = 3, shuffle=True, random_state = 6926), scoring=('precision', 'recall', 'f1'), return_train_score=False, n_jobs = -2)\n",
    "print(stratified_cv_results)\n",
    "print(\"--- %s seconds ---\" % (time.time() - start_time))"
   ]
  },
  {
   "cell_type": "code",
   "execution_count": 84,
   "metadata": {},
   "outputs": [
    {
     "name": "stdout",
     "output_type": "stream",
     "text": [
      "{'fit_time': array([9.11887622, 8.94831491, 9.70378327]), 'score_time': array([ 9.49453831,  9.20531011, 10.04180789]), 'test_precision': array([0., 0., 0.]), 'test_recall': array([0., 0., 0.]), 'test_f1': array([0., 0., 0.])}\n",
      "--- 22.04452633857727 seconds ---\n"
     ]
    }
   ],
   "source": [
    "start_time = time.time()\n",
    "svc_linear = SVC(kernel ='linear',C=0.001)\n",
    "stratified_cv_results = cross_validate(svc_linear, X, y_williams, cv=StratifiedKFold(n_splits = 3, shuffle=True, random_state = 6926), scoring=('precision', 'recall', 'f1'), return_train_score=False, n_jobs = -2)\n",
    "print(stratified_cv_results)\n",
    "print(\"--- %s seconds ---\" % (time.time() - start_time))"
   ]
  },
  {
   "cell_type": "code",
   "execution_count": 85,
   "metadata": {},
   "outputs": [
    {
     "name": "stdout",
     "output_type": "stream",
     "text": [
      "{'fit_time': array([8.4150939 , 8.8425231 , 8.99104476]), 'score_time': array([8.79415345, 9.04079103, 9.50282574]), 'test_precision': array([0., 0., 0.]), 'test_recall': array([0., 0., 0.]), 'test_f1': array([0., 0., 0.])}\n",
      "--- 20.843566179275513 seconds ---\n"
     ]
    }
   ],
   "source": [
    "start_time = time.time()\n",
    "svc_linear = SVC(kernel ='linear',C=0.0001)\n",
    "stratified_cv_results = cross_validate(svc_linear, X, y_williams, cv=StratifiedKFold(n_splits = 3, shuffle=True, random_state = 6926), scoring=('precision', 'recall', 'f1'), return_train_score=False, n_jobs = -2)\n",
    "print(stratified_cv_results)\n",
    "print(\"--- %s seconds ---\" % (time.time() - start_time))"
   ]
  },
  {
   "cell_type": "code",
   "execution_count": 86,
   "metadata": {},
   "outputs": [
    {
     "name": "stdout",
     "output_type": "stream",
     "text": [
      "{'fit_time': array([4.06802964, 4.12708497, 4.14041686]), 'score_time': array([3.51338077, 3.60100079, 3.57677698]), 'test_precision': array([0., 0., 0.]), 'test_recall': array([0., 0., 0.]), 'test_f1': array([0., 0., 0.])}\n",
      "--- 10.080432415008545 seconds ---\n"
     ]
    }
   ],
   "source": [
    "start_time = time.time()\n",
    "svc_linear = SVC(kernel ='poly',C=0.001)\n",
    "stratified_cv_results = cross_validate(svc_linear, X, y_williams, cv=StratifiedKFold(n_splits = 3, shuffle=True, random_state = 6926), scoring=('precision', 'recall', 'f1'), return_train_score=False, n_jobs = -2)\n",
    "print(stratified_cv_results)\n",
    "print(\"--- %s seconds ---\" % (time.time() - start_time))"
   ]
  },
  {
   "cell_type": "code",
   "execution_count": 87,
   "metadata": {},
   "outputs": [
    {
     "name": "stdout",
     "output_type": "stream",
     "text": [
      "{'fit_time': array([4.20654798, 4.35424066, 4.36651182]), 'score_time': array([3.51817274, 3.60862398, 3.59687829]), 'test_precision': array([0., 0., 0.]), 'test_recall': array([0., 0., 0.]), 'test_f1': array([0., 0., 0.])}\n",
      "--- 10.378271102905273 seconds ---\n"
     ]
    }
   ],
   "source": [
    "start_time = time.time()\n",
    "svc_linear = SVC(kernel ='rbf',C=0.001)\n",
    "stratified_cv_results = cross_validate(svc_linear, X, y_williams, cv=StratifiedKFold(n_splits = 3, shuffle=True, random_state = 6926), scoring=('precision', 'recall', 'f1'), return_train_score=False, n_jobs = -2)\n",
    "print(stratified_cv_results)\n",
    "print(\"--- %s seconds ---\" % (time.time() - start_time))"
   ]
  },
  {
   "cell_type": "code",
   "execution_count": 88,
   "metadata": {},
   "outputs": [
    {
     "name": "stdout",
     "output_type": "stream",
     "text": [
      "{'fit_time': array([9.03067541, 8.76675987, 8.99736047]), 'score_time': array([9.62165236, 9.43894601, 9.66167307]), 'test_precision': array([0., 0., 0.]), 'test_recall': array([0., 0., 0.]), 'test_f1': array([0., 0., 0.])}\n",
      "--- 21.069852828979492 seconds ---\n"
     ]
    }
   ],
   "source": [
    "start_time = time.time()\n",
    "svc_linear = SVC(kernel ='rbf',C=1)\n",
    "stratified_cv_results = cross_validate(svc_linear, X, y_williams, cv=StratifiedKFold(n_splits = 3, shuffle=True, random_state = 6926), scoring=('precision', 'recall', 'f1'), return_train_score=False, n_jobs = -2)\n",
    "print(stratified_cv_results)\n",
    "print(\"--- %s seconds ---\" % (time.time() - start_time))"
   ]
  },
  {
   "cell_type": "code",
   "execution_count": 89,
   "metadata": {},
   "outputs": [
    {
     "name": "stdout",
     "output_type": "stream",
     "text": [
      "{'fit_time': array([8.46572804, 8.89141393, 8.5640316 ]), 'score_time': array([9.53958869, 9.87317967, 9.37333417]), 'test_precision': array([0., 0., 0.]), 'test_recall': array([0., 0., 0.]), 'test_f1': array([0., 0., 0.])}\n",
      "--- 20.546809434890747 seconds ---\n"
     ]
    }
   ],
   "source": [
    "start_time = time.time()\n",
    "svc_linear = SVC(kernel ='poly',C=1)\n",
    "stratified_cv_results = cross_validate(svc_linear, X, y_williams, cv=StratifiedKFold(n_splits = 3, shuffle=True, random_state = 6926), scoring=('precision', 'recall', 'f1'), return_train_score=False, n_jobs = -2)\n",
    "print(stratified_cv_results)\n",
    "print(\"--- %s seconds ---\" % (time.time() - start_time))"
   ]
  },
  {
   "cell_type": "code",
   "execution_count": null,
   "metadata": {},
   "outputs": [],
   "source": [
    "start_time = time.time()\n",
    "svc_linear = SVC(kernel ='rbf',C=1,gamma=1)\n",
    "stratified_cv_results = cross_validate(svc_linear, X, y_williams, cv=StratifiedKFold(n_splits = 3, shuffle=True, random_state = 6926), scoring=('precision', 'recall', 'f1'), return_train_score=False, n_jobs = -2)\n",
    "print(stratified_cv_results)\n",
    "print(\"--- %s seconds ---\" % (time.time() - start_time))"
   ]
  },
  {
   "cell_type": "code",
   "execution_count": null,
   "metadata": {},
   "outputs": [],
   "source": []
  },
  {
   "cell_type": "code",
   "execution_count": null,
   "metadata": {},
   "outputs": [],
   "source": []
  }
 ],
 "metadata": {
  "kernelspec": {
   "display_name": "Python 3",
   "language": "python",
   "name": "python3"
  },
  "language_info": {
   "codemirror_mode": {
    "name": "ipython",
    "version": 3
   },
   "file_extension": ".py",
   "mimetype": "text/x-python",
   "name": "python",
   "nbconvert_exporter": "python",
   "pygments_lexer": "ipython3",
   "version": "3.6.6"
  }
 },
 "nbformat": 4,
 "nbformat_minor": 2
}
