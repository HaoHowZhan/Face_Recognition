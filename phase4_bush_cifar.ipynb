{
  "nbformat": 4,
  "nbformat_minor": 0,
  "metadata": {
    "colab": {
      "name": "phase4_bush_cifar.ipynb",
      "version": "0.3.2",
      "provenance": [],
      "collapsed_sections": []
    },
    "kernelspec": {
      "name": "python3",
      "display_name": "Python 3"
    },
    "accelerator": "GPU"
  },
  "cells": [
    {
      "metadata": {
        "id": "58M7P28BWCtA",
        "colab_type": "code",
        "outputId": "3009a825-ad44-4cf6-d875-226a31f63d7f",
        "colab": {
          "base_uri": "https://localhost:8080/",
          "height": 34
        }
      },
      "cell_type": "code",
      "source": [
        "import pandas as pd\n",
        "import numpy as np\n",
        "import keras\n",
        "# from sklearn.model_selection import train_test_split\n",
        "from sklearn.pipeline import Pipeline\n",
        "from sklearn.neighbors import KNeighborsClassifier\n",
        "from sklearn.model_selection import cross_validate, StratifiedKFold, train_test_split\n",
        "from sklearn.decomposition import PCA\n",
        "from sklearn.model_selection import GridSearchCV\n",
        "from sklearn.metrics import f1_score\n",
        "# from sklearn.svm import SVC\n",
        "from keras.models import Sequential\n",
        "from keras.layers import Dense, Dropout, Flatten\n",
        "from keras.layers import Conv2D, MaxPooling2D\n",
        "import pickle\n",
        "import time\n",
        "import tensorflow as tf\n",
        "from keras.datasets import cifar10\n",
        "import cv2\n",
        "\n",
        "\n"
      ],
      "execution_count": 0,
      "outputs": [
        {
          "output_type": "stream",
          "text": [
            "Using TensorFlow backend.\n"
          ],
          "name": "stderr"
        }
      ]
    },
    {
      "metadata": {
        "id": "jB_F1nViWXR7",
        "colab_type": "code",
        "outputId": "d63b7127-31b8-4a52-fbf5-414e1c0863ee",
        "colab": {
          "base_uri": "https://localhost:8080/",
          "height": 34
        }
      },
      "cell_type": "code",
      "source": [
        "from google.colab import drive\n",
        "drive.mount('/content/gdrive')"
      ],
      "execution_count": 0,
      "outputs": [
        {
          "output_type": "stream",
          "text": [
            "Drive already mounted at /content/gdrive; to attempt to forcibly remount, call drive.mount(\"/content/gdrive\", force_remount=True).\n"
          ],
          "name": "stdout"
        }
      ]
    },
    {
      "metadata": {
        "id": "3WcBXPW_Wkjs",
        "colab_type": "code",
        "colab": {}
      },
      "cell_type": "code",
      "source": [
        "def f1(y_true, y_pred):\n",
        "    y_pred = np.rint(y_pred)\n",
        "    tp = sum(y_true*y_pred)\n",
        "    tn = sum((1-y_true)*(1-y_pred))\n",
        "    fp = sum((1-y_true)*y_pred)\n",
        "    fn = sum(y_true*(1-y_pred))\n",
        "\n",
        "    p = tp / (tp + fp )\n",
        "    r = tp / (tp + fn )\n",
        "\n",
        "    f1 = 2*p*r / (p+r)\n",
        "    return f1"
      ],
      "execution_count": 0,
      "outputs": []
    },
    {
      "metadata": {
        "id": "ZBd9nRq8WnNP",
        "colab_type": "code",
        "outputId": "632998c9-082d-44ff-cde8-399771afba18",
        "colab": {
          "base_uri": "https://localhost:8080/",
          "height": 34
        }
      },
      "cell_type": "code",
      "source": [
        "start_time = time.time()\n",
        "y = pd.read_csv(\"/content/gdrive/My Drive/data/y_bush_vs_others.csv\", header= None)\n",
        "y_bush = y.values.ravel()\n",
        "y = pd.read_csv(\"/content/gdrive/My Drive/data/y_williams_vs_others.csv\", header= None)\n",
        "y_williams = y.values.ravel()\n",
        "X = pd.read_csv(\"/content/gdrive/My Drive/data/X.csv\", sep=' ', header= None, dtype= float)\n",
        "X = X.values\n",
        "print(\"--- %s seconds ---\" % (time.time() - start_time))"
      ],
      "execution_count": 0,
      "outputs": [
        {
          "output_type": "stream",
          "text": [
            "--- 24.997381687164307 seconds ---\n"
          ],
          "name": "stdout"
        }
      ]
    },
    {
      "metadata": {
        "id": "WRl_gknEWyV_",
        "colab_type": "code",
        "colab": {}
      },
      "cell_type": "code",
      "source": [
        "X_train, X_test, y_bush_train, y_bush_test = train_test_split(X,y_bush, test_size=1./3, \n",
        "                                                                      random_state = 6926, shuffle = True, stratify = y_bush)"
      ],
      "execution_count": 0,
      "outputs": []
    },
    {
      "metadata": {
        "id": "MTWFaUPHWuFD",
        "colab_type": "code",
        "colab": {}
      },
      "cell_type": "code",
      "source": [
        "X_train = X_train.reshape(8822,64,64,1)\n",
        "X_test = X_test.reshape(4411,64,64,1)\n",
        "y_bush_train = y_bush_train.reshape(8822,1)\n",
        "y_bush_test = y_bush_test.reshape(4411,1)"
      ],
      "execution_count": 0,
      "outputs": []
    },
    {
      "metadata": {
        "id": "AKxfOuXcW6lV",
        "colab_type": "code",
        "colab": {}
      },
      "cell_type": "code",
      "source": [
        "bush_model = Sequential()\n",
        "bush_model.add(Conv2D(32, kernel_size=(5, 5), strides=(1, 1), activation='relu',input_shape=(64,64,1)))\n",
        "bush_model.add(Conv2D(32, kernel_size=(5, 5), strides=(1, 1), activation='relu'))\n",
        "bush_model.add(MaxPooling2D(pool_size=(2, 2), strides=(2, 2)))\n",
        "\n",
        "bush_model.add(Conv2D(32, kernel_size=(3, 3), strides=(1, 1), activation='relu'))\n",
        "bush_model.add(Conv2D(32, kernel_size=(3, 3), strides=(1, 1), activation='relu'))\n",
        "bush_model.add(MaxPooling2D(pool_size=(2, 2), strides=(2, 2)))\n",
        "\n",
        "bush_model.add(Conv2D(32, kernel_size=(3, 3), strides=(1, 1), activation='relu'))\n",
        "bush_model.add(Conv2D(32, kernel_size=(3, 3), strides=(1, 1), activation='relu'))\n",
        "bush_model.add(MaxPooling2D(pool_size=(2, 2), strides=(2, 2)))\n",
        "\n",
        "bush_model.add(Flatten())\n",
        "bush_model.add(Dense(384,activation='relu'))\n",
        "bush_model.add(Dense(1,activation='sigmoid'))\n",
        "bush_model.compile(loss=keras.losses.binary_crossentropy, optimizer='adam', metrics=['accuracy'])"
      ],
      "execution_count": 0,
      "outputs": []
    },
    {
      "metadata": {
        "id": "ynHXWBWFbO6u",
        "colab_type": "code",
        "colab": {}
      },
      "cell_type": "code",
      "source": [
        "(xC_train, yC_train), (xC_test, yC_test) = cifar10.load_data()\n"
      ],
      "execution_count": 0,
      "outputs": []
    },
    {
      "metadata": {
        "id": "hVIhLsUz9A4X",
        "colab_type": "code",
        "colab": {}
      },
      "cell_type": "code",
      "source": [
        "# binary labels\n",
        "for index, y in enumerate(yC_train):\n",
        "    if not y==1:\n",
        "        yC_train[index] = 0\n",
        "        \n",
        "        \n",
        "        \n",
        "for index, y in enumerate(yC_test):\n",
        "    if not y==1:\n",
        "        yC_test[index] = 0"
      ],
      "execution_count": 0,
      "outputs": []
    },
    {
      "metadata": {
        "id": "MjSMcaefhh3g",
        "colab_type": "code",
        "outputId": "6a44847d-69b7-432a-d574-114467d15caf",
        "colab": {
          "base_uri": "https://localhost:8080/",
          "height": 34
        }
      },
      "cell_type": "code",
      "source": [
        "xC_test.shape"
      ],
      "execution_count": 0,
      "outputs": [
        {
          "output_type": "execute_result",
          "data": {
            "text/plain": [
              "(10000, 32, 32, 3)"
            ]
          },
          "metadata": {
            "tags": []
          },
          "execution_count": 10
        }
      ]
    },
    {
      "metadata": {
        "id": "J-W9wFjzh_A3",
        "colab_type": "code",
        "colab": {}
      },
      "cell_type": "code",
      "source": [
        "# convert to grayscale \n",
        "def rgb2gray(rgb):\n",
        "\n",
        "    r, g, b = rgb[:,:,0], rgb[:,:,1], rgb[:,:,2]\n",
        "    gray = 0.2989 * r + 0.5870 * g + 0.1140 * b\n",
        "\n",
        "    return gray"
      ],
      "execution_count": 0,
      "outputs": []
    },
    {
      "metadata": {
        "id": "yASwt61goLDw",
        "colab_type": "code",
        "colab": {}
      },
      "cell_type": "code",
      "source": [
        "# and resize to 64*64\n",
        "xC_train_gray = [None] * 50000\n",
        "xC_test_gray = [None] * 10000\n",
        "for index, x in enumerate(xC_train):\n",
        "  cur = rgb2gray(x)\n",
        "  xC_train_gray[index] = cv2.resize(cur, dsize=(64,64), interpolation=cv2.INTER_CUBIC)\n",
        "  \n",
        "for index, x in enumerate(xC_test):\n",
        "  cur = rgb2gray(x)\n",
        "  xC_test_gray[index] = cv2.resize(cur, dsize=(64,64), interpolation=cv2.INTER_CUBIC)"
      ],
      "execution_count": 0,
      "outputs": []
    },
    {
      "metadata": {
        "id": "ZVAxOCM9G4mp",
        "colab_type": "code",
        "outputId": "17a4526a-9f4d-4f9e-af12-6714ae14cb03",
        "colab": {
          "base_uri": "https://localhost:8080/",
          "height": 34
        }
      },
      "cell_type": "code",
      "source": [
        "xC_train_gray = np.array(xC_train_gray)\n",
        "xC_test_gray = np.array(xC_test_gray)\n",
        "\n",
        "xC_train_gray.shape"
      ],
      "execution_count": 0,
      "outputs": [
        {
          "output_type": "execute_result",
          "data": {
            "text/plain": [
              "(50000, 64, 64)"
            ]
          },
          "metadata": {
            "tags": []
          },
          "execution_count": 13
        }
      ]
    },
    {
      "metadata": {
        "id": "YKrxyUVmfcSn",
        "colab_type": "code",
        "colab": {}
      },
      "cell_type": "code",
      "source": [
        "# reshape it into 32*32*1\n",
        "xC_train_gray = xC_train_gray.reshape(50000,64,64,1)\n",
        "xC_test_gray = xC_test_gray.reshape(10000,64,64,1)"
      ],
      "execution_count": 0,
      "outputs": []
    },
    {
      "metadata": {
        "id": "P0umjy1LhL1d",
        "colab_type": "code",
        "outputId": "eaba7dcf-6029-4eed-e244-2eafdfc0e54a",
        "colab": {
          "base_uri": "https://localhost:8080/",
          "height": 34
        }
      },
      "cell_type": "code",
      "source": [
        "xC_test_gray.shape"
      ],
      "execution_count": 0,
      "outputs": [
        {
          "output_type": "execute_result",
          "data": {
            "text/plain": [
              "(10000, 64, 64, 1)"
            ]
          },
          "metadata": {
            "tags": []
          },
          "execution_count": 15
        }
      ]
    },
    {
      "metadata": {
        "id": "eVgZJ1Prb9T-",
        "colab_type": "code",
        "outputId": "e6f19cf8-b927-482f-c68d-a265afd813c4",
        "colab": {
          "base_uri": "https://localhost:8080/",
          "height": 34
        }
      },
      "cell_type": "code",
      "source": [
        "yC_test.shape"
      ],
      "execution_count": 0,
      "outputs": [
        {
          "output_type": "execute_result",
          "data": {
            "text/plain": [
              "(10000, 1)"
            ]
          },
          "metadata": {
            "tags": []
          },
          "execution_count": 16
        }
      ]
    },
    {
      "metadata": {
        "id": "mntyosB2dOmQ",
        "colab_type": "code",
        "outputId": "116ba618-7f95-4766-c84d-352fdc6e42de",
        "colab": {
          "base_uri": "https://localhost:8080/",
          "height": 34
        }
      },
      "cell_type": "code",
      "source": [
        "xC_train_gray.shape"
      ],
      "execution_count": 0,
      "outputs": [
        {
          "output_type": "execute_result",
          "data": {
            "text/plain": [
              "(50000, 64, 64, 1)"
            ]
          },
          "metadata": {
            "tags": []
          },
          "execution_count": 17
        }
      ]
    },
    {
      "metadata": {
        "id": "zJNW-6Y_JgSC",
        "colab_type": "code",
        "outputId": "a208616c-41ed-4575-cfdf-3b07ec6810ca",
        "colab": {
          "base_uri": "https://localhost:8080/",
          "height": 34
        }
      },
      "cell_type": "code",
      "source": [
        "yC_train.shape"
      ],
      "execution_count": 0,
      "outputs": [
        {
          "output_type": "execute_result",
          "data": {
            "text/plain": [
              "(50000, 1)"
            ]
          },
          "metadata": {
            "tags": []
          },
          "execution_count": 18
        }
      ]
    },
    {
      "metadata": {
        "id": "_j5idtzjJjqR",
        "colab_type": "code",
        "outputId": "d704d5a9-a337-498d-d060-8c7871cd2505",
        "colab": {
          "base_uri": "https://localhost:8080/",
          "height": 425
        }
      },
      "cell_type": "code",
      "source": [
        "#pre-train the model with xC and yC\n",
        "csv_logger = keras.callbacks.CSVLogger('/content/gdrive/My Drive/data/bush_training.log')\n",
        "bush_model.fit(xC_train_gray, yC_train, batch_size = 2000, epochs = 10, verbose =1 ,callbacks=[csv_logger])\n",
        "print(f1(y_bush_train,bush_model.predict(X_train)))\n",
        "print(f1(y_bush_test,bush_model.predict(X_test)))"
      ],
      "execution_count": 0,
      "outputs": [
        {
          "output_type": "stream",
          "text": [
            "Epoch 1/10\n",
            "50000/50000 [==============================] - 26s 522us/step - loss: 0.9432 - acc: 0.8664\n",
            "Epoch 2/10\n",
            "50000/50000 [==============================] - 20s 397us/step - loss: 0.2749 - acc: 0.9019\n",
            "Epoch 3/10\n",
            "50000/50000 [==============================] - 20s 398us/step - loss: 0.2340 - acc: 0.9105\n",
            "Epoch 4/10\n",
            "50000/50000 [==============================] - 20s 399us/step - loss: 0.2000 - acc: 0.9217\n",
            "Epoch 5/10\n",
            "50000/50000 [==============================] - 20s 399us/step - loss: 0.1827 - acc: 0.9293\n",
            "Epoch 6/10\n",
            "50000/50000 [==============================] - 20s 401us/step - loss: 0.1696 - acc: 0.9355\n",
            "Epoch 7/10\n",
            "50000/50000 [==============================] - 20s 399us/step - loss: 0.1507 - acc: 0.9434\n",
            "Epoch 8/10\n",
            "50000/50000 [==============================] - 20s 399us/step - loss: 0.1493 - acc: 0.9449\n",
            "Epoch 9/10\n",
            "50000/50000 [==============================] - 20s 400us/step - loss: 0.1313 - acc: 0.9517\n",
            "Epoch 10/10\n",
            "50000/50000 [==============================] - 20s 400us/step - loss: 0.1141 - acc: 0.9578\n"
          ],
          "name": "stdout"
        },
        {
          "output_type": "stream",
          "text": [
            "/usr/local/lib/python3.6/dist-packages/ipykernel_launcher.py:8: RuntimeWarning: invalid value encountered in true_divide\n",
            "  \n"
          ],
          "name": "stderr"
        },
        {
          "output_type": "stream",
          "text": [
            "[nan]\n",
            "[nan]\n"
          ],
          "name": "stdout"
        }
      ]
    },
    {
      "metadata": {
        "id": "Q7Ry-6x5lby2",
        "colab_type": "code",
        "colab": {}
      },
      "cell_type": "code",
      "source": [
        "bush_model.save(\"/content/gdrive/My Drive/data/pretrain_cifar.h5\")"
      ],
      "execution_count": 0,
      "outputs": []
    },
    {
      "metadata": {
        "id": "GfcixxEhXEir",
        "colab_type": "code",
        "outputId": "1e1c63af-f2bb-4a98-b680-00e7b04c639f",
        "colab": {
          "base_uri": "https://localhost:8080/",
          "height": 425
        }
      },
      "cell_type": "code",
      "source": [
        "# then train the model on bush\n",
        "csv_logger = keras.callbacks.CSVLogger('/content/gdrive/My Drive/data/bush_training_after.log')\n",
        "bush_model.fit(X_train, y_bush_train, batch_size = 500, epochs = 10, verbose =1 ,callbacks=[csv_logger])\n",
        "print(f1(y_bush_train,bush_model.predict(X_train)))\n",
        "print(f1(y_bush_test,bush_model.predict(X_test)))"
      ],
      "execution_count": 0,
      "outputs": [
        {
          "output_type": "stream",
          "text": [
            "Epoch 1/10\n",
            "8822/8822 [==============================] - 5s 584us/step - loss: 0.2371 - acc: 0.9600\n",
            "Epoch 2/10\n",
            "8822/8822 [==============================] - 3s 355us/step - loss: 0.1712 - acc: 0.9600\n",
            "Epoch 3/10\n",
            "8822/8822 [==============================] - 3s 353us/step - loss: 0.1678 - acc: 0.9600\n",
            "Epoch 4/10\n",
            "8822/8822 [==============================] - 3s 353us/step - loss: 0.1666 - acc: 0.9600\n",
            "Epoch 5/10\n",
            "8822/8822 [==============================] - 3s 352us/step - loss: 0.1631 - acc: 0.9600\n",
            "Epoch 6/10\n",
            "8822/8822 [==============================] - 3s 354us/step - loss: 0.1613 - acc: 0.9600\n",
            "Epoch 7/10\n",
            "8822/8822 [==============================] - 3s 354us/step - loss: 0.1573 - acc: 0.9600\n",
            "Epoch 8/10\n",
            "8822/8822 [==============================] - 3s 354us/step - loss: 0.1493 - acc: 0.9600\n",
            "Epoch 9/10\n",
            "8822/8822 [==============================] - 3s 354us/step - loss: 0.1431 - acc: 0.9600\n",
            "Epoch 10/10\n",
            "8822/8822 [==============================] - 3s 355us/step - loss: 0.1378 - acc: 0.9600\n"
          ],
          "name": "stdout"
        },
        {
          "output_type": "stream",
          "text": [
            "/usr/local/lib/python3.6/dist-packages/ipykernel_launcher.py:8: RuntimeWarning: invalid value encountered in true_divide\n",
            "  \n"
          ],
          "name": "stderr"
        },
        {
          "output_type": "stream",
          "text": [
            "[nan]\n",
            "[nan]\n"
          ],
          "name": "stdout"
        }
      ]
    },
    {
      "metadata": {
        "id": "qAow3L8OLUHL",
        "colab_type": "code",
        "outputId": "6f0020e6-d1a2-4191-ae88-2ba7bdd15de0",
        "colab": {
          "base_uri": "https://localhost:8080/",
          "height": 391
        }
      },
      "cell_type": "code",
      "source": [
        "# train again\n",
        "csv_logger = keras.callbacks.CSVLogger('/content/gdrive/My Drive/data/bush_training_after.log')\n",
        "bush_model.fit(X_train, y_bush_train, batch_size = 500, epochs = 10, verbose =1 ,callbacks=[csv_logger])\n",
        "print(f1(y_bush_train,bush_model.predict(X_train)))\n",
        "print(f1(y_bush_test,bush_model.predict(X_test)))"
      ],
      "execution_count": 0,
      "outputs": [
        {
          "output_type": "stream",
          "text": [
            "Epoch 1/10\n",
            "8822/8822 [==============================] - 3s 354us/step - loss: 0.1352 - acc: 0.9600\n",
            "Epoch 2/10\n",
            "8822/8822 [==============================] - 3s 353us/step - loss: 0.1294 - acc: 0.9600\n",
            "Epoch 3/10\n",
            "8822/8822 [==============================] - 3s 355us/step - loss: 0.1241 - acc: 0.9600\n",
            "Epoch 4/10\n",
            "8822/8822 [==============================] - 3s 354us/step - loss: 0.1211 - acc: 0.9599\n",
            "Epoch 5/10\n",
            "8822/8822 [==============================] - 3s 353us/step - loss: 0.1175 - acc: 0.9613\n",
            "Epoch 6/10\n",
            "8822/8822 [==============================] - 3s 355us/step - loss: 0.1103 - acc: 0.9626\n",
            "Epoch 7/10\n",
            "8822/8822 [==============================] - 3s 354us/step - loss: 0.0997 - acc: 0.9660\n",
            "Epoch 8/10\n",
            "8822/8822 [==============================] - 3s 354us/step - loss: 0.0920 - acc: 0.9668\n",
            "Epoch 9/10\n",
            "8822/8822 [==============================] - 3s 353us/step - loss: 0.0858 - acc: 0.9691\n",
            "Epoch 10/10\n",
            "8822/8822 [==============================] - 3s 355us/step - loss: 0.0790 - acc: 0.9739\n",
            "[0.24630542]\n",
            "[0.2]\n"
          ],
          "name": "stdout"
        }
      ]
    },
    {
      "metadata": {
        "id": "Oi78EKfcLYhD",
        "colab_type": "code",
        "outputId": "ad977ccf-67c6-4240-c767-d67c428bf3c8",
        "colab": {
          "base_uri": "https://localhost:8080/",
          "height": 391
        }
      },
      "cell_type": "code",
      "source": [
        "# train again\n",
        "csv_logger = keras.callbacks.CSVLogger('/content/gdrive/My Drive/data/bush_training_after.log')\n",
        "bush_model.fit(X_train, y_bush_train, batch_size = 500, epochs = 10, verbose =1 ,callbacks=[csv_logger])\n",
        "print(f1(y_bush_train,bush_model.predict(X_train)))\n",
        "print(f1(y_bush_test,bush_model.predict(X_test)))"
      ],
      "execution_count": 0,
      "outputs": [
        {
          "output_type": "stream",
          "text": [
            "Epoch 1/10\n",
            "8822/8822 [==============================] - 3s 353us/step - loss: 0.0861 - acc: 0.9714\n",
            "Epoch 2/10\n",
            "8822/8822 [==============================] - 3s 354us/step - loss: 0.0734 - acc: 0.9751\n",
            "Epoch 3/10\n",
            "8822/8822 [==============================] - 3s 352us/step - loss: 0.0610 - acc: 0.9789\n",
            "Epoch 4/10\n",
            "8822/8822 [==============================] - 3s 353us/step - loss: 0.0561 - acc: 0.9818\n",
            "Epoch 5/10\n",
            "8822/8822 [==============================] - 3s 354us/step - loss: 0.0509 - acc: 0.9830\n",
            "Epoch 6/10\n",
            "8822/8822 [==============================] - 3s 354us/step - loss: 0.0452 - acc: 0.9850\n",
            "Epoch 7/10\n",
            "8822/8822 [==============================] - 3s 355us/step - loss: 0.0436 - acc: 0.9855\n",
            "Epoch 8/10\n",
            "8822/8822 [==============================] - 3s 354us/step - loss: 0.0369 - acc: 0.9866\n",
            "Epoch 9/10\n",
            "8822/8822 [==============================] - 3s 355us/step - loss: 0.0308 - acc: 0.9893\n",
            "Epoch 10/10\n",
            "8822/8822 [==============================] - 3s 354us/step - loss: 0.0273 - acc: 0.9904\n",
            "[0.90132548]\n",
            "[0.74534161]\n"
          ],
          "name": "stdout"
        }
      ]
    },
    {
      "metadata": {
        "id": "9KeO4DuMLc6z",
        "colab_type": "code",
        "outputId": "9375c3ee-2cb5-437a-85dd-fe633d18317c",
        "colab": {
          "base_uri": "https://localhost:8080/",
          "height": 391
        }
      },
      "cell_type": "code",
      "source": [
        "# train again\n",
        "csv_logger = keras.callbacks.CSVLogger('/content/gdrive/My Drive/data/bush_training_after.log')\n",
        "bush_model.fit(X_train, y_bush_train, batch_size = 500, epochs = 10, verbose =1 ,callbacks=[csv_logger])\n",
        "print(f1(y_bush_train,bush_model.predict(X_train)))\n",
        "print(f1(y_bush_test,bush_model.predict(X_test)))"
      ],
      "execution_count": 0,
      "outputs": [
        {
          "output_type": "stream",
          "text": [
            "Epoch 1/10\n",
            "8822/8822 [==============================] - 3s 355us/step - loss: 0.0247 - acc: 0.9914\n",
            "Epoch 2/10\n",
            "8822/8822 [==============================] - 3s 353us/step - loss: 0.0256 - acc: 0.9908\n",
            "Epoch 3/10\n",
            "8822/8822 [==============================] - 3s 354us/step - loss: 0.0187 - acc: 0.9942\n",
            "Epoch 4/10\n",
            "8822/8822 [==============================] - 3s 354us/step - loss: 0.0140 - acc: 0.9958\n",
            "Epoch 5/10\n",
            "8822/8822 [==============================] - 3s 354us/step - loss: 0.0171 - acc: 0.9941\n",
            "Epoch 6/10\n",
            "8822/8822 [==============================] - 3s 355us/step - loss: 0.0175 - acc: 0.9932\n",
            "Epoch 7/10\n",
            "8822/8822 [==============================] - 3s 355us/step - loss: 0.0100 - acc: 0.9971\n",
            "Epoch 8/10\n",
            "8822/8822 [==============================] - 3s 353us/step - loss: 0.0060 - acc: 0.9983\n",
            "Epoch 9/10\n",
            "8822/8822 [==============================] - 3s 353us/step - loss: 0.0042 - acc: 0.9997\n",
            "Epoch 10/10\n",
            "8822/8822 [==============================] - 3s 352us/step - loss: 0.0038 - acc: 0.9992\n",
            "[0.98998569]\n",
            "[0.83018868]\n"
          ],
          "name": "stdout"
        }
      ]
    },
    {
      "metadata": {
        "id": "DEDU1FXe-yAR",
        "colab_type": "code",
        "colab": {}
      },
      "cell_type": "code",
      "source": [
        "bush_model.save(\"/content/gdrive/My Drive/data/bush_cifar.model\")"
      ],
      "execution_count": 0,
      "outputs": []
    },
    {
      "metadata": {
        "id": "MvJDSOpqLiyE",
        "colab_type": "code",
        "outputId": "ceb6af5a-27cf-45f9-b4c6-77bb67e86bf7",
        "colab": {
          "base_uri": "https://localhost:8080/",
          "height": 391
        }
      },
      "cell_type": "code",
      "source": [
        "# train again\n",
        "csv_logger = keras.callbacks.CSVLogger('/content/gdrive/My Drive/data/bush_training_after.log')\n",
        "bush_model.fit(X_train, y_bush_train, batch_size = 500, epochs = 10, verbose =1 ,callbacks=[csv_logger])\n",
        "print(f1(y_bush_train,bush_model.predict(X_train)))\n",
        "print(f1(y_bush_test,bush_model.predict(X_test)))"
      ],
      "execution_count": 0,
      "outputs": [
        {
          "output_type": "stream",
          "text": [
            "Epoch 1/10\n",
            "8822/8822 [==============================] - 3s 354us/step - loss: 0.0032 - acc: 0.9992\n",
            "Epoch 2/10\n",
            "8822/8822 [==============================] - 3s 353us/step - loss: 0.0033 - acc: 0.9992\n",
            "Epoch 3/10\n",
            "8822/8822 [==============================] - 3s 352us/step - loss: 0.0042 - acc: 0.9993\n",
            "Epoch 4/10\n",
            "8822/8822 [==============================] - 3s 353us/step - loss: 0.0022 - acc: 0.9997\n",
            "Epoch 5/10\n",
            "8822/8822 [==============================] - 3s 354us/step - loss: 0.0012 - acc: 1.0000\n",
            "Epoch 6/10\n",
            "8822/8822 [==============================] - 3s 353us/step - loss: 6.6795e-04 - acc: 1.0000\n",
            "Epoch 7/10\n",
            "8822/8822 [==============================] - 3s 354us/step - loss: 3.7668e-04 - acc: 1.0000\n",
            "Epoch 8/10\n",
            "8822/8822 [==============================] - 3s 355us/step - loss: 2.9262e-04 - acc: 1.0000\n",
            "Epoch 9/10\n",
            "8822/8822 [==============================] - 3s 353us/step - loss: 2.4641e-04 - acc: 1.0000\n",
            "Epoch 10/10\n",
            "8822/8822 [==============================] - 3s 352us/step - loss: 2.2840e-04 - acc: 1.0000\n",
            "[1.]\n",
            "[0.84939759]\n"
          ],
          "name": "stdout"
        }
      ]
    },
    {
      "metadata": {
        "id": "F4Q5VOU4Luay",
        "colab_type": "code",
        "colab": {}
      },
      "cell_type": "code",
      "source": [
        "bush_model.save(\"/content/gdrive/My Drive/data/bush_cifar_0.model\")"
      ],
      "execution_count": 0,
      "outputs": []
    },
    {
      "metadata": {
        "id": "TFT5WC8C039q",
        "colab_type": "code",
        "outputId": "f609fa29-823d-4828-8bf1-1a984af78e32",
        "colab": {
          "base_uri": "https://localhost:8080/",
          "height": 391
        }
      },
      "cell_type": "code",
      "source": [
        "# train again\n",
        "csv_logger = keras.callbacks.CSVLogger('/content/gdrive/My Drive/data/bush_training_after.log')\n",
        "bush_model.fit(X_train, y_bush_train, batch_size = 500, epochs = 10, verbose =1 ,callbacks=[csv_logger])\n",
        "print(f1(y_bush_train,bush_model.predict(X_train)))\n",
        "print(f1(y_bush_test,bush_model.predict(X_test)))"
      ],
      "execution_count": 0,
      "outputs": [
        {
          "output_type": "stream",
          "text": [
            "Epoch 1/10\n",
            "8822/8822 [==============================] - 3s 352us/step - loss: 2.0617e-04 - acc: 1.0000\n",
            "Epoch 2/10\n",
            "8822/8822 [==============================] - 3s 353us/step - loss: 1.8432e-04 - acc: 1.0000\n",
            "Epoch 3/10\n",
            "8822/8822 [==============================] - 3s 353us/step - loss: 1.6158e-04 - acc: 1.0000\n",
            "Epoch 4/10\n",
            "8822/8822 [==============================] - 3s 352us/step - loss: 1.4969e-04 - acc: 1.0000\n",
            "Epoch 5/10\n",
            "8822/8822 [==============================] - 3s 354us/step - loss: 1.3999e-04 - acc: 1.0000\n",
            "Epoch 6/10\n",
            "8822/8822 [==============================] - 3s 351us/step - loss: 1.2809e-04 - acc: 1.0000\n",
            "Epoch 7/10\n",
            "8822/8822 [==============================] - 3s 352us/step - loss: 1.1809e-04 - acc: 1.0000\n",
            "Epoch 8/10\n",
            "8822/8822 [==============================] - 3s 353us/step - loss: 1.1180e-04 - acc: 1.0000\n",
            "Epoch 9/10\n",
            "8822/8822 [==============================] - 3s 352us/step - loss: 1.0427e-04 - acc: 1.0000\n",
            "Epoch 10/10\n",
            "8822/8822 [==============================] - 3s 353us/step - loss: 9.9056e-05 - acc: 1.0000\n",
            "[1.]\n",
            "[0.84592145]\n"
          ],
          "name": "stdout"
        }
      ]
    },
    {
      "metadata": {
        "id": "rv3SClop1Eyu",
        "colab_type": "code",
        "colab": {}
      },
      "cell_type": "code",
      "source": [
        "bush_model.save(\"/content/gdrive/My Drive/data/bush_cifar_1.model\")"
      ],
      "execution_count": 0,
      "outputs": []
    },
    {
      "metadata": {
        "id": "s47X7Sen1IXx",
        "colab_type": "code",
        "outputId": "f70f0239-71c9-475c-8641-c023f8e41c68",
        "colab": {
          "base_uri": "https://localhost:8080/",
          "height": 391
        }
      },
      "cell_type": "code",
      "source": [
        "# train again\n",
        "csv_logger = keras.callbacks.CSVLogger('/content/gdrive/My Drive/data/bush_training_after.log')\n",
        "bush_model.fit(X_train, y_bush_train, batch_size = 500, epochs = 10, verbose =1 ,callbacks=[csv_logger])\n",
        "print(f1(y_bush_train,bush_model.predict(X_train)))\n",
        "print(f1(y_bush_test,bush_model.predict(X_test)))"
      ],
      "execution_count": 0,
      "outputs": [
        {
          "output_type": "stream",
          "text": [
            "Epoch 1/10\n",
            "8822/8822 [==============================] - 3s 354us/step - loss: 9.5403e-05 - acc: 1.0000\n",
            "Epoch 2/10\n",
            "8822/8822 [==============================] - 3s 352us/step - loss: 9.0360e-05 - acc: 1.0000\n",
            "Epoch 3/10\n",
            "8822/8822 [==============================] - 3s 353us/step - loss: 8.3585e-05 - acc: 1.0000\n",
            "Epoch 4/10\n",
            "8822/8822 [==============================] - 3s 352us/step - loss: 8.3683e-05 - acc: 1.0000\n",
            "Epoch 5/10\n",
            "8822/8822 [==============================] - 3s 351us/step - loss: 7.5836e-05 - acc: 1.0000\n",
            "Epoch 6/10\n",
            "8822/8822 [==============================] - 3s 353us/step - loss: 7.1442e-05 - acc: 1.0000\n",
            "Epoch 7/10\n",
            "8822/8822 [==============================] - 3s 352us/step - loss: 6.8191e-05 - acc: 1.0000\n",
            "Epoch 8/10\n",
            "8822/8822 [==============================] - 3s 351us/step - loss: 6.4245e-05 - acc: 1.0000\n",
            "Epoch 9/10\n",
            "8822/8822 [==============================] - 3s 352us/step - loss: 6.1669e-05 - acc: 1.0000\n",
            "Epoch 10/10\n",
            "8822/8822 [==============================] - 3s 353us/step - loss: 5.8444e-05 - acc: 1.0000\n",
            "[1.]\n",
            "[0.84242424]\n"
          ],
          "name": "stdout"
        }
      ]
    },
    {
      "metadata": {
        "id": "Cl__o0F91Ia9",
        "colab_type": "code",
        "colab": {}
      },
      "cell_type": "code",
      "source": [
        "bush_model.save(\"/content/gdrive/My Drive/data/bush_cifar_2.model\")"
      ],
      "execution_count": 0,
      "outputs": []
    },
    {
      "metadata": {
        "id": "bunukcE-1Iee",
        "colab_type": "code",
        "outputId": "b57b7f77-51ca-4eee-8986-d21bba6b322b",
        "colab": {
          "base_uri": "https://localhost:8080/",
          "height": 391
        }
      },
      "cell_type": "code",
      "source": [
        "# train again\n",
        "csv_logger = keras.callbacks.CSVLogger('/content/gdrive/My Drive/data/bush_training_after.log')\n",
        "bush_model.fit(X_train, y_bush_train, batch_size = 500, epochs = 10, verbose =1 ,callbacks=[csv_logger])\n",
        "print(f1(y_bush_train,bush_model.predict(X_train)))\n",
        "print(f1(y_bush_test,bush_model.predict(X_test)))"
      ],
      "execution_count": 0,
      "outputs": [
        {
          "output_type": "stream",
          "text": [
            "Epoch 1/10\n",
            "8822/8822 [==============================] - 3s 354us/step - loss: 5.5944e-05 - acc: 1.0000\n",
            "Epoch 2/10\n",
            "8822/8822 [==============================] - 3s 352us/step - loss: 5.4476e-05 - acc: 1.0000\n",
            "Epoch 3/10\n",
            "8822/8822 [==============================] - 3s 353us/step - loss: 5.2038e-05 - acc: 1.0000\n",
            "Epoch 4/10\n",
            "8822/8822 [==============================] - 3s 353us/step - loss: 4.9804e-05 - acc: 1.0000\n",
            "Epoch 5/10\n",
            "8822/8822 [==============================] - 3s 353us/step - loss: 4.7122e-05 - acc: 1.0000\n",
            "Epoch 6/10\n",
            "8822/8822 [==============================] - 3s 353us/step - loss: 4.5548e-05 - acc: 1.0000\n",
            "Epoch 7/10\n",
            "8822/8822 [==============================] - 3s 353us/step - loss: 4.3740e-05 - acc: 1.0000\n",
            "Epoch 8/10\n",
            "8822/8822 [==============================] - 3s 352us/step - loss: 4.2162e-05 - acc: 1.0000\n",
            "Epoch 9/10\n",
            "8822/8822 [==============================] - 3s 354us/step - loss: 4.0115e-05 - acc: 1.0000\n",
            "Epoch 10/10\n",
            "8822/8822 [==============================] - 3s 354us/step - loss: 3.9558e-05 - acc: 1.0000\n",
            "[1.]\n",
            "[0.84431138]\n"
          ],
          "name": "stdout"
        }
      ]
    },
    {
      "metadata": {
        "id": "YRt7v12t3eaE",
        "colab_type": "code",
        "colab": {}
      },
      "cell_type": "code",
      "source": [
        "bush_model.save(\"/content/gdrive/My Drive/data/bush_cifar_3.model\")"
      ],
      "execution_count": 0,
      "outputs": []
    },
    {
      "metadata": {
        "id": "oJbkG1DF3edE",
        "colab_type": "code",
        "colab": {}
      },
      "cell_type": "code",
      "source": [
        ""
      ],
      "execution_count": 0,
      "outputs": []
    },
    {
      "metadata": {
        "id": "N2Kf4E2_3egY",
        "colab_type": "code",
        "colab": {}
      },
      "cell_type": "code",
      "source": [
        ""
      ],
      "execution_count": 0,
      "outputs": []
    },
    {
      "metadata": {
        "id": "fKR8DF_x3ejf",
        "colab_type": "code",
        "colab": {}
      },
      "cell_type": "code",
      "source": [
        ""
      ],
      "execution_count": 0,
      "outputs": []
    }
  ]
}