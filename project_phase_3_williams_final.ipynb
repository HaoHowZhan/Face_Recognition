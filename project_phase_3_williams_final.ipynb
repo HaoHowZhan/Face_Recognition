{
  "nbformat": 4,
  "nbformat_minor": 0,
  "metadata": {
    "colab": {
      "name": "project_phase_3_williams_final.ipynb",
      "version": "0.3.2",
      "provenance": [],
      "collapsed_sections": []
    },
    "kernelspec": {
      "name": "python3",
      "display_name": "Python 3"
    },
    "accelerator": "GPU"
  },
  "cells": [
    {
      "metadata": {
        "id": "tzwEs7uo9TJl",
        "colab_type": "code",
        "outputId": "58a35672-d337-487d-b643-07bd986a31d0",
        "colab": {
          "base_uri": "https://localhost:8080/",
          "height": 34
        }
      },
      "cell_type": "code",
      "source": [
        "import pandas as pd\n",
        "import numpy as np\n",
        "import keras\n",
        "# from sklearn.model_selection import train_test_split\n",
        "from sklearn.pipeline import Pipeline\n",
        "from sklearn.neighbors import KNeighborsClassifier\n",
        "from sklearn.model_selection import cross_validate, StratifiedKFold, train_test_split\n",
        "from sklearn.decomposition import PCA\n",
        "from sklearn.model_selection import GridSearchCV\n",
        "from sklearn.metrics import f1_score\n",
        "# from sklearn.svm import SVC\n",
        "from keras.models import Sequential\n",
        "from keras.layers import Dense, Dropout, Flatten\n",
        "from keras.layers import Conv2D, MaxPooling2D\n",
        "import pickle\n",
        "import time\n",
        "import tensorflow as tf"
      ],
      "execution_count": 0,
      "outputs": [
        {
          "output_type": "stream",
          "text": [
            "Using TensorFlow backend.\n"
          ],
          "name": "stderr"
        }
      ]
    },
    {
      "metadata": {
        "id": "3aQdk5rwjllP",
        "colab_type": "code",
        "outputId": "456e39d1-42bc-4797-c42c-d9a525b10d56",
        "colab": {
          "base_uri": "https://localhost:8080/",
          "height": 34
        }
      },
      "cell_type": "code",
      "source": [
        "from google.colab import drive\n",
        "drive.mount('/content/gdrive')"
      ],
      "execution_count": 0,
      "outputs": [
        {
          "output_type": "stream",
          "text": [
            "Drive already mounted at /content/gdrive; to attempt to forcibly remount, call drive.mount(\"/content/gdrive\", force_remount=True).\n"
          ],
          "name": "stdout"
        }
      ]
    },
    {
      "metadata": {
        "id": "Tb5C0ZXaFd0c",
        "colab_type": "code",
        "colab": {}
      },
      "cell_type": "code",
      "source": [
        "def f1(y_true, y_pred):\n",
        "    y_pred = np.rint(y_pred)\n",
        "    tp = sum(y_true*y_pred)\n",
        "    tn = sum((1-y_true)*(1-y_pred))\n",
        "    fp = sum((1-y_true)*y_pred)\n",
        "    fn = sum(y_true*(1-y_pred))\n",
        "\n",
        "    p = tp / (tp + fp )\n",
        "    r = tp / (tp + fn )\n",
        "\n",
        "    f1 = 2*p*r / (p+r)\n",
        "    return f1"
      ],
      "execution_count": 0,
      "outputs": []
    },
    {
      "metadata": {
        "id": "5xVkwcGNwUPv",
        "colab_type": "code",
        "colab": {}
      },
      "cell_type": "code",
      "source": [
        "#def f1_loss(y_true, y_pred):\n",
        "#    \n",
        "#    tp = K.sum(K.cast(y_true*y_pred, 'float'), axis=0)\n",
        "#    tn = K.sum(K.cast((1-y_true)*(1-y_pred), 'float'), axis=0)\n",
        "#    fp = K.sum(K.cast((1-y_true)*y_pred, 'float'), axis=0)\n",
        "#    fn = K.sum(K.cast(y_true*(1-y_pred), 'float'), axis=0)\n",
        "#\n",
        "#    p = tp / (tp + fp + K.epsilon())\n",
        "#    r = tp / (tp + fn + K.epsilon())\n",
        "#\n",
        "#    f1 = 2*p*r / (p+r+K.epsilon())\n",
        "#    f1 = tf.where(tf.is_nan(f1), tf.zeros_like(f1), f1)\n",
        "#    return  1 - K.mean(f1)"
      ],
      "execution_count": 0,
      "outputs": []
    },
    {
      "metadata": {
        "id": "mO205qFBjmwn",
        "colab_type": "code",
        "outputId": "f08a3779-e877-46ab-a914-2fd0541f0192",
        "colab": {
          "base_uri": "https://localhost:8080/",
          "height": 34
        }
      },
      "cell_type": "code",
      "source": [
        "start_time = time.time()\n",
        "y = pd.read_csv(\"/content/gdrive/My Drive/data/y_bush_vs_others.csv\", header= None)\n",
        "y_bush = y.values.ravel()\n",
        "y = pd.read_csv(\"/content/gdrive/My Drive/data/y_williams_vs_others.csv\", header= None)\n",
        "y_williams = y.values.ravel()\n",
        "print(\"--- %s seconds ---\" % (time.time() - start_time))"
      ],
      "execution_count": 0,
      "outputs": [
        {
          "output_type": "stream",
          "text": [
            "--- 0.030671358108520508 seconds ---\n"
          ],
          "name": "stdout"
        }
      ]
    },
    {
      "metadata": {
        "id": "NVOh0O_ojqFG",
        "colab_type": "code",
        "outputId": "d8323203-3766-4aa3-9990-2dfb6153df80",
        "colab": {
          "base_uri": "https://localhost:8080/",
          "height": 34
        }
      },
      "cell_type": "code",
      "source": [
        "start_time = time.time()\n",
        "X = pd.read_csv(\"/content/gdrive/My Drive/data/X.csv\", sep=' ', header= None, dtype= float)\n",
        "X = X.values\n",
        "print(\"--- %s seconds ---\" % (time.time() - start_time))"
      ],
      "execution_count": 0,
      "outputs": [
        {
          "output_type": "stream",
          "text": [
            "--- 27.466657876968384 seconds ---\n"
          ],
          "name": "stdout"
        }
      ]
    },
    {
      "metadata": {
        "id": "byJXDS2Tj2gx",
        "colab_type": "code",
        "colab": {}
      },
      "cell_type": "code",
      "source": [
        "X_train, X_test, y_williams_train, y_williams_test = train_test_split(X,y_williams, test_size=1./3, random_state = 6926, shuffle = True, stratify = y_williams)"
      ],
      "execution_count": 0,
      "outputs": []
    },
    {
      "metadata": {
        "id": "c-J2xvqOuo7u",
        "colab_type": "code",
        "outputId": "9bb27e9a-a834-4757-8155-92deebf6a1e0",
        "colab": {
          "base_uri": "https://localhost:8080/",
          "height": 34
        }
      },
      "cell_type": "code",
      "source": [
        "X_train.shape"
      ],
      "execution_count": 0,
      "outputs": [
        {
          "output_type": "execute_result",
          "data": {
            "text/plain": [
              "(8822, 4096)"
            ]
          },
          "metadata": {
            "tags": []
          },
          "execution_count": 8
        }
      ]
    },
    {
      "metadata": {
        "id": "MoHHNBJ7uo_K",
        "colab_type": "code",
        "outputId": "826ad483-4ade-441a-bdee-ac4d77aeef6b",
        "colab": {
          "base_uri": "https://localhost:8080/",
          "height": 34
        }
      },
      "cell_type": "code",
      "source": [
        "X_test.shape"
      ],
      "execution_count": 0,
      "outputs": [
        {
          "output_type": "execute_result",
          "data": {
            "text/plain": [
              "(4411, 4096)"
            ]
          },
          "metadata": {
            "tags": []
          },
          "execution_count": 9
        }
      ]
    },
    {
      "metadata": {
        "id": "ba9Le0KNupDH",
        "colab_type": "code",
        "outputId": "da1e20f2-065e-4b01-dc73-086ad39bedce",
        "colab": {
          "base_uri": "https://localhost:8080/",
          "height": 34
        }
      },
      "cell_type": "code",
      "source": [
        "X.shape"
      ],
      "execution_count": 0,
      "outputs": [
        {
          "output_type": "execute_result",
          "data": {
            "text/plain": [
              "(13233, 4096)"
            ]
          },
          "metadata": {
            "tags": []
          },
          "execution_count": 10
        }
      ]
    },
    {
      "metadata": {
        "id": "XjkzqijEupGa",
        "colab_type": "code",
        "colab": {}
      },
      "cell_type": "code",
      "source": [
        "X_train = X_train.reshape(8822,64,64,1)"
      ],
      "execution_count": 0,
      "outputs": []
    },
    {
      "metadata": {
        "id": "aTjwNWxEupJy",
        "colab_type": "code",
        "colab": {}
      },
      "cell_type": "code",
      "source": [
        "X_test = X_test.reshape(4411,64,64,1)"
      ],
      "execution_count": 0,
      "outputs": []
    },
    {
      "metadata": {
        "id": "54fksOGdSjfT",
        "colab_type": "code",
        "colab": {}
      },
      "cell_type": "code",
      "source": [
        "y_williams_train = y_williams_train.reshape(8822,1)\n",
        "y_williams_test = y_williams_test.reshape(4411,1)\n"
      ],
      "execution_count": 0,
      "outputs": []
    },
    {
      "metadata": {
        "id": "0bPUN_-6UqH1",
        "colab_type": "code",
        "outputId": "6dea6518-65f3-427c-a928-1812e5dcebb9",
        "colab": {
          "base_uri": "https://localhost:8080/",
          "height": 34
        }
      },
      "cell_type": "code",
      "source": [
        "y_williams_train.shape"
      ],
      "execution_count": 0,
      "outputs": [
        {
          "output_type": "execute_result",
          "data": {
            "text/plain": [
              "(8822, 1)"
            ]
          },
          "metadata": {
            "tags": []
          },
          "execution_count": 14
        }
      ]
    },
    {
      "metadata": {
        "id": "D1cR8mXxupMn",
        "colab_type": "code",
        "outputId": "55321bf3-87a4-40c3-9288-12d6ca570273",
        "colab": {
          "base_uri": "https://localhost:8080/",
          "height": 34
        }
      },
      "cell_type": "code",
      "source": [
        "X_train.shape"
      ],
      "execution_count": 0,
      "outputs": [
        {
          "output_type": "execute_result",
          "data": {
            "text/plain": [
              "(8822, 64, 64, 1)"
            ]
          },
          "metadata": {
            "tags": []
          },
          "execution_count": 15
        }
      ]
    },
    {
      "metadata": {
        "id": "ZmDdYO_PupQD",
        "colab_type": "code",
        "outputId": "e86b01a3-fe13-4d75-b5b0-ed2968f7d4ca",
        "colab": {
          "base_uri": "https://localhost:8080/",
          "height": 34
        }
      },
      "cell_type": "code",
      "source": [
        "X_test.shape"
      ],
      "execution_count": 0,
      "outputs": [
        {
          "output_type": "execute_result",
          "data": {
            "text/plain": [
              "(4411, 64, 64, 1)"
            ]
          },
          "metadata": {
            "tags": []
          },
          "execution_count": 16
        }
      ]
    },
    {
      "metadata": {
        "id": "7Gpd7_UrupTL",
        "colab_type": "code",
        "colab": {}
      },
      "cell_type": "code",
      "source": [
        "williams_model = Sequential()"
      ],
      "execution_count": 0,
      "outputs": []
    },
    {
      "metadata": {
        "id": "4vaiI0ZQupWG",
        "colab_type": "code",
        "colab": {}
      },
      "cell_type": "code",
      "source": [
        "williams_model.add(Conv2D(32, kernel_size=(5, 5), strides=(1, 1), activation='relu',input_shape=(64,64,1)))\n",
        "# williams_model.add(Conv2D(32, kernel_size=(5, 5), strides=(1, 1), activation='relu'))\n",
        "williams_model.add(MaxPooling2D(pool_size=(2, 2), strides=(2, 2)))\n",
        "\n",
        "# williams_model.add(Dropout(0.4))\n",
        "\n",
        "williams_model.add(Conv2D(32, kernel_size=(3, 3), strides=(1, 1), activation='relu'))\n",
        "# williams_model.add(Conv2D(32, kernel_size=(3, 3), strides=(1, 1), activation='relu'))\n",
        "williams_model.add(MaxPooling2D(pool_size=(2, 2), strides=(2, 2)))\n",
        "\n",
        "# williams_model.add(Dropout(0.4))\n",
        "\n",
        "# williams_model.add(Conv2D(32, kernel_size=(3, 3), strides=(1, 1), activation='relu'))\n",
        "# williams_model.add(Conv2D(32, kernel_size=(3, 3), strides=(1, 1), activation='relu'))\n",
        "# williams_model.add(MaxPooling2D(pool_size=(2, 2), strides=(2, 2)))\n",
        "\n",
        "williams_model.add(Flatten())\n",
        "williams_model.add(Dense(1000,activation='relu'))\n",
        "williams_model.add(Dense(1,activation='sigmoid'))"
      ],
      "execution_count": 0,
      "outputs": []
    },
    {
      "metadata": {
        "id": "d5eYRo3P7S9n",
        "colab_type": "code",
        "colab": {}
      },
      "cell_type": "code",
      "source": [
        "williams_model.compile(loss=keras.losses.binary_crossentropy, optimizer='adam', metrics=['accuracy'])"
      ],
      "execution_count": 0,
      "outputs": []
    },
    {
      "metadata": {
        "id": "L1pepoHm7TA-",
        "colab_type": "code",
        "outputId": "d599d5c7-7556-4477-9623-c3c63608cc2c",
        "colab": {
          "base_uri": "https://localhost:8080/",
          "height": 391
        }
      },
      "cell_type": "code",
      "source": [
        "csv_logger = keras.callbacks.CSVLogger('/content/gdrive/My Drive/data/williams_training.log')\n",
        "williams_model.fit(X_train, y_williams_train, batch_size = 1000, epochs = 10, verbose =1 ,callbacks=[csv_logger])\n",
        "print(f1(y_williams_train,williams_model.predict(X_train)))\n",
        "print(f1(y_williams_test,williams_model.predict(X_test)))"
      ],
      "execution_count": 0,
      "outputs": [
        {
          "output_type": "stream",
          "text": [
            "Epoch 1/10\n",
            "8822/8822 [==============================] - 5s 526us/step - loss: 0.1279 - acc: 0.9904\n",
            "Epoch 2/10\n",
            "8822/8822 [==============================] - 1s 165us/step - loss: 0.0619 - acc: 0.9960\n",
            "Epoch 3/10\n",
            "8822/8822 [==============================] - 1s 167us/step - loss: 0.0372 - acc: 0.9960\n",
            "Epoch 4/10\n",
            "8822/8822 [==============================] - 1s 164us/step - loss: 0.0298 - acc: 0.9960\n",
            "Epoch 5/10\n",
            "8822/8822 [==============================] - 1s 162us/step - loss: 0.0262 - acc: 0.9960\n",
            "Epoch 6/10\n",
            "8822/8822 [==============================] - 1s 167us/step - loss: 0.0224 - acc: 0.9960\n",
            "Epoch 7/10\n",
            "8822/8822 [==============================] - 1s 164us/step - loss: 0.0169 - acc: 0.9960\n",
            "Epoch 8/10\n",
            "8822/8822 [==============================] - 1s 165us/step - loss: 0.0122 - acc: 0.9959\n",
            "Epoch 9/10\n",
            "8822/8822 [==============================] - 1s 166us/step - loss: 0.0113 - acc: 0.9963\n",
            "Epoch 10/10\n",
            "8822/8822 [==============================] - 1s 169us/step - loss: 0.0103 - acc: 0.9964\n",
            "[0.6779661]\n",
            "[0.3]\n"
          ],
          "name": "stdout"
        }
      ]
    },
    {
      "metadata": {
        "id": "EADKGtpYboHZ",
        "colab_type": "code",
        "outputId": "ffd7872e-b4e9-4e24-87c4-afedda25b322",
        "colab": {
          "base_uri": "https://localhost:8080/",
          "height": 391
        }
      },
      "cell_type": "code",
      "source": [
        "williams_model.fit(X_train, y_williams_train, batch_size = 500, epochs = 10, verbose =1 ,callbacks=[csv_logger])\n",
        "print(f1(y_williams_train,williams_model.predict(X_train)))\n",
        "print(f1(y_williams_test,williams_model.predict(X_test)))"
      ],
      "execution_count": 0,
      "outputs": [
        {
          "output_type": "stream",
          "text": [
            "Epoch 1/10\n",
            "8822/8822 [==============================] - 2s 241us/step - loss: 0.0089 - acc: 0.9971\n",
            "Epoch 2/10\n",
            "8822/8822 [==============================] - 2s 190us/step - loss: 0.0081 - acc: 0.9975\n",
            "Epoch 3/10\n",
            "8822/8822 [==============================] - 2s 186us/step - loss: 0.0072 - acc: 0.9976\n",
            "Epoch 4/10\n",
            "8822/8822 [==============================] - 2s 183us/step - loss: 0.0052 - acc: 0.9988\n",
            "Epoch 5/10\n",
            "8822/8822 [==============================] - 2s 185us/step - loss: 0.0047 - acc: 0.9988\n",
            "Epoch 6/10\n",
            "8822/8822 [==============================] - 2s 183us/step - loss: 0.0044 - acc: 0.9986\n",
            "Epoch 7/10\n",
            "8822/8822 [==============================] - 2s 184us/step - loss: 0.0026 - acc: 0.9993\n",
            "Epoch 8/10\n",
            "8822/8822 [==============================] - 2s 183us/step - loss: 0.0022 - acc: 0.9993\n",
            "Epoch 9/10\n",
            "8822/8822 [==============================] - 2s 183us/step - loss: 0.0018 - acc: 0.9995\n",
            "Epoch 10/10\n",
            "8822/8822 [==============================] - 2s 187us/step - loss: 0.0020 - acc: 0.9997\n",
            "[1.]\n",
            "[0.46153846]\n"
          ],
          "name": "stdout"
        }
      ]
    },
    {
      "metadata": {
        "id": "Ynu-bpFamqe_",
        "colab_type": "code",
        "outputId": "5d9e9b34-5e0d-4a24-f42e-7fcc621945dc",
        "colab": {
          "base_uri": "https://localhost:8080/",
          "height": 391
        }
      },
      "cell_type": "code",
      "source": [
        "williams_model.fit(X_train, y_williams_train, batch_size = 500, epochs = 10, verbose =1 ,callbacks=[csv_logger])\n",
        "print(f1(y_williams_train,williams_model.predict(X_train)))\n",
        "print(f1(y_williams_test,williams_model.predict(X_test)))"
      ],
      "execution_count": 0,
      "outputs": [
        {
          "output_type": "stream",
          "text": [
            "Epoch 1/10\n",
            "8822/8822 [==============================] - 2s 182us/step - loss: 0.0019 - acc: 0.9993\n",
            "Epoch 2/10\n",
            "8822/8822 [==============================] - 2s 183us/step - loss: 4.7440e-04 - acc: 1.0000\n",
            "Epoch 3/10\n",
            "8822/8822 [==============================] - 2s 184us/step - loss: 4.9106e-04 - acc: 0.9999\n",
            "Epoch 4/10\n",
            "8822/8822 [==============================] - 2s 186us/step - loss: 2.9840e-04 - acc: 1.0000\n",
            "Epoch 5/10\n",
            "8822/8822 [==============================] - 2s 182us/step - loss: 1.3916e-04 - acc: 1.0000\n",
            "Epoch 6/10\n",
            "8822/8822 [==============================] - 2s 185us/step - loss: 7.8217e-05 - acc: 1.0000\n",
            "Epoch 7/10\n",
            "8822/8822 [==============================] - 2s 184us/step - loss: 4.9392e-05 - acc: 1.0000\n",
            "Epoch 8/10\n",
            "8822/8822 [==============================] - 2s 183us/step - loss: 3.9160e-05 - acc: 1.0000\n",
            "Epoch 9/10\n",
            "8822/8822 [==============================] - 2s 183us/step - loss: 3.2832e-05 - acc: 1.0000\n",
            "Epoch 10/10\n",
            "8822/8822 [==============================] - 2s 182us/step - loss: 3.0072e-05 - acc: 1.0000\n",
            "[1.]\n",
            "[0.53846154]\n"
          ],
          "name": "stdout"
        }
      ]
    },
    {
      "metadata": {
        "id": "62mQs3oybn_O",
        "colab_type": "code",
        "outputId": "e47b386b-ab19-4d71-e9de-a2437657f616",
        "colab": {
          "base_uri": "https://localhost:8080/",
          "height": 34
        }
      },
      "cell_type": "code",
      "source": [
        "print(f1(y_williams_test,williams_model.predict(X_test)))"
      ],
      "execution_count": 0,
      "outputs": [
        {
          "output_type": "stream",
          "text": [
            "[0.53846154]\n"
          ],
          "name": "stdout"
        }
      ]
    },
    {
      "metadata": {
        "id": "wwf1Wr2Ebn1Y",
        "colab_type": "code",
        "colab": {}
      },
      "cell_type": "code",
      "source": [
        ""
      ],
      "execution_count": 0,
      "outputs": []
    },
    {
      "metadata": {
        "id": "6NJt2zl27TEO",
        "colab_type": "code",
        "colab": {}
      },
      "cell_type": "code",
      "source": [
        "williams_model.save(\"/content/gdrive/My Drive/data/williams.model\")"
      ],
      "execution_count": 0,
      "outputs": []
    },
    {
      "metadata": {
        "id": "MEUCk5h07THn",
        "colab_type": "code",
        "colab": {}
      },
      "cell_type": "code",
      "source": [
        "pickle.dump([f1(y_williams_train,williams_model.predict(X_train))[0],f1(y_williams_test,williams_model.predict(X_test))[0]], open('/content/gdrive/My Drive/data/williams.pkl', 'wb'))"
      ],
      "execution_count": 0,
      "outputs": []
    },
    {
      "metadata": {
        "id": "dmEnsvIL7TLS",
        "colab_type": "code",
        "colab": {}
      },
      "cell_type": "code",
      "source": [
        "# pickle.load(open('/content/gdrive/My Drive/data/williams.pkl', 'rb'))"
      ],
      "execution_count": 0,
      "outputs": []
    },
    {
      "metadata": {
        "id": "OFnoFa_J4AD6",
        "colab_type": "code",
        "colab": {}
      },
      "cell_type": "code",
      "source": [
        ""
      ],
      "execution_count": 0,
      "outputs": []
    },
    {
      "metadata": {
        "id": "NKUl5Fhb4AHM",
        "colab_type": "code",
        "colab": {}
      },
      "cell_type": "code",
      "source": [
        ""
      ],
      "execution_count": 0,
      "outputs": []
    },
    {
      "metadata": {
        "id": "13sUTktr4AKY",
        "colab_type": "code",
        "colab": {}
      },
      "cell_type": "code",
      "source": [
        ""
      ],
      "execution_count": 0,
      "outputs": []
    },
    {
      "metadata": {
        "id": "rKe0fVtc4ANx",
        "colab_type": "code",
        "colab": {}
      },
      "cell_type": "code",
      "source": [
        ""
      ],
      "execution_count": 0,
      "outputs": []
    },
    {
      "metadata": {
        "id": "COmSatFV4ARI",
        "colab_type": "code",
        "colab": {}
      },
      "cell_type": "code",
      "source": [
        ""
      ],
      "execution_count": 0,
      "outputs": []
    }
  ]
}