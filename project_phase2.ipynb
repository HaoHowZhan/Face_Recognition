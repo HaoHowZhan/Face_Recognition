{
  "nbformat": 4,
  "nbformat_minor": 0,
  "metadata": {
    "colab": {
      "name": "project_phase2.ipynb",
      "version": "0.3.2",
      "provenance": [],
      "collapsed_sections": []
    },
    "kernelspec": {
      "name": "python3",
      "display_name": "Python 3"
    }
  },
  "cells": [
    {
      "metadata": {
        "id": "kdOy6i_PDbI4",
        "colab_type": "code",
        "colab": {}
      },
      "cell_type": "code",
      "source": [
        "import pandas as pd\n",
        "import numpy as np\n",
        "# from sklearn.model_selection import train_test_split\n",
        "from sklearn.pipeline import Pipeline\n",
        "from sklearn.neighbors import KNeighborsClassifier\n",
        "from sklearn.model_selection import cross_validate, StratifiedKFold\n",
        "from sklearn.decomposition import PCA\n",
        "from sklearn.model_selection import GridSearchCV\n",
        "from sklearn.svm import SVC\n",
        "import pickle\n",
        "import time"
      ],
      "execution_count": 0,
      "outputs": []
    },
    {
      "metadata": {
        "id": "PJOPf2iYE_A8",
        "colab_type": "code",
        "outputId": "f0cd5d75-96a7-4651-fb0e-3af6c681b97a",
        "colab": {
          "base_uri": "https://localhost:8080/",
          "height": 34
        }
      },
      "cell_type": "code",
      "source": [
        "from google.colab import drive\n",
        "drive.mount('/content/gdrive')"
      ],
      "execution_count": 0,
      "outputs": [
        {
          "output_type": "stream",
          "text": [
            "Drive already mounted at /content/gdrive; to attempt to forcibly remount, call drive.mount(\"/content/gdrive\", force_remount=True).\n"
          ],
          "name": "stdout"
        }
      ]
    },
    {
      "metadata": {
        "id": "YFyPCWFTE_EJ",
        "colab_type": "code",
        "outputId": "b465f40c-7b6f-48fa-8015-26d679ef7de0",
        "colab": {
          "base_uri": "https://localhost:8080/",
          "height": 34
        }
      },
      "cell_type": "code",
      "source": [
        "start_time = time.time()\n",
        "y = pd.read_csv(\"/content/gdrive/My Drive/data/y_bush_vs_others.csv\", header= None)\n",
        "y_bush = y.values.ravel()\n",
        "y = pd.read_csv(\"/content/gdrive/My Drive/data/y_williams_vs_others.csv\", header= None)\n",
        "y_williams = y.values.ravel()\n",
        "print(\"--- %s seconds ---\" % (time.time() - start_time))"
      ],
      "execution_count": 0,
      "outputs": [
        {
          "output_type": "stream",
          "text": [
            "--- 0.020580768585205078 seconds ---\n"
          ],
          "name": "stdout"
        }
      ]
    },
    {
      "metadata": {
        "id": "k-ld89QIE_HL",
        "colab_type": "code",
        "outputId": "27659c09-e948-4026-ce3f-29279a2c2992",
        "colab": {
          "base_uri": "https://localhost:8080/",
          "height": 34
        }
      },
      "cell_type": "code",
      "source": [
        "start_time = time.time()\n",
        "X = pd.read_csv(\"/content/gdrive/My Drive/data/X.csv\", sep=' ', header= None, dtype= float)\n",
        "X = X.values\n",
        "print(\"--- %s seconds ---\" % (time.time() - start_time))"
      ],
      "execution_count": 0,
      "outputs": [
        {
          "output_type": "stream",
          "text": [
            "--- 34.04055714607239 seconds ---\n"
          ],
          "name": "stdout"
        }
      ]
    },
    {
      "metadata": {
        "id": "oLOTifw7E_Kh",
        "colab_type": "code",
        "colab": {}
      },
      "cell_type": "code",
      "source": [
        "pca_random = PCA(svd_solver='randomized', whiten=True )"
      ],
      "execution_count": 0,
      "outputs": []
    },
    {
      "metadata": {
        "id": "raB4TuFRE_Nk",
        "colab_type": "code",
        "colab": {}
      },
      "cell_type": "code",
      "source": [
        "pca = PCA()"
      ],
      "execution_count": 0,
      "outputs": []
    },
    {
      "metadata": {
        "id": "GcQwLwLwE_Qt",
        "colab_type": "code",
        "colab": {}
      },
      "cell_type": "code",
      "source": [
        "knn_1 = KNeighborsClassifier(n_neighbors=1)"
      ],
      "execution_count": 0,
      "outputs": []
    },
    {
      "metadata": {
        "id": "1SuTkm2jE_Tw",
        "colab_type": "code",
        "colab": {}
      },
      "cell_type": "code",
      "source": [
        "knn_3 = KNeighborsClassifier(n_neighbors=3)"
      ],
      "execution_count": 0,
      "outputs": []
    },
    {
      "metadata": {
        "id": "ZLVqfVXWE_XB",
        "colab_type": "code",
        "colab": {}
      },
      "cell_type": "code",
      "source": [
        "knn_5 = KNeighborsClassifier(n_neighbors=5)"
      ],
      "execution_count": 0,
      "outputs": []
    },
    {
      "metadata": {
        "id": "XMoIpf8iE_aP",
        "colab_type": "code",
        "colab": {}
      },
      "cell_type": "code",
      "source": [
        "svc_balance = SVC(class_weight='balanced' )"
      ],
      "execution_count": 0,
      "outputs": []
    },
    {
      "metadata": {
        "id": "zQndA4ekE_de",
        "colab_type": "code",
        "colab": {}
      },
      "cell_type": "code",
      "source": [
        "svc = SVC()"
      ],
      "execution_count": 0,
      "outputs": []
    },
    {
      "metadata": {
        "id": "XdzlFsTrHHNS",
        "colab_type": "code",
        "colab": {}
      },
      "cell_type": "code",
      "source": [
        "pca_random_50 =  PCA(n_components=50).fit(X)"
      ],
      "execution_count": 0,
      "outputs": []
    },
    {
      "metadata": {
        "id": "N63qg1oTHHQi",
        "colab_type": "code",
        "colab": {}
      },
      "cell_type": "code",
      "source": [
        "X_pca_random_50 = pca_random_50.transform(X)"
      ],
      "execution_count": 0,
      "outputs": []
    },
    {
      "metadata": {
        "id": "K6DJ8kiOHHT3",
        "colab_type": "code",
        "outputId": "4b622962-47fc-4c1c-8f63-603f18806711",
        "colab": {
          "base_uri": "https://localhost:8080/",
          "height": 51
        }
      },
      "cell_type": "code",
      "source": [
        "start_time = time.time()\n",
        "knn_1_ran_50 = KNeighborsClassifier(n_neighbors=1)\n",
        "stratified_cv_results = cross_validate(knn_1_ran_50, X_pca_random_50, y_bush, cv=StratifiedKFold(n_splits = 3, shuffle=True, random_state = 6926), scoring=('precision', 'recall', 'f1'), return_train_score=False, n_jobs = -2)\n",
        "print(stratified_cv_results)\n",
        "knn_1_ran_50_result = stratified_cv_results\n",
        "print(\"--- %s seconds ---\" % (time.time() - start_time))"
      ],
      "execution_count": 0,
      "outputs": [
        {
          "output_type": "stream",
          "text": [
            "{'fit_time': array([0.02482271, 0.01992321, 0.01837993]), 'score_time': array([9.34163165, 8.62780404, 8.69222736]), 'test_precision': array([0.13658537, 0.09302326, 0.13551402]), 'test_recall': array([0.15819209, 0.11299435, 0.16477273]), 'test_f1': array([0.14659686, 0.10204082, 0.14871795])}\n",
            "--- 26.74439311027527 seconds ---\n"
          ],
          "name": "stdout"
        }
      ]
    },
    {
      "metadata": {
        "id": "QhnkK5f1HHXN",
        "colab_type": "code",
        "colab": {}
      },
      "cell_type": "code",
      "source": [
        "pca_random_50_b =  PCA(n_components=50,svd_solver='randomized', whiten=True).fit(X)"
      ],
      "execution_count": 0,
      "outputs": []
    },
    {
      "metadata": {
        "id": "rHCyGvigHHa0",
        "colab_type": "code",
        "colab": {}
      },
      "cell_type": "code",
      "source": [
        "X_pca_random_50_b = pca_random_50_b.transform(X)"
      ],
      "execution_count": 0,
      "outputs": []
    },
    {
      "metadata": {
        "id": "3uX49bl6HHhh",
        "colab_type": "code",
        "outputId": "8c6152be-c32b-4bd0-cac4-438e58a894b7",
        "colab": {
          "base_uri": "https://localhost:8080/",
          "height": 51
        }
      },
      "cell_type": "code",
      "source": [
        "start_time = time.time()\n",
        "knn_1_ran_50_b = KNeighborsClassifier(n_neighbors=1)\n",
        "stratified_cv_results = cross_validate(knn_1_ran_50_b, X_pca_random_50_b, y_bush, cv=StratifiedKFold(n_splits = 3, shuffle=True, random_state = 6926), scoring=('precision', 'recall', 'f1'), return_train_score=False, n_jobs = -2)\n",
        "print(stratified_cv_results)\n",
        "knn_1_ran_50_b_result = stratified_cv_results\n",
        "print(\"--- %s seconds ---\" % (time.time() - start_time))"
      ],
      "execution_count": 0,
      "outputs": [
        {
          "output_type": "stream",
          "text": [
            "{'fit_time': array([0.02387047, 0.01984882, 0.0194478 ]), 'score_time': array([14.60487485, 14.58718252, 14.2271657 ]), 'test_precision': array([0.14622642, 0.10869565, 0.16145833]), 'test_recall': array([0.17514124, 0.14124294, 0.17613636]), 'test_f1': array([0.15938303, 0.12285012, 0.16847826])}\n",
            "--- 43.49523615837097 seconds ---\n"
          ],
          "name": "stdout"
        }
      ]
    },
    {
      "metadata": {
        "id": "K2HHH7IBHHk8",
        "colab_type": "code",
        "colab": {}
      },
      "cell_type": "code",
      "source": [
        "pca_random_60_b =  PCA(n_components=60,svd_solver='randomized', whiten=True).fit(X)"
      ],
      "execution_count": 0,
      "outputs": []
    },
    {
      "metadata": {
        "id": "NdzaYx5nHHoB",
        "colab_type": "code",
        "colab": {}
      },
      "cell_type": "code",
      "source": [
        "X_pca_random_60_b = pca_random_60_b.transform(X)"
      ],
      "execution_count": 0,
      "outputs": []
    },
    {
      "metadata": {
        "id": "DpVEDwVDHHrF",
        "colab_type": "code",
        "outputId": "79bed4c4-1356-4dea-a97a-fd8edb9b2b5c",
        "colab": {
          "base_uri": "https://localhost:8080/",
          "height": 51
        }
      },
      "cell_type": "code",
      "source": [
        "start_time = time.time()\n",
        "knn_1_ran_60_b = KNeighborsClassifier(n_neighbors=1)\n",
        "stratified_cv_results = cross_validate(knn_1_ran_60_b, X_pca_random_60_b, y_bush, cv=StratifiedKFold(n_splits = 3, shuffle=True, random_state = 6926), scoring=('precision', 'recall', 'f1'), return_train_score=False, n_jobs = -2)\n",
        "print(stratified_cv_results)\n",
        "knn_1_ran_60_b_result = stratified_cv_results\n",
        "print(\"--- %s seconds ---\" % (time.time() - start_time))"
      ],
      "execution_count": 0,
      "outputs": [
        {
          "output_type": "stream",
          "text": [
            "{'fit_time': array([0.02486277, 0.0236659 , 0.02408528]), 'score_time': array([17.98944354, 18.25087333, 19.02744794]), 'test_precision': array([0.14754098, 0.13368984, 0.14583333]), 'test_recall': array([0.15254237, 0.14124294, 0.15909091]), 'test_f1': array([0.15      , 0.13736264, 0.15217391])}\n",
            "--- 55.349908113479614 seconds ---\n"
          ],
          "name": "stdout"
        }
      ]
    },
    {
      "metadata": {
        "id": "6u7TUB1JHHu2",
        "colab_type": "code",
        "colab": {}
      },
      "cell_type": "code",
      "source": [
        "pca_random_70_b =  PCA(n_components=70,svd_solver='randomized', whiten=True).fit(X)"
      ],
      "execution_count": 0,
      "outputs": []
    },
    {
      "metadata": {
        "id": "ayUfV5eEHHx5",
        "colab_type": "code",
        "colab": {}
      },
      "cell_type": "code",
      "source": [
        "X_pca_random_70_b = pca_random_70_b.transform(X)"
      ],
      "execution_count": 0,
      "outputs": []
    },
    {
      "metadata": {
        "id": "vuumkzBiKjGo",
        "colab_type": "code",
        "outputId": "ef8d8824-a0bd-444c-9727-505e711834ad",
        "colab": {
          "base_uri": "https://localhost:8080/",
          "height": 51
        }
      },
      "cell_type": "code",
      "source": [
        "start_time = time.time()\n",
        "knn_1_ran_70_b = KNeighborsClassifier(n_neighbors=1)\n",
        "stratified_cv_results = cross_validate(knn_1_ran_70_b, X_pca_random_70_b, y_bush, cv=StratifiedKFold(n_splits = 3, shuffle=True, random_state = 6926), scoring=('precision', 'recall', 'f1'), return_train_score=False, n_jobs = -2)\n",
        "print(stratified_cv_results)\n",
        "knn_1_ran_70_b_result = stratified_cv_results\n",
        "print(\"--- %s seconds ---\" % (time.time() - start_time))"
      ],
      "execution_count": 0,
      "outputs": [
        {
          "output_type": "stream",
          "text": [
            "{'fit_time': array([0.02812362, 0.02940226, 0.02753568]), 'score_time': array([21.58030105, 20.69713569, 20.69078517]), 'test_precision': array([0.14792899, 0.12807882, 0.11695906]), 'test_recall': array([0.14124294, 0.14689266, 0.11363636]), 'test_f1': array([0.14450867, 0.13684211, 0.11527378])}\n",
            "--- 63.065067291259766 seconds ---\n"
          ],
          "name": "stdout"
        }
      ]
    },
    {
      "metadata": {
        "id": "NnhHrtO7KjJq",
        "colab_type": "code",
        "colab": {}
      },
      "cell_type": "code",
      "source": [
        "pca_random_55_b =  PCA(n_components=55,svd_solver='randomized', whiten=True).fit(X)"
      ],
      "execution_count": 0,
      "outputs": []
    },
    {
      "metadata": {
        "id": "KKT2NuMRKjNA",
        "colab_type": "code",
        "colab": {}
      },
      "cell_type": "code",
      "source": [
        "X_pca_random_55_b = pca_random_55_b.transform(X)"
      ],
      "execution_count": 0,
      "outputs": []
    },
    {
      "metadata": {
        "id": "7sog0hc7KjQw",
        "colab_type": "code",
        "outputId": "14273f9c-fc96-4eaf-87e3-2133e234bdac",
        "colab": {
          "base_uri": "https://localhost:8080/",
          "height": 51
        }
      },
      "cell_type": "code",
      "source": [
        "start_time = time.time()\n",
        "knn_1_ran_55_b = KNeighborsClassifier(n_neighbors=1)\n",
        "stratified_cv_results = cross_validate(knn_1_ran_55_b, X_pca_random_55_b, y_bush, cv=StratifiedKFold(n_splits = 3, shuffle=True, random_state = 6926), scoring=('precision', 'recall', 'f1'), return_train_score=False, n_jobs = -2)\n",
        "print(stratified_cv_results)\n",
        "knn_1_ran_55_b_result = stratified_cv_results\n",
        "print(\"--- %s seconds ---\" % (time.time() - start_time))"
      ],
      "execution_count": 0,
      "outputs": [
        {
          "output_type": "stream",
          "text": [
            "{'fit_time': array([0.02519011, 0.02304387, 0.02055192]), 'score_time': array([15.98641372, 16.26848793, 16.38030362]), 'test_precision': array([0.18128655, 0.13023256, 0.14942529]), 'test_recall': array([0.17514124, 0.15819209, 0.14772727]), 'test_f1': array([0.17816092, 0.14285714, 0.14857143])}\n",
            "--- 48.71834373474121 seconds ---\n"
          ],
          "name": "stdout"
        }
      ]
    },
    {
      "metadata": {
        "id": "V7eNafThKjT9",
        "colab_type": "code",
        "outputId": "fbfc9143-6603-48ae-cfcc-ea5dfd863539",
        "colab": {
          "base_uri": "https://localhost:8080/",
          "height": 51
        }
      },
      "cell_type": "code",
      "source": [
        "start_time = time.time()\n",
        "knn_1_ran_55_w = KNeighborsClassifier(n_neighbors=1)\n",
        "stratified_cv_results = cross_validate(knn_1_ran_55_w, X_pca_random_55_b, y_williams, cv=StratifiedKFold(n_splits = 3, shuffle=True, random_state = 6926), scoring=('precision', 'recall', 'f1'), return_train_score=False, n_jobs = -2)\n",
        "print(stratified_cv_results)\n",
        "knn_1_ran_55_w_result = stratified_cv_results\n",
        "print(\"--- %s seconds ---\" % (time.time() - start_time))"
      ],
      "execution_count": 0,
      "outputs": [
        {
          "output_type": "stream",
          "text": [
            "{'fit_time': array([0.02422667, 0.02253795, 0.02031159]), 'score_time': array([15.83249307, 16.1618607 , 15.92467976]), 'test_precision': array([0.        , 0.22222222, 0.11111111]), 'test_recall': array([0.        , 0.11764706, 0.05882353]), 'test_f1': array([0.        , 0.15384615, 0.07692308])}\n",
            "--- 47.99622964859009 seconds ---\n"
          ],
          "name": "stdout"
        }
      ]
    },
    {
      "metadata": {
        "id": "KvZ-LK3qKjW-",
        "colab_type": "code",
        "outputId": "ec8ec2a3-2532-443a-efa9-94883f74e5ef",
        "colab": {
          "base_uri": "https://localhost:8080/",
          "height": 51
        }
      },
      "cell_type": "code",
      "source": [
        "start_time = time.time()\n",
        "knn_1_ran_50_w = KNeighborsClassifier(n_neighbors=1)\n",
        "stratified_cv_results = cross_validate(knn_1_ran_50_w, X_pca_random_50_b, y_williams, cv=StratifiedKFold(n_splits = 3, shuffle=True, random_state = 6926), scoring=('precision', 'recall', 'f1'), return_train_score=False, n_jobs = -2)\n",
        "print(stratified_cv_results)\n",
        "knn_1_ran_50_w_result = stratified_cv_results\n",
        "print(\"--- %s seconds ---\" % (time.time() - start_time))"
      ],
      "execution_count": 0,
      "outputs": [
        {
          "output_type": "stream",
          "text": [
            "{'fit_time': array([0.02003145, 0.02035737, 0.02011991]), 'score_time': array([14.45727611, 14.84180403, 14.5936296 ]), 'test_precision': array([0.   , 0.375, 0.1  ]), 'test_recall': array([0.        , 0.17647059, 0.05882353]), 'test_f1': array([0.        , 0.24      , 0.07407407])}\n",
            "--- 43.966928005218506 seconds ---\n"
          ],
          "name": "stdout"
        }
      ]
    },
    {
      "metadata": {
        "id": "KDwJazzvKjaN",
        "colab_type": "code",
        "outputId": "264b95b9-3450-4831-b893-44fabf3ed47b",
        "colab": {
          "base_uri": "https://localhost:8080/",
          "height": 51
        }
      },
      "cell_type": "code",
      "source": [
        "start_time = time.time()\n",
        "knn_1_ran_60_w = KNeighborsClassifier(n_neighbors=1)\n",
        "stratified_cv_results = cross_validate(knn_1_ran_60_w, X_pca_random_60_b, y_williams, cv=StratifiedKFold(n_splits = 3, shuffle=True, random_state = 6926), scoring=('precision', 'recall', 'f1'), return_train_score=False, n_jobs = -2)\n",
        "print(stratified_cv_results)\n",
        "knn_1_ran_60_w_result = stratified_cv_results\n",
        "print(\"--- %s seconds ---\" % (time.time() - start_time))"
      ],
      "execution_count": 0,
      "outputs": [
        {
          "output_type": "stream",
          "text": [
            "{'fit_time': array([0.02670336, 0.02261853, 0.02386642]), 'score_time': array([17.28459382, 17.58567691, 17.92546773]), 'test_precision': array([0.2       , 0.28571429, 0.125     ]), 'test_recall': array([0.05555556, 0.11764706, 0.05882353]), 'test_f1': array([0.08695652, 0.16666667, 0.08      ])}\n",
            "--- 52.88206148147583 seconds ---\n"
          ],
          "name": "stdout"
        }
      ]
    },
    {
      "metadata": {
        "id": "RwKC55KdKjdC",
        "colab_type": "code",
        "outputId": "3a9d0ed5-9b89-47c3-80cc-4acbedbe1053",
        "colab": {
          "base_uri": "https://localhost:8080/",
          "height": 51
        }
      },
      "cell_type": "code",
      "source": [
        "start_time = time.time()\n",
        "knn_1_ran_70_w = KNeighborsClassifier(n_neighbors=1)\n",
        "stratified_cv_results = cross_validate(knn_1_ran_70_w, X_pca_random_70_b, y_williams, cv=StratifiedKFold(n_splits = 3, shuffle=True, random_state = 6926), scoring=('precision', 'recall', 'f1'), return_train_score=False, n_jobs = -2)\n",
        "print(stratified_cv_results)\n",
        "knn_1_ran_70_w_result = stratified_cv_results\n",
        "print(\"--- %s seconds ---\" % (time.time() - start_time))"
      ],
      "execution_count": 0,
      "outputs": [
        {
          "output_type": "stream",
          "text": [
            "{'fit_time': array([0.03203225, 0.02702188, 0.02678156]), 'score_time': array([20.23640704, 20.81137586, 20.32473564]), 'test_precision': array([0.33333333, 0.2       , 0.25      ]), 'test_recall': array([0.05555556, 0.05882353, 0.11764706]), 'test_f1': array([0.0952381 , 0.09090909, 0.16      ])}\n",
            "--- 61.46833825111389 seconds ---\n"
          ],
          "name": "stdout"
        }
      ]
    },
    {
      "metadata": {
        "id": "_ZHS_lToKjgn",
        "colab_type": "code",
        "outputId": "e3538354-7a27-4b58-b77c-913609aa3960",
        "colab": {
          "base_uri": "https://localhost:8080/",
          "height": 204
        }
      },
      "cell_type": "code",
      "source": [
        "knn_1 = KNeighborsClassifier(n_neighbors=1)\n",
        "pipe_knn_1 = Pipeline(steps=[('pca', pca), ('knn_1', knn_1)])\n",
        "param_grid = {\n",
        "    'pca__n_components': [20,30,40,50,60,70,80,90,100]\n",
        "}\n",
        "start_time = time.time()\n",
        "search = GridSearchCV(pipe_knn_1,param_grid=param_grid,cv=StratifiedKFold(n_splits = 3, shuffle=True, random_state = 6926) ,scoring='f1', return_train_score=False)\n",
        "search.fit(X,y_bush)"
      ],
      "execution_count": 0,
      "outputs": [
        {
          "output_type": "execute_result",
          "data": {
            "text/plain": [
              "GridSearchCV(cv=StratifiedKFold(n_splits=3, random_state=6926, shuffle=True),\n",
              "       error_score='raise',\n",
              "       estimator=Pipeline(memory=None,\n",
              "     steps=[('pca', PCA(copy=True, iterated_power='auto', n_components=None, random_state=None,\n",
              "  svd_solver='auto', tol=0.0, whiten=False)), ('knn_1', KNeighborsClassifier(algorithm='auto', leaf_size=30, metric='minkowski',\n",
              "           metric_params=None, n_jobs=1, n_neighbors=1, p=2,\n",
              "           weights='uniform'))]),\n",
              "       fit_params=None, iid=True, n_jobs=1,\n",
              "       param_grid={'pca__n_components': [20, 30, 40, 50, 60, 70, 80, 90, 100]},\n",
              "       pre_dispatch='2*n_jobs', refit=True, return_train_score=False,\n",
              "       scoring='f1', verbose=0)"
            ]
          },
          "metadata": {
            "tags": []
          },
          "execution_count": 32
        }
      ]
    },
    {
      "metadata": {
        "id": "9lPNNEKtKjjI",
        "colab_type": "code",
        "outputId": "baf63e9e-1d4d-4543-9d1a-645e3c8d8301",
        "colab": {
          "base_uri": "https://localhost:8080/",
          "height": 34
        }
      },
      "cell_type": "code",
      "source": [
        "search.best_score_ "
      ],
      "execution_count": 0,
      "outputs": [
        {
          "output_type": "execute_result",
          "data": {
            "text/plain": [
              "0.13928116393226955"
            ]
          },
          "metadata": {
            "tags": []
          },
          "execution_count": 33
        }
      ]
    },
    {
      "metadata": {
        "id": "mQguq4j4KjmU",
        "colab_type": "code",
        "outputId": "a451b8f1-ba54-48f8-97a1-a93ae04de44e",
        "colab": {
          "base_uri": "https://localhost:8080/",
          "height": 34
        }
      },
      "cell_type": "code",
      "source": [
        "search.best_params_"
      ],
      "execution_count": 0,
      "outputs": [
        {
          "output_type": "execute_result",
          "data": {
            "text/plain": [
              "{'pca__n_components': 50}"
            ]
          },
          "metadata": {
            "tags": []
          },
          "execution_count": 34
        }
      ]
    },
    {
      "metadata": {
        "id": "tl-RjP6qONfZ",
        "colab_type": "code",
        "outputId": "6ad5d522-b162-4655-8269-0bfb6098ec44",
        "colab": {
          "base_uri": "https://localhost:8080/",
          "height": 204
        }
      },
      "cell_type": "code",
      "source": [
        "knn_1 = KNeighborsClassifier(n_neighbors=1)\n",
        "pipe_knn_1_w = Pipeline(steps=[('pca', pca), ('knn_1', knn_1)])\n",
        "param_grid = {\n",
        "    'pca__n_components': [20,30,40,50,60,70,80,90,100]\n",
        "}\n",
        "start_time = time.time()\n",
        "search_2 = GridSearchCV(pipe_knn_1_w,param_grid=param_grid,cv=StratifiedKFold(n_splits = 3, shuffle=True, random_state = 6926) ,scoring='f1', return_train_score=False)\n",
        "search_2.fit(X,y_williams)"
      ],
      "execution_count": 0,
      "outputs": [
        {
          "output_type": "execute_result",
          "data": {
            "text/plain": [
              "GridSearchCV(cv=StratifiedKFold(n_splits=3, random_state=6926, shuffle=True),\n",
              "       error_score='raise',\n",
              "       estimator=Pipeline(memory=None,\n",
              "     steps=[('pca', PCA(copy=True, iterated_power='auto', n_components=None, random_state=None,\n",
              "  svd_solver='auto', tol=0.0, whiten=False)), ('knn_1', KNeighborsClassifier(algorithm='auto', leaf_size=30, metric='minkowski',\n",
              "           metric_params=None, n_jobs=1, n_neighbors=1, p=2,\n",
              "           weights='uniform'))]),\n",
              "       fit_params=None, iid=True, n_jobs=1,\n",
              "       param_grid={'pca__n_components': [20, 30, 40, 50, 60, 70, 80, 90, 100]},\n",
              "       pre_dispatch='2*n_jobs', refit=True, return_train_score=False,\n",
              "       scoring='f1', verbose=0)"
            ]
          },
          "metadata": {
            "tags": []
          },
          "execution_count": 35
        }
      ]
    },
    {
      "metadata": {
        "id": "X_2Cf2YtONij",
        "colab_type": "code",
        "outputId": "4c735409-7eed-4cac-e087-83f687be7372",
        "colab": {
          "base_uri": "https://localhost:8080/",
          "height": 34
        }
      },
      "cell_type": "code",
      "source": [
        "search_2.best_score_ "
      ],
      "execution_count": 0,
      "outputs": [
        {
          "output_type": "execute_result",
          "data": {
            "text/plain": [
              "0.2482145925869949"
            ]
          },
          "metadata": {
            "tags": []
          },
          "execution_count": 36
        }
      ]
    },
    {
      "metadata": {
        "id": "nvnzNojDONlu",
        "colab_type": "code",
        "outputId": "c784d6e6-6342-4aa9-df4e-70c999147f5b",
        "colab": {
          "base_uri": "https://localhost:8080/",
          "height": 34
        }
      },
      "cell_type": "code",
      "source": [
        "search_2.best_params_"
      ],
      "execution_count": 0,
      "outputs": [
        {
          "output_type": "execute_result",
          "data": {
            "text/plain": [
              "{'pca__n_components': 30}"
            ]
          },
          "metadata": {
            "tags": []
          },
          "execution_count": 37
        }
      ]
    },
    {
      "metadata": {
        "id": "aG5nD8XRONo2",
        "colab_type": "code",
        "outputId": "d2489b7e-9943-4271-a43b-e20eaf6f585c",
        "colab": {
          "base_uri": "https://localhost:8080/",
          "height": 204
        }
      },
      "cell_type": "code",
      "source": [
        "knn_1 = KNeighborsClassifier(n_neighbors=1)\n",
        "pipe_knn_1 = Pipeline(steps=[('pca', pca), ('knn_1', knn_1)])\n",
        "param_grid = {\n",
        "    'pca__n_components': [44,45,46,47,48,49,50,51,52,53,54,55,56]\n",
        "}\n",
        "start_time = time.time()\n",
        "search_3 = GridSearchCV(pipe_knn_1,param_grid=param_grid,cv=StratifiedKFold(n_splits = 3, shuffle=True, random_state = 6926) ,scoring='f1', return_train_score=False)\n",
        "search_3.fit(X,y_bush)"
      ],
      "execution_count": 0,
      "outputs": [
        {
          "output_type": "execute_result",
          "data": {
            "text/plain": [
              "GridSearchCV(cv=StratifiedKFold(n_splits=3, random_state=6926, shuffle=True),\n",
              "       error_score='raise',\n",
              "       estimator=Pipeline(memory=None,\n",
              "     steps=[('pca', PCA(copy=True, iterated_power='auto', n_components=None, random_state=None,\n",
              "  svd_solver='auto', tol=0.0, whiten=False)), ('knn_1', KNeighborsClassifier(algorithm='auto', leaf_size=30, metric='minkowski',\n",
              "           metric_params=None, n_jobs=1, n_neighbors=1, p=2,\n",
              "           weights='uniform'))]),\n",
              "       fit_params=None, iid=True, n_jobs=1,\n",
              "       param_grid={'pca__n_components': [44, 45, 46, 47, 48, 49, 50, 51, 52, 53, 54, 55, 56]},\n",
              "       pre_dispatch='2*n_jobs', refit=True, return_train_score=False,\n",
              "       scoring='f1', verbose=0)"
            ]
          },
          "metadata": {
            "tags": []
          },
          "execution_count": 38
        }
      ]
    },
    {
      "metadata": {
        "id": "0ykgRTYMONr1",
        "colab_type": "code",
        "outputId": "e74aeb94-6419-42f7-a173-2bd9f64879c0",
        "colab": {
          "base_uri": "https://localhost:8080/",
          "height": 34
        }
      },
      "cell_type": "code",
      "source": [
        "search_3.best_score_ "
      ],
      "execution_count": 0,
      "outputs": [
        {
          "output_type": "execute_result",
          "data": {
            "text/plain": [
              "0.14098641410992618"
            ]
          },
          "metadata": {
            "tags": []
          },
          "execution_count": 39
        }
      ]
    },
    {
      "metadata": {
        "id": "Z9noAlGWONvF",
        "colab_type": "code",
        "outputId": "08068635-b191-460e-8938-681be2856ef8",
        "colab": {
          "base_uri": "https://localhost:8080/",
          "height": 34
        }
      },
      "cell_type": "code",
      "source": [
        "search_3.best_params_"
      ],
      "execution_count": 0,
      "outputs": [
        {
          "output_type": "execute_result",
          "data": {
            "text/plain": [
              "{'pca__n_components': 48}"
            ]
          },
          "metadata": {
            "tags": []
          },
          "execution_count": 40
        }
      ]
    },
    {
      "metadata": {
        "id": "bh_eIw3PONyI",
        "colab_type": "code",
        "colab": {}
      },
      "cell_type": "code",
      "source": [
        "williams_knn = search_2.best_score_"
      ],
      "execution_count": 0,
      "outputs": []
    },
    {
      "metadata": {
        "id": "MPn6ZF8qON1l",
        "colab_type": "code",
        "outputId": "a8792752-fc54-4e49-8fc9-1f96300689e0",
        "colab": {
          "base_uri": "https://localhost:8080/",
          "height": 204
        }
      },
      "cell_type": "code",
      "source": [
        "knn_1 = KNeighborsClassifier(n_neighbors=1)\n",
        "pipe_knn_1_w = Pipeline(steps=[('pca', pca), ('knn_1', knn_1)])\n",
        "param_grid = {\n",
        "    'pca__n_components': [24,25,26,27,28,29,30,31,32,33,34,35,36]\n",
        "}\n",
        "start_time = time.time()\n",
        "search_4 = GridSearchCV(pipe_knn_1_w,param_grid=param_grid,cv=StratifiedKFold(n_splits = 3, shuffle=True, random_state = 6926) ,scoring='f1', return_train_score=False)\n",
        "search_4.fit(X,y_williams)"
      ],
      "execution_count": 0,
      "outputs": [
        {
          "output_type": "execute_result",
          "data": {
            "text/plain": [
              "GridSearchCV(cv=StratifiedKFold(n_splits=3, random_state=6926, shuffle=True),\n",
              "       error_score='raise',\n",
              "       estimator=Pipeline(memory=None,\n",
              "     steps=[('pca', PCA(copy=True, iterated_power='auto', n_components=None, random_state=None,\n",
              "  svd_solver='auto', tol=0.0, whiten=False)), ('knn_1', KNeighborsClassifier(algorithm='auto', leaf_size=30, metric='minkowski',\n",
              "           metric_params=None, n_jobs=1, n_neighbors=1, p=2,\n",
              "           weights='uniform'))]),\n",
              "       fit_params=None, iid=True, n_jobs=1,\n",
              "       param_grid={'pca__n_components': [24, 25, 26, 27, 28, 29, 30, 31, 32, 33, 34, 35, 36]},\n",
              "       pre_dispatch='2*n_jobs', refit=True, return_train_score=False,\n",
              "       scoring='f1', verbose=0)"
            ]
          },
          "metadata": {
            "tags": []
          },
          "execution_count": 43
        }
      ]
    },
    {
      "metadata": {
        "id": "oeQUQxHhON4r",
        "colab_type": "code",
        "outputId": "843df450-b13e-445d-911e-591cf628afa2",
        "colab": {
          "base_uri": "https://localhost:8080/",
          "height": 34
        }
      },
      "cell_type": "code",
      "source": [
        "search_4.best_score_"
      ],
      "execution_count": 0,
      "outputs": [
        {
          "output_type": "execute_result",
          "data": {
            "text/plain": [
              "0.24616284549784134"
            ]
          },
          "metadata": {
            "tags": []
          },
          "execution_count": 44
        }
      ]
    },
    {
      "metadata": {
        "id": "4-iDiPeAON73",
        "colab_type": "code",
        "outputId": "770777b3-2111-4e49-8d4b-5889be6caff8",
        "colab": {
          "base_uri": "https://localhost:8080/",
          "height": 34
        }
      },
      "cell_type": "code",
      "source": [
        "search_4.best_params_"
      ],
      "execution_count": 0,
      "outputs": [
        {
          "output_type": "execute_result",
          "data": {
            "text/plain": [
              "{'pca__n_components': 30}"
            ]
          },
          "metadata": {
            "tags": []
          },
          "execution_count": 45
        }
      ]
    },
    {
      "metadata": {
        "id": "oADmtsxTON_D",
        "colab_type": "code",
        "colab": {}
      },
      "cell_type": "code",
      "source": [
        "bush_knn = search_3.best_score_"
      ],
      "execution_count": 0,
      "outputs": []
    },
    {
      "metadata": {
        "id": "IdkvFi6yU2OR",
        "colab_type": "code",
        "outputId": "1a265ad0-0023-4d53-f497-de4fa3e69dcb",
        "colab": {
          "base_uri": "https://localhost:8080/",
          "height": 34
        }
      },
      "cell_type": "code",
      "source": [
        "bush_knn"
      ],
      "execution_count": 0,
      "outputs": [
        {
          "output_type": "execute_result",
          "data": {
            "text/plain": [
              "0.14098641410992618"
            ]
          },
          "metadata": {
            "tags": []
          },
          "execution_count": 47
        }
      ]
    },
    {
      "metadata": {
        "id": "Z70hptsmU2RJ",
        "colab_type": "code",
        "outputId": "b830273e-8012-4b5e-d7a8-ace634c21987",
        "colab": {
          "base_uri": "https://localhost:8080/",
          "height": 34
        }
      },
      "cell_type": "code",
      "source": [
        "williams_knn"
      ],
      "execution_count": 0,
      "outputs": [
        {
          "output_type": "execute_result",
          "data": {
            "text/plain": [
              "0.2482145925869949"
            ]
          },
          "metadata": {
            "tags": []
          },
          "execution_count": 48
        }
      ]
    },
    {
      "metadata": {
        "id": "rjYmBpkcU2Uc",
        "colab_type": "code",
        "outputId": "b00712bd-8888-47ec-f644-ad8276fb2ce7",
        "colab": {
          "base_uri": "https://localhost:8080/",
          "height": 204
        }
      },
      "cell_type": "code",
      "source": [
        "knn_1 = KNeighborsClassifier(n_neighbors=1)\n",
        "pipe_knn_1_w = Pipeline(steps=[('pca', pca), ('knn_1', knn_1)])\n",
        "param_grid = {\n",
        "    'pca__n_components': [20,30,40,50,60,70,80,90,100]\n",
        "}\n",
        "start_time = time.time()\n",
        "search_2 = GridSearchCV(pipe_knn_1_w,param_grid=param_grid,cv=StratifiedKFold(n_splits = 3, shuffle=True, random_state = 6926) ,scoring='f1', return_train_score=False)\n",
        "search_2.fit(X,y_williams)"
      ],
      "execution_count": 0,
      "outputs": [
        {
          "output_type": "execute_result",
          "data": {
            "text/plain": [
              "GridSearchCV(cv=StratifiedKFold(n_splits=3, random_state=6926, shuffle=True),\n",
              "       error_score='raise',\n",
              "       estimator=Pipeline(memory=None,\n",
              "     steps=[('pca', PCA(copy=True, iterated_power='auto', n_components=None, random_state=None,\n",
              "  svd_solver='auto', tol=0.0, whiten=False)), ('knn_1', KNeighborsClassifier(algorithm='auto', leaf_size=30, metric='minkowski',\n",
              "           metric_params=None, n_jobs=1, n_neighbors=1, p=2,\n",
              "           weights='uniform'))]),\n",
              "       fit_params=None, iid=True, n_jobs=1,\n",
              "       param_grid={'pca__n_components': [20, 30, 40, 50, 60, 70, 80, 90, 100]},\n",
              "       pre_dispatch='2*n_jobs', refit=True, return_train_score=False,\n",
              "       scoring='f1', verbose=0)"
            ]
          },
          "metadata": {
            "tags": []
          },
          "execution_count": 49
        }
      ]
    },
    {
      "metadata": {
        "id": "N8-dfb_cU2Xk",
        "colab_type": "code",
        "outputId": "186629e1-4e7f-4a29-cf49-bd5bf5bc428f",
        "colab": {
          "base_uri": "https://localhost:8080/",
          "height": 34
        }
      },
      "cell_type": "code",
      "source": [
        "search_2.best_score_ "
      ],
      "execution_count": 0,
      "outputs": [
        {
          "output_type": "execute_result",
          "data": {
            "text/plain": [
              "0.24380542151115717"
            ]
          },
          "metadata": {
            "tags": []
          },
          "execution_count": 50
        }
      ]
    },
    {
      "metadata": {
        "id": "Qlwyb2A8U2eT",
        "colab_type": "code",
        "colab": {}
      },
      "cell_type": "code",
      "source": [
        ""
      ],
      "execution_count": 0,
      "outputs": []
    },
    {
      "metadata": {
        "id": "GzTPK5rJU2gs",
        "colab_type": "code",
        "colab": {}
      },
      "cell_type": "code",
      "source": [
        "svc = SVC(class_weight='balanced' )\n",
        "pca = PCA(svd_solver='randomized', whiten=True )\n",
        "pipe2 = Pipeline(steps=[('pca', pca), ('svc', svc)])\n",
        "param_grid = {\n",
        "    'pca__n_components': [150,175,200,250,300],\n",
        "    'svc__C': [1e3,1e4,1e5,1e6,1e7],\n",
        "    'svc__kernel': ['rbf'],\n",
        "    'svc__gamma':[0.001,0.0001,0.00001]\n",
        "}\n",
        "start_time = time.time()\n",
        "search4 = GridSearchCV(pipe2,param_grid=param_grid,cv=StratifiedKFold(n_splits = 3, shuffle=True, random_state = 6926),scoring='f1', return_train_score=False)\n",
        "search4.fit(X,y_bush)\n",
        "print(\"--- %s seconds ---\" % (time.time() - start_time))"
      ],
      "execution_count": 0,
      "outputs": []
    },
    {
      "metadata": {
        "id": "fGzQEm9SU2jV",
        "colab_type": "code",
        "colab": {}
      },
      "cell_type": "code",
      "source": [
        ""
      ],
      "execution_count": 0,
      "outputs": []
    },
    {
      "metadata": {
        "id": "BHY5WPwLU2mi",
        "colab_type": "code",
        "colab": {}
      },
      "cell_type": "code",
      "source": [
        ""
      ],
      "execution_count": 0,
      "outputs": []
    },
    {
      "metadata": {
        "id": "QdKEvIR2U2pv",
        "colab_type": "code",
        "colab": {}
      },
      "cell_type": "code",
      "source": [
        ""
      ],
      "execution_count": 0,
      "outputs": []
    },
    {
      "metadata": {
        "id": "2X-en3ozU2sn",
        "colab_type": "code",
        "colab": {}
      },
      "cell_type": "code",
      "source": [
        ""
      ],
      "execution_count": 0,
      "outputs": []
    },
    {
      "metadata": {
        "id": "fou_r9KHU2bZ",
        "colab_type": "code",
        "colab": {}
      },
      "cell_type": "code",
      "source": [
        ""
      ],
      "execution_count": 0,
      "outputs": []
    }
  ]
}