{
  "nbformat": 4,
  "nbformat_minor": 0,
  "metadata": {
    "colab": {
      "name": "phase4_williams_cifar.ipynb",
      "version": "0.3.2",
      "provenance": [],
      "collapsed_sections": []
    },
    "kernelspec": {
      "name": "python3",
      "display_name": "Python 3"
    },
    "accelerator": "GPU"
  },
  "cells": [
    {
      "metadata": {
        "id": "58M7P28BWCtA",
        "colab_type": "code",
        "colab": {}
      },
      "cell_type": "code",
      "source": [
        "import pandas as pd\n",
        "import numpy as np\n",
        "import keras\n",
        "# from sklearn.model_selection import train_test_split\n",
        "from sklearn.pipeline import Pipeline\n",
        "from sklearn.neighbors import KNeighborsClassifier\n",
        "from sklearn.model_selection import cross_validate, StratifiedKFold, train_test_split\n",
        "from sklearn.decomposition import PCA\n",
        "from sklearn.model_selection import GridSearchCV\n",
        "from sklearn.metrics import f1_score\n",
        "# from sklearn.svm import SVC\n",
        "from keras.models import Sequential\n",
        "from keras.layers import Dense, Dropout, Flatten\n",
        "from keras.layers import Conv2D, MaxPooling2D\n",
        "import pickle\n",
        "import time\n",
        "import tensorflow as tf\n",
        "from keras.datasets import cifar10\n",
        "import cv2\n",
        "\n",
        "\n"
      ],
      "execution_count": 0,
      "outputs": []
    },
    {
      "metadata": {
        "id": "jB_F1nViWXR7",
        "colab_type": "code",
        "outputId": "e847d2db-8daa-4dc2-b0f8-820bcd9e3ca9",
        "colab": {
          "base_uri": "https://localhost:8080/",
          "height": 34
        }
      },
      "cell_type": "code",
      "source": [
        "from google.colab import drive\n",
        "drive.mount('/content/gdrive')"
      ],
      "execution_count": 0,
      "outputs": [
        {
          "output_type": "stream",
          "text": [
            "Drive already mounted at /content/gdrive; to attempt to forcibly remount, call drive.mount(\"/content/gdrive\", force_remount=True).\n"
          ],
          "name": "stdout"
        }
      ]
    },
    {
      "metadata": {
        "id": "3WcBXPW_Wkjs",
        "colab_type": "code",
        "colab": {}
      },
      "cell_type": "code",
      "source": [
        "def f1(y_true, y_pred):\n",
        "    y_pred = np.rint(y_pred)\n",
        "    tp = sum(y_true*y_pred)\n",
        "    tn = sum((1-y_true)*(1-y_pred))\n",
        "    fp = sum((1-y_true)*y_pred)\n",
        "    fn = sum(y_true*(1-y_pred))\n",
        "\n",
        "    p = tp / (tp + fp )\n",
        "    r = tp / (tp + fn )\n",
        "\n",
        "    f1 = 2*p*r / (p+r)\n",
        "    return f1"
      ],
      "execution_count": 0,
      "outputs": []
    },
    {
      "metadata": {
        "id": "ZBd9nRq8WnNP",
        "colab_type": "code",
        "outputId": "43170ac1-0469-481a-c1f3-c3e3bd67004a",
        "colab": {
          "base_uri": "https://localhost:8080/",
          "height": 34
        }
      },
      "cell_type": "code",
      "source": [
        "start_time = time.time()\n",
        "y = pd.read_csv(\"/content/gdrive/My Drive/data/y_bush_vs_others.csv\", header= None)\n",
        "y_bush = y.values.ravel()\n",
        "y = pd.read_csv(\"/content/gdrive/My Drive/data/y_williams_vs_others.csv\", header= None)\n",
        "y_williams = y.values.ravel()\n",
        "X = pd.read_csv(\"/content/gdrive/My Drive/data/X.csv\", sep=' ', header= None, dtype= float)\n",
        "X = X.values\n",
        "print(\"--- %s seconds ---\" % (time.time() - start_time))"
      ],
      "execution_count": 0,
      "outputs": [
        {
          "output_type": "stream",
          "text": [
            "--- 23.979103803634644 seconds ---\n"
          ],
          "name": "stdout"
        }
      ]
    },
    {
      "metadata": {
        "id": "WRl_gknEWyV_",
        "colab_type": "code",
        "colab": {}
      },
      "cell_type": "code",
      "source": [
        "X_train, X_test, y_williams_train, y_williams_test = train_test_split(X,y_williams, test_size=1./3, \n",
        "                                                                      random_state = 6926, shuffle = True, stratify = y_williams)"
      ],
      "execution_count": 0,
      "outputs": []
    },
    {
      "metadata": {
        "id": "MTWFaUPHWuFD",
        "colab_type": "code",
        "colab": {}
      },
      "cell_type": "code",
      "source": [
        "X_train = X_train.reshape(8822,64,64,1)\n",
        "X_test = X_test.reshape(4411,64,64,1)\n",
        "y_williams_train = y_williams_train.reshape(8822,1)\n",
        "y_williams_test = y_williams_test.reshape(4411,1)"
      ],
      "execution_count": 0,
      "outputs": []
    },
    {
      "metadata": {
        "id": "AKxfOuXcW6lV",
        "colab_type": "code",
        "colab": {}
      },
      "cell_type": "code",
      "source": [
        "williams_model = Sequential()\n",
        "williams_model.add(Conv2D(32, kernel_size=(5, 5), strides=(1, 1), activation='relu',input_shape=(64,64,1)))\n",
        "williams_model.add(Conv2D(32, kernel_size=(5, 5), strides=(1, 1), activation='relu'))\n",
        "williams_model.add(MaxPooling2D(pool_size=(2, 2), strides=(2, 2)))\n",
        "\n",
        "williams_model.add(Conv2D(32, kernel_size=(3, 3), strides=(1, 1), activation='relu'))\n",
        "williams_model.add(Conv2D(32, kernel_size=(3, 3), strides=(1, 1), activation='relu'))\n",
        "williams_model.add(MaxPooling2D(pool_size=(2, 2), strides=(2, 2)))\n",
        "\n",
        "williams_model.add(Conv2D(32, kernel_size=(3, 3), strides=(1, 1), activation='relu'))\n",
        "williams_model.add(Conv2D(32, kernel_size=(3, 3), strides=(1, 1), activation='relu'))\n",
        "williams_model.add(MaxPooling2D(pool_size=(2, 2), strides=(2, 2)))\n",
        "\n",
        "williams_model.add(Flatten())\n",
        "williams_model.add(Dense(1024,activation='relu'))\n",
        "williams_model.add(Dense(1,activation='sigmoid'))\n",
        "williams_model.compile(loss=keras.losses.binary_crossentropy, optimizer='adam', metrics=['accuracy'])"
      ],
      "execution_count": 0,
      "outputs": []
    },
    {
      "metadata": {
        "id": "ynHXWBWFbO6u",
        "colab_type": "code",
        "colab": {}
      },
      "cell_type": "code",
      "source": [
        "(xC_train, yC_train), (xC_test, yC_test) = cifar10.load_data()\n"
      ],
      "execution_count": 0,
      "outputs": []
    },
    {
      "metadata": {
        "id": "hVIhLsUz9A4X",
        "colab_type": "code",
        "colab": {}
      },
      "cell_type": "code",
      "source": [
        "# binary labels\n",
        "for index, y in enumerate(yC_train):\n",
        "    if not y==1:\n",
        "        yC_train[index] = 0\n",
        "        \n",
        "        \n",
        "        \n",
        "for index, y in enumerate(yC_test):\n",
        "    if not y==1:\n",
        "        yC_test[index] = 0"
      ],
      "execution_count": 0,
      "outputs": []
    },
    {
      "metadata": {
        "id": "MjSMcaefhh3g",
        "colab_type": "code",
        "outputId": "a87fc33f-761e-4bea-d4c7-34db69b14e99",
        "colab": {
          "base_uri": "https://localhost:8080/",
          "height": 34
        }
      },
      "cell_type": "code",
      "source": [
        "xC_test.shape"
      ],
      "execution_count": 0,
      "outputs": [
        {
          "output_type": "execute_result",
          "data": {
            "text/plain": [
              "(10000, 32, 32, 3)"
            ]
          },
          "metadata": {
            "tags": []
          },
          "execution_count": 36
        }
      ]
    },
    {
      "metadata": {
        "id": "J-W9wFjzh_A3",
        "colab_type": "code",
        "colab": {}
      },
      "cell_type": "code",
      "source": [
        "# convert to grayscale \n",
        "def rgb2gray(rgb):\n",
        "\n",
        "    r, g, b = rgb[:,:,0], rgb[:,:,1], rgb[:,:,2]\n",
        "    gray = 0.2989 * r + 0.5870 * g + 0.1140 * b\n",
        "\n",
        "    return gray"
      ],
      "execution_count": 0,
      "outputs": []
    },
    {
      "metadata": {
        "id": "yASwt61goLDw",
        "colab_type": "code",
        "colab": {}
      },
      "cell_type": "code",
      "source": [
        "# and resize to 64*64\n",
        "xC_train_gray = [None] * 50000\n",
        "xC_test_gray = [None] * 10000\n",
        "for index, x in enumerate(xC_train):\n",
        "  cur = rgb2gray(x)\n",
        "  xC_train_gray[index] = cv2.resize(cur, dsize=(64,64), interpolation=cv2.INTER_CUBIC)\n",
        "  \n",
        "for index, x in enumerate(xC_test):\n",
        "  cur = rgb2gray(x)\n",
        "  xC_test_gray[index] = cv2.resize(cur, dsize=(64,64), interpolation=cv2.INTER_CUBIC)"
      ],
      "execution_count": 0,
      "outputs": []
    },
    {
      "metadata": {
        "id": "ZVAxOCM9G4mp",
        "colab_type": "code",
        "outputId": "bd6ab286-b626-402d-99ab-e84e6c0ec022",
        "colab": {
          "base_uri": "https://localhost:8080/",
          "height": 34
        }
      },
      "cell_type": "code",
      "source": [
        "xC_train_gray = np.array(xC_train_gray)\n",
        "xC_test_gray = np.array(xC_test_gray)\n",
        "\n",
        "xC_train_gray.shape"
      ],
      "execution_count": 0,
      "outputs": [
        {
          "output_type": "execute_result",
          "data": {
            "text/plain": [
              "(50000, 64, 64)"
            ]
          },
          "metadata": {
            "tags": []
          },
          "execution_count": 39
        }
      ]
    },
    {
      "metadata": {
        "id": "YKrxyUVmfcSn",
        "colab_type": "code",
        "colab": {}
      },
      "cell_type": "code",
      "source": [
        "# reshape it into 32*32*1\n",
        "xC_train_gray = xC_train_gray.reshape(50000,64,64,1)\n",
        "xC_test_gray = xC_test_gray.reshape(10000,64,64,1)"
      ],
      "execution_count": 0,
      "outputs": []
    },
    {
      "metadata": {
        "id": "P0umjy1LhL1d",
        "colab_type": "code",
        "outputId": "c631503a-a3fb-4c22-ed98-be4987dd9c04",
        "colab": {
          "base_uri": "https://localhost:8080/",
          "height": 34
        }
      },
      "cell_type": "code",
      "source": [
        "xC_test_gray.shape"
      ],
      "execution_count": 0,
      "outputs": [
        {
          "output_type": "execute_result",
          "data": {
            "text/plain": [
              "(10000, 64, 64, 1)"
            ]
          },
          "metadata": {
            "tags": []
          },
          "execution_count": 41
        }
      ]
    },
    {
      "metadata": {
        "id": "eVgZJ1Prb9T-",
        "colab_type": "code",
        "outputId": "754623b5-6b48-4709-a32e-39ebf391ff53",
        "colab": {
          "base_uri": "https://localhost:8080/",
          "height": 34
        }
      },
      "cell_type": "code",
      "source": [
        "yC_test.shape"
      ],
      "execution_count": 0,
      "outputs": [
        {
          "output_type": "execute_result",
          "data": {
            "text/plain": [
              "(10000, 1)"
            ]
          },
          "metadata": {
            "tags": []
          },
          "execution_count": 42
        }
      ]
    },
    {
      "metadata": {
        "id": "mntyosB2dOmQ",
        "colab_type": "code",
        "outputId": "e4e67e14-170b-4384-e079-5c28756c8053",
        "colab": {
          "base_uri": "https://localhost:8080/",
          "height": 34
        }
      },
      "cell_type": "code",
      "source": [
        "xC_train_gray.shape"
      ],
      "execution_count": 0,
      "outputs": [
        {
          "output_type": "execute_result",
          "data": {
            "text/plain": [
              "(50000, 64, 64, 1)"
            ]
          },
          "metadata": {
            "tags": []
          },
          "execution_count": 43
        }
      ]
    },
    {
      "metadata": {
        "id": "zJNW-6Y_JgSC",
        "colab_type": "code",
        "outputId": "342c18d2-58be-45b4-834f-50f9e168d9ba",
        "colab": {
          "base_uri": "https://localhost:8080/",
          "height": 34
        }
      },
      "cell_type": "code",
      "source": [
        "yC_train.shape"
      ],
      "execution_count": 0,
      "outputs": [
        {
          "output_type": "execute_result",
          "data": {
            "text/plain": [
              "(50000, 1)"
            ]
          },
          "metadata": {
            "tags": []
          },
          "execution_count": 44
        }
      ]
    },
    {
      "metadata": {
        "id": "_j5idtzjJjqR",
        "colab_type": "code",
        "outputId": "915dd2ac-a658-4207-9b46-ca81eb9bcfe8",
        "colab": {
          "base_uri": "https://localhost:8080/",
          "height": 187
        }
      },
      "cell_type": "code",
      "source": [
        "#pre-train the model with xC and yC\n",
        "csv_logger = keras.callbacks.CSVLogger('/content/gdrive/My Drive/data/williams_training.log')\n",
        "williams_model.fit(xC_train_gray, yC_train, batch_size = 2000, epochs = 10, verbose =1 ,callbacks=[csv_logger])\n",
        "print(f1(y_williams_train,williams_model.predict(X_train)))\n",
        "print(f1(y_williams_test,williams_model.predict(X_test)))"
      ],
      "execution_count": 0,
      "outputs": [
        {
          "output_type": "stream",
          "text": [
            "Epoch 1/10\n",
            "50000/50000 [==============================] - 21s 413us/step - loss: 1.5681 - acc: 0.8926\n",
            "Epoch 2/10\n",
            "50000/50000 [==============================] - 20s 397us/step - loss: 1.6118 - acc: 0.9000\n",
            "Epoch 3/10\n",
            "50000/50000 [==============================] - 20s 398us/step - loss: 1.6118 - acc: 0.9000\n",
            "Epoch 4/10\n",
            "50000/50000 [==============================] - 20s 397us/step - loss: 1.6118 - acc: 0.9000\n",
            "Epoch 5/10\n",
            "46000/50000 [==========================>...] - ETA: 1s - loss: 1.6038 - acc: 0.9005"
          ],
          "name": "stdout"
        }
      ]
    },
    {
      "metadata": {
        "id": "Q7Ry-6x5lby2",
        "colab_type": "code",
        "colab": {}
      },
      "cell_type": "code",
      "source": [
        "williams_model.save(\"/content/gdrive/My Drive/data/pretrain_williams_cifar.h5\")"
      ],
      "execution_count": 0,
      "outputs": []
    },
    {
      "metadata": {
        "id": "GfcixxEhXEir",
        "colab_type": "code",
        "colab": {}
      },
      "cell_type": "code",
      "source": [
        "# then train the model on williams\n",
        "csv_logger = keras.callbacks.CSVLogger('/content/gdrive/My Drive/data/williams_training_after.log')\n",
        "williams_model.fit(X_train, y_williams_train, batch_size = 1000, epochs =20, verbose =1 ,callbacks=[csv_logger])\n",
        "print(f1(y_williams_train,williams_model.predict(X_train)))\n",
        "print(f1(y_williams_test,williams_model.predict(X_test)))"
      ],
      "execution_count": 0,
      "outputs": []
    },
    {
      "metadata": {
        "id": "qAow3L8OLUHL",
        "colab_type": "code",
        "colab": {}
      },
      "cell_type": "code",
      "source": [
        "# train again\n",
        "csv_logger = keras.callbacks.CSVLogger('/content/gdrive/My Drive/data/williams_training_after.log')\n",
        "williams_model.fit(X_train, y_williams_train, batch_size = 1000, epochs = 20, verbose =1 ,callbacks=[csv_logger])\n",
        "print(f1(y_williams_train,williams_model.predict(X_train)))\n",
        "print(f1(y_williams_test,williams_model.predict(X_test)))"
      ],
      "execution_count": 0,
      "outputs": []
    },
    {
      "metadata": {
        "id": "Oi78EKfcLYhD",
        "colab_type": "code",
        "colab": {}
      },
      "cell_type": "code",
      "source": [
        "# train again\n",
        "csv_logger = keras.callbacks.CSVLogger('/content/gdrive/My Drive/data/williams_training_after.log')\n",
        "williams_model.fit(X_train, y_williams_train, batch_size = 1000, epochs = 20, verbose =1 ,callbacks=[csv_logger])\n",
        "print(f1(y_williams_train,williams_model.predict(X_train)))\n",
        "print(f1(y_williams_test,williams_model.predict(X_test)))"
      ],
      "execution_count": 0,
      "outputs": []
    },
    {
      "metadata": {
        "id": "9KeO4DuMLc6z",
        "colab_type": "code",
        "colab": {}
      },
      "cell_type": "code",
      "source": [
        "# train again\n",
        "csv_logger = keras.callbacks.CSVLogger('/content/gdrive/My Drive/data/williams_training_after.log')\n",
        "williams_model.fit(X_train, y_williams_train, batch_size = 2000, epochs = 20, verbose =1 ,callbacks=[csv_logger])\n",
        "print(f1(y_williams_train,williams_model.predict(X_train)))\n",
        "print(f1(y_williams_test,williams_model.predict(X_test)))"
      ],
      "execution_count": 0,
      "outputs": []
    },
    {
      "metadata": {
        "id": "DEDU1FXe-yAR",
        "colab_type": "code",
        "colab": {}
      },
      "cell_type": "code",
      "source": [
        "williams_model.save(\"/content/gdrive/My Drive/data/williams_cifar.model\")"
      ],
      "execution_count": 0,
      "outputs": []
    },
    {
      "metadata": {
        "id": "MvJDSOpqLiyE",
        "colab_type": "code",
        "colab": {}
      },
      "cell_type": "code",
      "source": [
        "# train again\n",
        "csv_logger = keras.callbacks.CSVLogger('/content/gdrive/My Drive/data/williams_training_after.log')\n",
        "williams_model.fit(X_train, y_williams_train, batch_size = 2000, epochs = 20, verbose =1 ,callbacks=[csv_logger])\n",
        "print(f1(y_williams_train,williams_model.predict(X_train)))\n",
        "print(f1(y_williams_test,williams_model.predict(X_test)))"
      ],
      "execution_count": 0,
      "outputs": []
    },
    {
      "metadata": {
        "id": "F4Q5VOU4Luay",
        "colab_type": "code",
        "colab": {}
      },
      "cell_type": "code",
      "source": [
        "williams_model.save(\"/content/gdrive/My Drive/data/williams_cifar_0.model\")"
      ],
      "execution_count": 0,
      "outputs": []
    },
    {
      "metadata": {
        "id": "TFT5WC8C039q",
        "colab_type": "code",
        "colab": {}
      },
      "cell_type": "code",
      "source": [
        "# train again\n",
        "csv_logger = keras.callbacks.CSVLogger('/content/gdrive/My Drive/data/williams_training_after.log')\n",
        "williams_model.fit(X_train, y_williams_train, batch_size = 2000, epochs = 20, verbose =1 ,callbacks=[csv_logger])\n",
        "print(f1(y_williams_train,williams_model.predict(X_train)))\n",
        "print(f1(y_williams_test,williams_model.predict(X_test)))"
      ],
      "execution_count": 0,
      "outputs": []
    },
    {
      "metadata": {
        "id": "rv3SClop1Eyu",
        "colab_type": "code",
        "colab": {}
      },
      "cell_type": "code",
      "source": [
        "williams_model.save(\"/content/gdrive/My Drive/data/williams_cifar_1.model\")"
      ],
      "execution_count": 0,
      "outputs": []
    },
    {
      "metadata": {
        "id": "s47X7Sen1IXx",
        "colab_type": "code",
        "colab": {}
      },
      "cell_type": "code",
      "source": [
        "# train again\n",
        "csv_logger = keras.callbacks.CSVLogger('/content/gdrive/My Drive/data/williams_training_after.log')\n",
        "williams_model.fit(X_train, y_williams_train, batch_size = 2000, epochs = 20, verbose =1 ,callbacks=[csv_logger])\n",
        "print(f1(y_williams_train,williams_model.predict(X_train)))\n",
        "print(f1(y_williams_test,williams_model.predict(X_test)))"
      ],
      "execution_count": 0,
      "outputs": []
    },
    {
      "metadata": {
        "id": "Cl__o0F91Ia9",
        "colab_type": "code",
        "colab": {}
      },
      "cell_type": "code",
      "source": [
        "williams_model.save(\"/content/gdrive/My Drive/data/williams_cifar_2.model\")"
      ],
      "execution_count": 0,
      "outputs": []
    },
    {
      "metadata": {
        "id": "bunukcE-1Iee",
        "colab_type": "code",
        "colab": {}
      },
      "cell_type": "code",
      "source": [
        "# train again\n",
        "csv_logger = keras.callbacks.CSVLogger('/content/gdrive/My Drive/data/williams_training_after.log')\n",
        "williams_model.fit(X_train, y_williams_train, batch_size = 2000, epochs = 20, verbose =1 ,callbacks=[csv_logger])\n",
        "print(f1(y_williams_train,williams_model.predict(X_train)))\n",
        "print(f1(y_williams_test,williams_model.predict(X_test)))"
      ],
      "execution_count": 0,
      "outputs": []
    },
    {
      "metadata": {
        "id": "YRt7v12t3eaE",
        "colab_type": "code",
        "colab": {}
      },
      "cell_type": "code",
      "source": [
        "williams_model.save(\"/content/gdrive/My Drive/data/williams_cifar_3.model\")"
      ],
      "execution_count": 0,
      "outputs": []
    },
    {
      "metadata": {
        "id": "oJbkG1DF3edE",
        "colab_type": "code",
        "colab": {}
      },
      "cell_type": "code",
      "source": [
        ""
      ],
      "execution_count": 0,
      "outputs": []
    },
    {
      "metadata": {
        "id": "N2Kf4E2_3egY",
        "colab_type": "code",
        "colab": {}
      },
      "cell_type": "code",
      "source": [
        ""
      ],
      "execution_count": 0,
      "outputs": []
    },
    {
      "metadata": {
        "id": "fKR8DF_x3ejf",
        "colab_type": "code",
        "colab": {}
      },
      "cell_type": "code",
      "source": [
        ""
      ],
      "execution_count": 0,
      "outputs": []
    }
  ]
}