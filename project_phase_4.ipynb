{
  "nbformat": 4,
  "nbformat_minor": 0,
  "metadata": {
    "colab": {
      "name": "project_phase_4.ipynb",
      "version": "0.3.2",
      "provenance": [],
      "collapsed_sections": []
    },
    "kernelspec": {
      "name": "python3",
      "display_name": "Python 3"
    },
    "accelerator": "GPU"
  },
  "cells": [
    {
      "metadata": {
        "id": "tzwEs7uo9TJl",
        "colab_type": "code",
        "outputId": "89b2c1dc-aee5-42ab-cb93-e7b9ca60239a",
        "colab": {
          "base_uri": "https://localhost:8080/",
          "height": 34
        }
      },
      "cell_type": "code",
      "source": [
        "import pandas as pd\n",
        "import numpy as np\n",
        "import keras\n",
        "# from sklearn.model_selection import train_test_split\n",
        "from sklearn.pipeline import Pipeline\n",
        "from sklearn.neighbors import KNeighborsClassifier\n",
        "from sklearn.model_selection import cross_validate, StratifiedKFold, train_test_split\n",
        "from sklearn.decomposition import PCA\n",
        "from sklearn.model_selection import GridSearchCV\n",
        "# from sklearn.metrics import f1_score\n",
        "from sklearn.svm import SVC\n",
        "from keras.models import Sequential\n",
        "from keras.layers import Dense, Dropout, Flatten\n",
        "from keras.layers import Conv2D, MaxPooling2D\n",
        "import pickle\n",
        "import time\n",
        "import tensorflow as tf"
      ],
      "execution_count": 0,
      "outputs": [
        {
          "output_type": "stream",
          "text": [
            "Using TensorFlow backend.\n"
          ],
          "name": "stderr"
        }
      ]
    },
    {
      "metadata": {
        "id": "3aQdk5rwjllP",
        "colab_type": "code",
        "outputId": "b092da32-3d62-41e2-8783-4f0cd4016761",
        "colab": {
          "base_uri": "https://localhost:8080/",
          "height": 34
        }
      },
      "cell_type": "code",
      "source": [
        "from google.colab import drive\n",
        "drive.mount('/content/gdrive')"
      ],
      "execution_count": 0,
      "outputs": [
        {
          "output_type": "stream",
          "text": [
            "Drive already mounted at /content/gdrive; to attempt to forcibly remount, call drive.mount(\"/content/gdrive\", force_remount=True).\n"
          ],
          "name": "stdout"
        }
      ]
    },
    {
      "metadata": {
        "id": "Tb5C0ZXaFd0c",
        "colab_type": "code",
        "colab": {}
      },
      "cell_type": "code",
      "source": [
        "from keras import backend as K\n",
        "def f1(y_true, y_pred):\n",
        "    y_pred = K.round(y_pred)\n",
        "    tp = K.sum(K.cast(y_true*y_pred, 'float'), axis=0)\n",
        "    tn = K.sum(K.cast((1-y_true)*(1-y_pred), 'float'), axis=0)\n",
        "    fp = K.sum(K.cast((1-y_true)*y_pred, 'float'), axis=0)\n",
        "    fn = K.sum(K.cast(y_true*(1-y_pred), 'float'), axis=0)\n",
        "\n",
        "    p = tp / (tp + fp + K.epsilon())\n",
        "    r = tp / (tp + fn + K.epsilon())\n",
        "\n",
        "    f1 = 2*p*r / (p+r+K.epsilon())\n",
        "    f1 = tf.where(tf.is_nan(f1), tf.zeros_like(f1), f1)\n",
        "    return K.mean(f1)"
      ],
      "execution_count": 0,
      "outputs": []
    },
    {
      "metadata": {
        "id": "5xVkwcGNwUPv",
        "colab_type": "code",
        "colab": {}
      },
      "cell_type": "code",
      "source": [
        "def f1_loss(y_true, y_pred):\n",
        "    \n",
        "    tp = K.sum(K.cast(y_true*y_pred, 'float'), axis=0)\n",
        "    tn = K.sum(K.cast((1-y_true)*(1-y_pred), 'float'), axis=0)\n",
        "    fp = K.sum(K.cast((1-y_true)*y_pred, 'float'), axis=0)\n",
        "    fn = K.sum(K.cast(y_true*(1-y_pred), 'float'), axis=0)\n",
        "\n",
        "    p = tp / (tp + fp + K.epsilon())\n",
        "    r = tp / (tp + fn + K.epsilon())\n",
        "\n",
        "    f1 = 2*p*r / (p+r+K.epsilon())\n",
        "    f1 = tf.where(tf.is_nan(f1), tf.zeros_like(f1), f1)\n",
        "    return  1 - K.mean(f1)"
      ],
      "execution_count": 0,
      "outputs": []
    },
    {
      "metadata": {
        "id": "mO205qFBjmwn",
        "colab_type": "code",
        "outputId": "08ec4958-4e17-42e4-9052-f33554d8fbb8",
        "colab": {
          "base_uri": "https://localhost:8080/",
          "height": 34
        }
      },
      "cell_type": "code",
      "source": [
        "start_time = time.time()\n",
        "y = pd.read_csv(\"/content/gdrive/My Drive/data/y_bush_vs_others.csv\", header= None)\n",
        "y_bush = y.values.ravel()\n",
        "y = pd.read_csv(\"/content/gdrive/My Drive/data/y_williams_vs_others.csv\", header= None)\n",
        "y_williams = y.values.ravel()\n",
        "print(\"--- %s seconds ---\" % (time.time() - start_time))"
      ],
      "execution_count": 0,
      "outputs": [
        {
          "output_type": "stream",
          "text": [
            "--- 0.021111011505126953 seconds ---\n"
          ],
          "name": "stdout"
        }
      ]
    },
    {
      "metadata": {
        "id": "NVOh0O_ojqFG",
        "colab_type": "code",
        "outputId": "2cbf1005-8530-4653-8df5-9bb64fe6853e",
        "colab": {
          "base_uri": "https://localhost:8080/",
          "height": 34
        }
      },
      "cell_type": "code",
      "source": [
        "start_time = time.time()\n",
        "X = pd.read_csv(\"/content/gdrive/My Drive/data/X.csv\", sep=' ', header= None, dtype= float)\n",
        "X = X.values\n",
        "print(\"--- %s seconds ---\" % (time.time() - start_time))"
      ],
      "execution_count": 0,
      "outputs": [
        {
          "output_type": "stream",
          "text": [
            "--- 24.795668601989746 seconds ---\n"
          ],
          "name": "stdout"
        }
      ]
    },
    {
      "metadata": {
        "id": "byJXDS2Tj2gx",
        "colab_type": "code",
        "colab": {}
      },
      "cell_type": "code",
      "source": [
        "X_train, X_test, y_bush_train, y_bush_test = train_test_split(X,y_bush, test_size=1./3, random_state = 6926, shuffle = True, stratify = y_bush)"
      ],
      "execution_count": 0,
      "outputs": []
    },
    {
      "metadata": {
        "id": "c-J2xvqOuo7u",
        "colab_type": "code",
        "outputId": "946b8cea-1fe7-4519-f143-9232f5964272",
        "colab": {
          "base_uri": "https://localhost:8080/",
          "height": 34
        }
      },
      "cell_type": "code",
      "source": [
        "X_train.shape"
      ],
      "execution_count": 0,
      "outputs": [
        {
          "output_type": "execute_result",
          "data": {
            "text/plain": [
              "(8822, 4096)"
            ]
          },
          "metadata": {
            "tags": []
          },
          "execution_count": 8
        }
      ]
    },
    {
      "metadata": {
        "id": "MoHHNBJ7uo_K",
        "colab_type": "code",
        "outputId": "1e84be3f-82d8-40f5-9a70-ffc0d88fc421",
        "colab": {
          "base_uri": "https://localhost:8080/",
          "height": 34
        }
      },
      "cell_type": "code",
      "source": [
        "X_test.shape"
      ],
      "execution_count": 0,
      "outputs": [
        {
          "output_type": "execute_result",
          "data": {
            "text/plain": [
              "(4411, 4096)"
            ]
          },
          "metadata": {
            "tags": []
          },
          "execution_count": 9
        }
      ]
    },
    {
      "metadata": {
        "id": "ba9Le0KNupDH",
        "colab_type": "code",
        "outputId": "c0588774-02ee-4313-d2de-755d1dc0d7c2",
        "colab": {
          "base_uri": "https://localhost:8080/",
          "height": 34
        }
      },
      "cell_type": "code",
      "source": [
        "X.shape"
      ],
      "execution_count": 0,
      "outputs": [
        {
          "output_type": "execute_result",
          "data": {
            "text/plain": [
              "(13233, 4096)"
            ]
          },
          "metadata": {
            "tags": []
          },
          "execution_count": 10
        }
      ]
    },
    {
      "metadata": {
        "id": "XjkzqijEupGa",
        "colab_type": "code",
        "colab": {}
      },
      "cell_type": "code",
      "source": [
        "X_train = X_train.reshape(8822,64,64,1)"
      ],
      "execution_count": 0,
      "outputs": []
    },
    {
      "metadata": {
        "id": "aTjwNWxEupJy",
        "colab_type": "code",
        "colab": {}
      },
      "cell_type": "code",
      "source": [
        "X_test = X_test.reshape(4411,64,64,1)"
      ],
      "execution_count": 0,
      "outputs": []
    },
    {
      "metadata": {
        "id": "54fksOGdSjfT",
        "colab_type": "code",
        "colab": {}
      },
      "cell_type": "code",
      "source": [
        "y_bush_train = y_bush_train.reshape(8822,1)\n",
        "y_bush_test = y_bush_test.reshape(4411,1)\n",
        "# y_bush_train_c = \n",
        "# "
      ],
      "execution_count": 0,
      "outputs": []
    },
    {
      "metadata": {
        "id": "0bPUN_-6UqH1",
        "colab_type": "code",
        "outputId": "b92ef32b-cf0e-4120-9548-68d67aa74c6e",
        "colab": {
          "base_uri": "https://localhost:8080/",
          "height": 34
        }
      },
      "cell_type": "code",
      "source": [
        "y_bush_train.shape"
      ],
      "execution_count": 0,
      "outputs": [
        {
          "output_type": "execute_result",
          "data": {
            "text/plain": [
              "(8822, 1)"
            ]
          },
          "metadata": {
            "tags": []
          },
          "execution_count": 14
        }
      ]
    },
    {
      "metadata": {
        "id": "D1cR8mXxupMn",
        "colab_type": "code",
        "outputId": "684b64f9-8c51-457b-fa81-eaf8ea810b70",
        "colab": {
          "base_uri": "https://localhost:8080/",
          "height": 34
        }
      },
      "cell_type": "code",
      "source": [
        "X_train.shape"
      ],
      "execution_count": 0,
      "outputs": [
        {
          "output_type": "execute_result",
          "data": {
            "text/plain": [
              "(8822, 64, 64, 1)"
            ]
          },
          "metadata": {
            "tags": []
          },
          "execution_count": 15
        }
      ]
    },
    {
      "metadata": {
        "id": "ZmDdYO_PupQD",
        "colab_type": "code",
        "outputId": "861e8e4a-d9ad-4e27-dfb5-f05a08d06199",
        "colab": {
          "base_uri": "https://localhost:8080/",
          "height": 34
        }
      },
      "cell_type": "code",
      "source": [
        "X_test.shape"
      ],
      "execution_count": 0,
      "outputs": [
        {
          "output_type": "execute_result",
          "data": {
            "text/plain": [
              "(4411, 64, 64, 1)"
            ]
          },
          "metadata": {
            "tags": []
          },
          "execution_count": 16
        }
      ]
    },
    {
      "metadata": {
        "id": "7Gpd7_UrupTL",
        "colab_type": "code",
        "colab": {}
      },
      "cell_type": "code",
      "source": [
        "bush_model = Sequential()"
      ],
      "execution_count": 0,
      "outputs": []
    },
    {
      "metadata": {
        "id": "4vaiI0ZQupWG",
        "colab_type": "code",
        "colab": {}
      },
      "cell_type": "code",
      "source": [
        "bush_model.add(Conv2D(32, kernel_size=(5, 5), strides=(1, 1), activation='relu',input_shape=(64,64,1)))\n",
        "bush_model.add(Conv2D(32, kernel_size=(5, 5), strides=(1, 1), activation='relu'))\n",
        "bush_model.add(MaxPooling2D(pool_size=(2, 2), strides=(2, 2)))\n",
        "\n",
        "bush_model.add(Conv2D(32, kernel_size=(3, 3), strides=(1, 1), activation='relu'))\n",
        "bush_model.add(Conv2D(32, kernel_size=(3, 3), strides=(1, 1), activation='relu'))\n",
        "bush_model.add(MaxPooling2D(pool_size=(2, 2), strides=(2, 2)))\n",
        "\n",
        "bush_model.add(Conv2D(32, kernel_size=(3, 3), strides=(1, 1), activation='relu'))\n",
        "bush_model.add(Conv2D(32, kernel_size=(3, 3), strides=(1, 1), activation='relu'))\n",
        "bush_model.add(MaxPooling2D(pool_size=(2, 2), strides=(2, 2)))\n",
        "\n",
        "bush_model.add(Flatten())\n",
        "bush_model.add(Dense(1000,activation='relu'))\n",
        "bush_model.add(Dense(1,activation='sigmoid'))"
      ],
      "execution_count": 0,
      "outputs": []
    },
    {
      "metadata": {
        "id": "d5eYRo3P7S9n",
        "colab_type": "code",
        "colab": {}
      },
      "cell_type": "code",
      "source": [
        "# bush_model.compile(loss=keras.losses.binary_crossentropy, optimizer=keras.optimizers.SGD(lr=0.05), metrics=[f1])\n",
        "# bush_model.compile(loss=keras.losses.categorical_crossentropy, optimizer=keras.optimizers.SGD(lr=0.01),metrics=[f1])\n",
        "# bush_model.compile(loss=keras.losses.binary_crossentropy, optimizer='adam', metrics=[f1])\n",
        "bush_model.compile(loss=f1_loss, optimizer='adam', metrics=[f1])"
      ],
      "execution_count": 0,
      "outputs": []
    },
    {
      "metadata": {
        "id": "L1pepoHm7TA-",
        "colab_type": "code",
        "outputId": "9b917d88-2cf3-4dfa-8a1c-40a1b6fdf256",
        "colab": {
          "base_uri": "https://localhost:8080/",
          "height": 3451
        }
      },
      "cell_type": "code",
      "source": [
        "csv_logger = keras.callbacks.CSVLogger('/content/gdrive/My Drive/data/bush_training.log')\n",
        "bush_model.fit(X_train, y_bush_train, batch_size = 500, epochs = 100, verbose =1 , validation_data = (X_test, y_bush_test),callbacks=[csv_logger])\n",
        "# bush_model.fit(X_train, y_bush_train_c, batch_size = 500, epochs = 10, verbose =1 , validation_data = (X_test, y_bush_test_c))"
      ],
      "execution_count": 0,
      "outputs": [
        {
          "output_type": "stream",
          "text": [
            "Train on 8822 samples, validate on 4411 samples\n",
            "Epoch 1/100\n",
            "8822/8822 [==============================] - 8s 932us/step - loss: 0.9236 - f1: 0.0737 - val_loss: 0.9229 - val_f1: 0.0771\n",
            "Epoch 2/100\n",
            "8822/8822 [==============================] - 4s 425us/step - loss: 0.9232 - f1: 0.0767 - val_loss: 0.9226 - val_f1: 0.0771\n",
            "Epoch 3/100\n",
            "8822/8822 [==============================] - 4s 425us/step - loss: 0.9102 - f1: 0.0979 - val_loss: 0.8754 - val_f1: 0.1355\n",
            "Epoch 4/100\n",
            "8822/8822 [==============================] - 4s 424us/step - loss: 0.8553 - f1: 0.1525 - val_loss: 0.8418 - val_f1: 0.1630\n",
            "Epoch 5/100\n",
            "8822/8822 [==============================] - 4s 425us/step - loss: 0.8265 - f1: 0.1841 - val_loss: 0.8487 - val_f1: 0.1539\n",
            "Epoch 6/100\n",
            "8822/8822 [==============================] - 4s 427us/step - loss: 0.7828 - f1: 0.2235 - val_loss: 0.7427 - val_f1: 0.2558\n",
            "Epoch 7/100\n",
            "8822/8822 [==============================] - 4s 426us/step - loss: 0.6753 - f1: 0.3333 - val_loss: 0.6537 - val_f1: 0.3500\n",
            "Epoch 8/100\n",
            "8822/8822 [==============================] - 4s 425us/step - loss: 0.6463 - f1: 0.3617 - val_loss: 0.6692 - val_f1: 0.3431\n",
            "Epoch 9/100\n",
            "8822/8822 [==============================] - 4s 426us/step - loss: 0.5933 - f1: 0.4109 - val_loss: 0.5947 - val_f1: 0.4170\n",
            "Epoch 10/100\n",
            "8822/8822 [==============================] - 4s 425us/step - loss: 0.5474 - f1: 0.4562 - val_loss: 0.5915 - val_f1: 0.4184\n",
            "Epoch 11/100\n",
            "8822/8822 [==============================] - 4s 425us/step - loss: 0.4470 - f1: 0.5597 - val_loss: 0.5020 - val_f1: 0.5116\n",
            "Epoch 12/100\n",
            "8822/8822 [==============================] - 4s 424us/step - loss: 0.4726 - f1: 0.5338 - val_loss: 0.5488 - val_f1: 0.4454\n",
            "Epoch 13/100\n",
            "8822/8822 [==============================] - 4s 426us/step - loss: 0.3830 - f1: 0.6213 - val_loss: 0.5353 - val_f1: 0.4638\n",
            "Epoch 14/100\n",
            "8822/8822 [==============================] - 4s 424us/step - loss: 0.3965 - f1: 0.6126 - val_loss: 0.4066 - val_f1: 0.6046\n",
            "Epoch 15/100\n",
            "8822/8822 [==============================] - 4s 429us/step - loss: 0.3955 - f1: 0.6107 - val_loss: 0.4903 - val_f1: 0.5176\n",
            "Epoch 16/100\n",
            "8822/8822 [==============================] - 4s 425us/step - loss: 0.3855 - f1: 0.6240 - val_loss: 0.4112 - val_f1: 0.5967\n",
            "Epoch 17/100\n",
            "8822/8822 [==============================] - 4s 424us/step - loss: 0.3307 - f1: 0.6773 - val_loss: 0.4034 - val_f1: 0.6143\n",
            "Epoch 18/100\n",
            "8822/8822 [==============================] - 4s 424us/step - loss: 0.2515 - f1: 0.7560 - val_loss: 0.3813 - val_f1: 0.6283\n",
            "Epoch 19/100\n",
            "8822/8822 [==============================] - 4s 426us/step - loss: 0.2464 - f1: 0.7550 - val_loss: 0.3369 - val_f1: 0.6645\n",
            "Epoch 20/100\n",
            "8822/8822 [==============================] - 4s 427us/step - loss: 0.2762 - f1: 0.7296 - val_loss: 0.3282 - val_f1: 0.6738\n",
            "Epoch 21/100\n",
            "8822/8822 [==============================] - 4s 428us/step - loss: 0.2172 - f1: 0.7871 - val_loss: 0.4619 - val_f1: 0.5437\n",
            "Epoch 22/100\n",
            "8822/8822 [==============================] - 4s 424us/step - loss: 0.1860 - f1: 0.8248 - val_loss: 0.3542 - val_f1: 0.6432\n",
            "Epoch 23/100\n",
            "8822/8822 [==============================] - 4s 425us/step - loss: 0.1722 - f1: 0.8339 - val_loss: 0.3048 - val_f1: 0.6980\n",
            "Epoch 24/100\n",
            "8822/8822 [==============================] - 4s 425us/step - loss: 0.1635 - f1: 0.8450 - val_loss: 0.2724 - val_f1: 0.7376\n",
            "Epoch 25/100\n",
            "8822/8822 [==============================] - 4s 426us/step - loss: 0.1580 - f1: 0.8446 - val_loss: 0.2589 - val_f1: 0.7482\n",
            "Epoch 26/100\n",
            "8822/8822 [==============================] - 4s 424us/step - loss: 0.1553 - f1: 0.8597 - val_loss: 0.2765 - val_f1: 0.7250\n",
            "Epoch 27/100\n",
            "8822/8822 [==============================] - 4s 425us/step - loss: 0.1359 - f1: 0.8782 - val_loss: 0.2511 - val_f1: 0.7502\n",
            "Epoch 28/100\n",
            "8822/8822 [==============================] - 4s 424us/step - loss: 0.1341 - f1: 0.8746 - val_loss: 0.3675 - val_f1: 0.6381\n",
            "Epoch 29/100\n",
            "8822/8822 [==============================] - 4s 427us/step - loss: 0.1071 - f1: 0.9000 - val_loss: 0.2425 - val_f1: 0.7602\n",
            "Epoch 30/100\n",
            "8822/8822 [==============================] - 4s 424us/step - loss: 0.1111 - f1: 0.8953 - val_loss: 0.2147 - val_f1: 0.7917\n",
            "Epoch 31/100\n",
            "8822/8822 [==============================] - 4s 425us/step - loss: 0.1049 - f1: 0.8998 - val_loss: 0.2338 - val_f1: 0.7763\n",
            "Epoch 32/100\n",
            "8822/8822 [==============================] - 4s 427us/step - loss: 0.0974 - f1: 0.9073 - val_loss: 0.2151 - val_f1: 0.7872\n",
            "Epoch 33/100\n",
            "8822/8822 [==============================] - 4s 427us/step - loss: 0.0738 - f1: 0.9274 - val_loss: 0.2172 - val_f1: 0.7833\n",
            "Epoch 34/100\n",
            "8822/8822 [==============================] - 4s 426us/step - loss: 0.0709 - f1: 0.9349 - val_loss: 0.2294 - val_f1: 0.7776\n",
            "Epoch 35/100\n",
            "8822/8822 [==============================] - 4s 426us/step - loss: 0.0683 - f1: 0.9341 - val_loss: 0.2534 - val_f1: 0.7546\n",
            "Epoch 36/100\n",
            "8822/8822 [==============================] - 4s 426us/step - loss: 0.0637 - f1: 0.9422 - val_loss: 0.2082 - val_f1: 0.8011\n",
            "Epoch 37/100\n",
            "8822/8822 [==============================] - 4s 424us/step - loss: 0.0622 - f1: 0.9417 - val_loss: 0.1934 - val_f1: 0.8153\n",
            "Epoch 38/100\n",
            "8822/8822 [==============================] - 4s 425us/step - loss: 0.0512 - f1: 0.9514 - val_loss: 0.1893 - val_f1: 0.8083\n",
            "Epoch 39/100\n",
            "8822/8822 [==============================] - 4s 425us/step - loss: 0.0542 - f1: 0.9481 - val_loss: 0.1824 - val_f1: 0.8132\n",
            "Epoch 40/100\n",
            "8822/8822 [==============================] - 4s 424us/step - loss: 0.0700 - f1: 0.9309 - val_loss: 0.2153 - val_f1: 0.7839\n",
            "Epoch 41/100\n",
            "8822/8822 [==============================] - 4s 425us/step - loss: 0.0532 - f1: 0.9502 - val_loss: 0.1808 - val_f1: 0.8192\n",
            "Epoch 42/100\n",
            "8822/8822 [==============================] - 4s 425us/step - loss: 0.0489 - f1: 0.9521 - val_loss: 0.2067 - val_f1: 0.7858\n",
            "Epoch 43/100\n",
            "8822/8822 [==============================] - 4s 424us/step - loss: 0.0483 - f1: 0.9528 - val_loss: 0.2025 - val_f1: 0.7914\n",
            "Epoch 44/100\n",
            "8822/8822 [==============================] - 4s 424us/step - loss: 0.0396 - f1: 0.9627 - val_loss: 0.2007 - val_f1: 0.8047\n",
            "Epoch 45/100\n",
            "8822/8822 [==============================] - 4s 426us/step - loss: 0.0419 - f1: 0.9629 - val_loss: 0.1877 - val_f1: 0.8077\n",
            "Epoch 46/100\n",
            "8822/8822 [==============================] - 4s 426us/step - loss: 0.0396 - f1: 0.9628 - val_loss: 0.1818 - val_f1: 0.8246\n",
            "Epoch 47/100\n",
            "8822/8822 [==============================] - 4s 426us/step - loss: 0.0381 - f1: 0.9628 - val_loss: 0.2045 - val_f1: 0.8036\n",
            "Epoch 48/100\n",
            "8822/8822 [==============================] - 4s 424us/step - loss: 0.0413 - f1: 0.9588 - val_loss: 0.1996 - val_f1: 0.8020\n",
            "Epoch 49/100\n",
            "8822/8822 [==============================] - 4s 426us/step - loss: 0.0387 - f1: 0.9633 - val_loss: 0.1830 - val_f1: 0.8219\n",
            "Epoch 50/100\n",
            "8822/8822 [==============================] - 4s 427us/step - loss: 0.0408 - f1: 0.9610 - val_loss: 0.1891 - val_f1: 0.8119\n",
            "Epoch 51/100\n",
            "8822/8822 [==============================] - 4s 425us/step - loss: 0.0433 - f1: 0.9572 - val_loss: 0.1949 - val_f1: 0.8111\n",
            "Epoch 52/100\n",
            "8822/8822 [==============================] - 4s 426us/step - loss: 0.0582 - f1: 0.9428 - val_loss: 0.1873 - val_f1: 0.8109\n",
            "Epoch 53/100\n",
            "8822/8822 [==============================] - 4s 424us/step - loss: 0.0653 - f1: 0.9376 - val_loss: 0.2437 - val_f1: 0.7592\n",
            "Epoch 54/100\n",
            "8822/8822 [==============================] - 4s 426us/step - loss: 0.0578 - f1: 0.9444 - val_loss: 0.2067 - val_f1: 0.7924\n",
            "Epoch 55/100\n",
            "8822/8822 [==============================] - 4s 426us/step - loss: 0.0586 - f1: 0.9427 - val_loss: 0.1496 - val_f1: 0.8490\n",
            "Epoch 56/100\n",
            "8822/8822 [==============================] - 4s 425us/step - loss: 0.0427 - f1: 0.9588 - val_loss: 0.1741 - val_f1: 0.8333\n",
            "Epoch 57/100\n",
            "8822/8822 [==============================] - 4s 426us/step - loss: 0.0413 - f1: 0.9596 - val_loss: 0.2175 - val_f1: 0.7762\n",
            "Epoch 58/100\n",
            "8822/8822 [==============================] - 4s 424us/step - loss: 0.0434 - f1: 0.9611 - val_loss: 0.3889 - val_f1: 0.6064\n",
            "Epoch 59/100\n",
            "8822/8822 [==============================] - 4s 426us/step - loss: 0.0821 - f1: 0.9203 - val_loss: 0.2191 - val_f1: 0.7798\n",
            "Epoch 60/100\n",
            "8822/8822 [==============================] - 4s 425us/step - loss: 0.0645 - f1: 0.9323 - val_loss: 0.2107 - val_f1: 0.7880\n",
            "Epoch 61/100\n",
            "8822/8822 [==============================] - 4s 427us/step - loss: 0.0445 - f1: 0.9589 - val_loss: 0.1988 - val_f1: 0.7984\n",
            "Epoch 62/100\n",
            "8822/8822 [==============================] - 4s 424us/step - loss: 0.0359 - f1: 0.9650 - val_loss: 0.1886 - val_f1: 0.8070\n",
            "Epoch 63/100\n",
            "8822/8822 [==============================] - 4s 426us/step - loss: 0.0501 - f1: 0.9529 - val_loss: 0.1958 - val_f1: 0.8091\n",
            "Epoch 64/100\n",
            "8822/8822 [==============================] - 4s 423us/step - loss: 0.0452 - f1: 0.9564 - val_loss: 0.2037 - val_f1: 0.7994\n",
            "Epoch 65/100\n",
            "8822/8822 [==============================] - 4s 428us/step - loss: 0.0466 - f1: 0.9548 - val_loss: 0.2043 - val_f1: 0.8049\n",
            "Epoch 66/100\n",
            "8822/8822 [==============================] - 4s 424us/step - loss: 0.0598 - f1: 0.9419 - val_loss: 0.2377 - val_f1: 0.7572\n",
            "Epoch 67/100\n",
            "8822/8822 [==============================] - 4s 424us/step - loss: 0.0516 - f1: 0.9521 - val_loss: 0.1832 - val_f1: 0.8192\n",
            "Epoch 68/100\n",
            "8822/8822 [==============================] - 4s 425us/step - loss: 0.0369 - f1: 0.9637 - val_loss: 0.1715 - val_f1: 0.8277\n",
            "Epoch 69/100\n",
            "8822/8822 [==============================] - 4s 424us/step - loss: 0.0333 - f1: 0.9666 - val_loss: 0.1917 - val_f1: 0.8142\n",
            "Epoch 70/100\n",
            "8822/8822 [==============================] - 4s 425us/step - loss: 0.0406 - f1: 0.9610 - val_loss: 0.1579 - val_f1: 0.8408\n",
            "Epoch 71/100\n",
            "8822/8822 [==============================] - 4s 426us/step - loss: 0.0374 - f1: 0.9649 - val_loss: 0.1830 - val_f1: 0.8170\n",
            "Epoch 72/100\n",
            "8822/8822 [==============================] - 4s 427us/step - loss: 0.0462 - f1: 0.9541 - val_loss: 0.1489 - val_f1: 0.8543\n",
            "Epoch 73/100\n",
            "8822/8822 [==============================] - 4s 423us/step - loss: 0.0407 - f1: 0.9594 - val_loss: 0.1856 - val_f1: 0.8182\n",
            "Epoch 74/100\n",
            "8822/8822 [==============================] - 4s 424us/step - loss: 0.0385 - f1: 0.9632 - val_loss: 0.1997 - val_f1: 0.7957\n",
            "Epoch 75/100\n",
            "8822/8822 [==============================] - 4s 425us/step - loss: 0.0338 - f1: 0.9683 - val_loss: 0.1887 - val_f1: 0.8126\n",
            "Epoch 76/100\n",
            "8822/8822 [==============================] - 4s 425us/step - loss: 0.0301 - f1: 0.9701 - val_loss: 0.1821 - val_f1: 0.8257\n",
            "Epoch 77/100\n",
            "8822/8822 [==============================] - 4s 424us/step - loss: 0.0274 - f1: 0.9726 - val_loss: 0.1696 - val_f1: 0.8337\n",
            "Epoch 78/100\n",
            "8822/8822 [==============================] - 4s 426us/step - loss: 0.0283 - f1: 0.9718 - val_loss: 0.1687 - val_f1: 0.8337\n",
            "Epoch 79/100\n",
            "8822/8822 [==============================] - 4s 423us/step - loss: 0.0252 - f1: 0.9748 - val_loss: 0.1693 - val_f1: 0.8310\n",
            "Epoch 80/100\n",
            "8822/8822 [==============================] - 4s 426us/step - loss: 0.0263 - f1: 0.9738 - val_loss: 0.1701 - val_f1: 0.8310\n",
            "Epoch 81/100\n",
            "8822/8822 [==============================] - 4s 424us/step - loss: 0.0266 - f1: 0.9734 - val_loss: 0.1707 - val_f1: 0.8310\n",
            "Epoch 82/100\n",
            "8822/8822 [==============================] - 4s 427us/step - loss: 0.0284 - f1: 0.9716 - val_loss: 0.1710 - val_f1: 0.8281\n",
            "Epoch 83/100\n",
            "8822/8822 [==============================] - 4s 424us/step - loss: 0.0271 - f1: 0.9729 - val_loss: 0.1713 - val_f1: 0.8245\n",
            "Epoch 84/100\n",
            "8822/8822 [==============================] - 4s 427us/step - loss: 0.0262 - f1: 0.9738 - val_loss: 0.1716 - val_f1: 0.8245\n",
            "Epoch 85/100\n",
            "8822/8822 [==============================] - 4s 427us/step - loss: 0.0280 - f1: 0.9720 - val_loss: 0.1717 - val_f1: 0.8245\n",
            "Epoch 86/100\n",
            "8822/8822 [==============================] - 4s 425us/step - loss: 0.0255 - f1: 0.9745 - val_loss: 0.1719 - val_f1: 0.8215\n",
            "Epoch 87/100\n",
            "8822/8822 [==============================] - 4s 427us/step - loss: 0.0277 - f1: 0.9724 - val_loss: 0.1721 - val_f1: 0.8215\n",
            "Epoch 88/100\n",
            "8822/8822 [==============================] - 4s 425us/step - loss: 0.0269 - f1: 0.9731 - val_loss: 0.1722 - val_f1: 0.8215\n",
            "Epoch 89/100\n",
            "8822/8822 [==============================] - 4s 426us/step - loss: 0.0265 - f1: 0.9735 - val_loss: 0.1724 - val_f1: 0.8215\n",
            "Epoch 90/100\n",
            "8822/8822 [==============================] - 4s 426us/step - loss: 0.0240 - f1: 0.9760 - val_loss: 0.1725 - val_f1: 0.8239\n",
            "Epoch 91/100\n",
            "8822/8822 [==============================] - 4s 425us/step - loss: 0.0267 - f1: 0.9733 - val_loss: 0.1727 - val_f1: 0.8239\n",
            "Epoch 92/100\n",
            "8822/8822 [==============================] - 4s 425us/step - loss: 0.0274 - f1: 0.9726 - val_loss: 0.1728 - val_f1: 0.8239\n",
            "Epoch 93/100\n",
            "8822/8822 [==============================] - 4s 427us/step - loss: 0.0306 - f1: 0.9694 - val_loss: 0.1729 - val_f1: 0.8268\n",
            "Epoch 94/100\n",
            "8822/8822 [==============================] - 4s 424us/step - loss: 0.0253 - f1: 0.9747 - val_loss: 0.1730 - val_f1: 0.8292\n",
            "Epoch 95/100\n",
            "8822/8822 [==============================] - 4s 428us/step - loss: 0.0284 - f1: 0.9716 - val_loss: 0.1731 - val_f1: 0.8292\n",
            "Epoch 96/100\n",
            "8822/8822 [==============================] - 4s 424us/step - loss: 0.0290 - f1: 0.9710 - val_loss: 0.1732 - val_f1: 0.8292\n",
            "Epoch 97/100\n",
            "8822/8822 [==============================] - 4s 425us/step - loss: 0.0266 - f1: 0.9734 - val_loss: 0.1733 - val_f1: 0.8292\n",
            "Epoch 98/100\n",
            "8822/8822 [==============================] - 4s 424us/step - loss: 0.0250 - f1: 0.9750 - val_loss: 0.1733 - val_f1: 0.8254\n",
            "Epoch 99/100\n",
            "8822/8822 [==============================] - 4s 429us/step - loss: 0.0266 - f1: 0.9734 - val_loss: 0.1734 - val_f1: 0.8254\n",
            "Epoch 100/100\n",
            "8822/8822 [==============================] - 4s 425us/step - loss: 0.0276 - f1: 0.9724 - val_loss: 0.1735 - val_f1: 0.8254\n"
          ],
          "name": "stdout"
        },
        {
          "output_type": "execute_result",
          "data": {
            "text/plain": [
              "<keras.callbacks.History at 0x7f03ef565a58>"
            ]
          },
          "metadata": {
            "tags": []
          },
          "execution_count": 20
        }
      ]
    },
    {
      "metadata": {
        "id": "6NJt2zl27TEO",
        "colab_type": "code",
        "colab": {}
      },
      "cell_type": "code",
      "source": [
        "bush_model.save(\"/content/gdrive/My Drive/data/bush.model\")"
      ],
      "execution_count": 0,
      "outputs": []
    },
    {
      "metadata": {
        "id": "MEUCk5h07THn",
        "colab_type": "code",
        "colab": {}
      },
      "cell_type": "code",
      "source": [
        ""
      ],
      "execution_count": 0,
      "outputs": []
    },
    {
      "metadata": {
        "id": "dmEnsvIL7TLS",
        "colab_type": "code",
        "colab": {}
      },
      "cell_type": "code",
      "source": [
        ""
      ],
      "execution_count": 0,
      "outputs": []
    },
    {
      "metadata": {
        "id": "OFnoFa_J4AD6",
        "colab_type": "code",
        "colab": {}
      },
      "cell_type": "code",
      "source": [
        ""
      ],
      "execution_count": 0,
      "outputs": []
    },
    {
      "metadata": {
        "id": "NKUl5Fhb4AHM",
        "colab_type": "code",
        "colab": {}
      },
      "cell_type": "code",
      "source": [
        ""
      ],
      "execution_count": 0,
      "outputs": []
    },
    {
      "metadata": {
        "id": "13sUTktr4AKY",
        "colab_type": "code",
        "colab": {}
      },
      "cell_type": "code",
      "source": [
        ""
      ],
      "execution_count": 0,
      "outputs": []
    },
    {
      "metadata": {
        "id": "rKe0fVtc4ANx",
        "colab_type": "code",
        "colab": {}
      },
      "cell_type": "code",
      "source": [
        ""
      ],
      "execution_count": 0,
      "outputs": []
    },
    {
      "metadata": {
        "id": "COmSatFV4ARI",
        "colab_type": "code",
        "colab": {}
      },
      "cell_type": "code",
      "source": [
        ""
      ],
      "execution_count": 0,
      "outputs": []
    }
  ]
}